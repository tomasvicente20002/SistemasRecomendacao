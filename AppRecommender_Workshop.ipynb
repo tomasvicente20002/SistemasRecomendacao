{
  "cells": [
    {
      "cell_type": "markdown",
      "metadata": {
        "id": "view-in-github",
        "colab_type": "text"
      },
      "source": [
        "<a href=\"https://colab.research.google.com/github/tomasvicente20002/SistemasRecomendacao/blob/main/AppRecommender_Workshop.ipynb\" target=\"_parent\"><img src=\"https://colab.research.google.com/assets/colab-badge.svg\" alt=\"Open In Colab\"/></a>"
      ]
    },
    {
      "cell_type": "code",
      "execution_count": null,
      "metadata": {
        "id": "kQdrDF18OFVO"
      },
      "outputs": [],
      "source": [
        "import csv\n",
        "import pandas as pd\n",
        "import numpy as np\n",
        "import matplotlib.pyplot as plt"
      ]
    },
    {
      "cell_type": "markdown",
      "source": [
        "**Montar o Google Drive no Colab**\n"
      ],
      "metadata": {
        "id": "Q08cMxigTqwH"
      }
    },
    {
      "cell_type": "code",
      "source": [
        "from google.colab import drive\n",
        "\n",
        "drive.mount('/content/drive')"
      ],
      "metadata": {
        "colab": {
          "base_uri": "https://localhost:8080/"
        },
        "id": "4sp7FcHNTBSS",
        "outputId": "61740b8e-fe43-49b7-e18e-0cd64549d8da"
      },
      "execution_count": null,
      "outputs": [
        {
          "output_type": "stream",
          "name": "stdout",
          "text": [
            "Mounted at /content/drive\n"
          ]
        }
      ]
    },
    {
      "cell_type": "markdown",
      "metadata": {
        "id": "rWWsQU14OFVQ"
      },
      "source": [
        "# Carregar a base de dados\n",
        "\n",
        "O Steam é o hub de jogos para PC mais popular do mundo. Com uma enorme coleção que inclui de tudo, desde blockbusters AAA a pequenos títulos independentes.\n",
        "\n",
        "Este conjunto de dados é uma lista de *comportamentos* do usuário, com colunas: ID do usuário, Título do jogo, Tipo de comportamento (comprado ou jogado), Horas ('purchase' = 1 e ´play' representa o número de horas que o usuário jogou o game).\n",
        "\n",
        "Esse conjunto de dados é gerado inteiramente a partir de dados públicos do Steam."
      ]
    },
    {
      "cell_type": "markdown",
      "source": [
        "**Atenção**:\n",
        "O ficheiro de dados foi salvo na pasta *Colab Notebooks*, entretanto pode ser salvo onde lhe apetecer"
      ],
      "metadata": {
        "id": "tP621SgTT_cx"
      }
    },
    {
      "cell_type": "code",
      "execution_count": null,
      "metadata": {
        "id": "DTw5bIdcOFVR"
      },
      "outputs": [],
      "source": [
        "headers = ['Id_user','Game','Behavior','Time','0']\n",
        "\n",
        "data=pd.read_csv('/content/drive/My Drive/Colab Notebooks/steam200k ma.csv',sep=';',names=headers)\n",
        "data=data.drop(['0'], axis=1)"
      ]
    },
    {
      "cell_type": "markdown",
      "metadata": {
        "id": "opnCi3cUOFVS"
      },
      "source": [
        "# Mostrar a tabela ordenada por Game\n",
        "\n",
        "sort_values - ordenar\n",
        "\n",
        "head(10) - Esta função retorna as primeiras 10 linhas para o objeto com base na posição.\n",
        "\n",
        "É útil para testar rapidamente se o seu objeto possui o tipo certo de dados.\n",
        "\n",
        "Experimente:\n",
        "\n",
        "(1) Ordenar por ´Time', 'Id_user' ou 'Behavior'\n",
        "\n",
        "(2) Trocar a função head() pela função tail() - esta retorna as últimas *n* linhas"
      ]
    },
    {
      "cell_type": "code",
      "execution_count": null,
      "metadata": {
        "scrolled": true,
        "id": "VvSSglvxOFVS",
        "outputId": "168733d8-845f-46e2-90f4-107e5efa7a2f",
        "colab": {
          "base_uri": "https://localhost:8080/",
          "height": 363
        }
      },
      "outputs": [
        {
          "output_type": "execute_result",
          "data": {
            "text/plain": [
              "         Id_user                                               Game  Behavior  \\\n",
              "63495   46055854                                        007 Legends      play   \n",
              "63494   46055854                                        007 Legends  purchase   \n",
              "193276  93030550                                          0RBITALIS  purchase   \n",
              "112168  11940338                                          0RBITALIS  purchase   \n",
              "59129   86055705                                          0RBITALIS  purchase   \n",
              "112169  11940338                                          0RBITALIS      play   \n",
              "59130   86055705                                          0RBITALIS      play   \n",
              "193277  93030550                                          0RBITALIS      play   \n",
              "98805   35701646  1... 2... 3... KICK IT! (Drop That Beat Like a...  purchase   \n",
              "166438  50818751  1... 2... 3... KICK IT! (Drop That Beat Like a...  purchase   \n",
              "\n",
              "        Time  \n",
              "63495    0.7  \n",
              "63494    1.0  \n",
              "193276   1.0  \n",
              "112168   1.0  \n",
              "59129    1.0  \n",
              "112169   0.6  \n",
              "59130    0.3  \n",
              "193277   0.3  \n",
              "98805    1.0  \n",
              "166438   1.0  "
            ],
            "text/html": [
              "\n",
              "  <div id=\"df-22e8967b-61cf-4a80-96de-b0a6a3a6cf05\">\n",
              "    <div class=\"colab-df-container\">\n",
              "      <div>\n",
              "<style scoped>\n",
              "    .dataframe tbody tr th:only-of-type {\n",
              "        vertical-align: middle;\n",
              "    }\n",
              "\n",
              "    .dataframe tbody tr th {\n",
              "        vertical-align: top;\n",
              "    }\n",
              "\n",
              "    .dataframe thead th {\n",
              "        text-align: right;\n",
              "    }\n",
              "</style>\n",
              "<table border=\"1\" class=\"dataframe\">\n",
              "  <thead>\n",
              "    <tr style=\"text-align: right;\">\n",
              "      <th></th>\n",
              "      <th>Id_user</th>\n",
              "      <th>Game</th>\n",
              "      <th>Behavior</th>\n",
              "      <th>Time</th>\n",
              "    </tr>\n",
              "  </thead>\n",
              "  <tbody>\n",
              "    <tr>\n",
              "      <th>63495</th>\n",
              "      <td>46055854</td>\n",
              "      <td>007 Legends</td>\n",
              "      <td>play</td>\n",
              "      <td>0.7</td>\n",
              "    </tr>\n",
              "    <tr>\n",
              "      <th>63494</th>\n",
              "      <td>46055854</td>\n",
              "      <td>007 Legends</td>\n",
              "      <td>purchase</td>\n",
              "      <td>1.0</td>\n",
              "    </tr>\n",
              "    <tr>\n",
              "      <th>193276</th>\n",
              "      <td>93030550</td>\n",
              "      <td>0RBITALIS</td>\n",
              "      <td>purchase</td>\n",
              "      <td>1.0</td>\n",
              "    </tr>\n",
              "    <tr>\n",
              "      <th>112168</th>\n",
              "      <td>11940338</td>\n",
              "      <td>0RBITALIS</td>\n",
              "      <td>purchase</td>\n",
              "      <td>1.0</td>\n",
              "    </tr>\n",
              "    <tr>\n",
              "      <th>59129</th>\n",
              "      <td>86055705</td>\n",
              "      <td>0RBITALIS</td>\n",
              "      <td>purchase</td>\n",
              "      <td>1.0</td>\n",
              "    </tr>\n",
              "    <tr>\n",
              "      <th>112169</th>\n",
              "      <td>11940338</td>\n",
              "      <td>0RBITALIS</td>\n",
              "      <td>play</td>\n",
              "      <td>0.6</td>\n",
              "    </tr>\n",
              "    <tr>\n",
              "      <th>59130</th>\n",
              "      <td>86055705</td>\n",
              "      <td>0RBITALIS</td>\n",
              "      <td>play</td>\n",
              "      <td>0.3</td>\n",
              "    </tr>\n",
              "    <tr>\n",
              "      <th>193277</th>\n",
              "      <td>93030550</td>\n",
              "      <td>0RBITALIS</td>\n",
              "      <td>play</td>\n",
              "      <td>0.3</td>\n",
              "    </tr>\n",
              "    <tr>\n",
              "      <th>98805</th>\n",
              "      <td>35701646</td>\n",
              "      <td>1... 2... 3... KICK IT! (Drop That Beat Like a...</td>\n",
              "      <td>purchase</td>\n",
              "      <td>1.0</td>\n",
              "    </tr>\n",
              "    <tr>\n",
              "      <th>166438</th>\n",
              "      <td>50818751</td>\n",
              "      <td>1... 2... 3... KICK IT! (Drop That Beat Like a...</td>\n",
              "      <td>purchase</td>\n",
              "      <td>1.0</td>\n",
              "    </tr>\n",
              "  </tbody>\n",
              "</table>\n",
              "</div>\n",
              "      <button class=\"colab-df-convert\" onclick=\"convertToInteractive('df-22e8967b-61cf-4a80-96de-b0a6a3a6cf05')\"\n",
              "              title=\"Convert this dataframe to an interactive table.\"\n",
              "              style=\"display:none;\">\n",
              "        \n",
              "  <svg xmlns=\"http://www.w3.org/2000/svg\" height=\"24px\"viewBox=\"0 0 24 24\"\n",
              "       width=\"24px\">\n",
              "    <path d=\"M0 0h24v24H0V0z\" fill=\"none\"/>\n",
              "    <path d=\"M18.56 5.44l.94 2.06.94-2.06 2.06-.94-2.06-.94-.94-2.06-.94 2.06-2.06.94zm-11 1L8.5 8.5l.94-2.06 2.06-.94-2.06-.94L8.5 2.5l-.94 2.06-2.06.94zm10 10l.94 2.06.94-2.06 2.06-.94-2.06-.94-.94-2.06-.94 2.06-2.06.94z\"/><path d=\"M17.41 7.96l-1.37-1.37c-.4-.4-.92-.59-1.43-.59-.52 0-1.04.2-1.43.59L10.3 9.45l-7.72 7.72c-.78.78-.78 2.05 0 2.83L4 21.41c.39.39.9.59 1.41.59.51 0 1.02-.2 1.41-.59l7.78-7.78 2.81-2.81c.8-.78.8-2.07 0-2.86zM5.41 20L4 18.59l7.72-7.72 1.47 1.35L5.41 20z\"/>\n",
              "  </svg>\n",
              "      </button>\n",
              "      \n",
              "  <style>\n",
              "    .colab-df-container {\n",
              "      display:flex;\n",
              "      flex-wrap:wrap;\n",
              "      gap: 12px;\n",
              "    }\n",
              "\n",
              "    .colab-df-convert {\n",
              "      background-color: #E8F0FE;\n",
              "      border: none;\n",
              "      border-radius: 50%;\n",
              "      cursor: pointer;\n",
              "      display: none;\n",
              "      fill: #1967D2;\n",
              "      height: 32px;\n",
              "      padding: 0 0 0 0;\n",
              "      width: 32px;\n",
              "    }\n",
              "\n",
              "    .colab-df-convert:hover {\n",
              "      background-color: #E2EBFA;\n",
              "      box-shadow: 0px 1px 2px rgba(60, 64, 67, 0.3), 0px 1px 3px 1px rgba(60, 64, 67, 0.15);\n",
              "      fill: #174EA6;\n",
              "    }\n",
              "\n",
              "    [theme=dark] .colab-df-convert {\n",
              "      background-color: #3B4455;\n",
              "      fill: #D2E3FC;\n",
              "    }\n",
              "\n",
              "    [theme=dark] .colab-df-convert:hover {\n",
              "      background-color: #434B5C;\n",
              "      box-shadow: 0px 1px 3px 1px rgba(0, 0, 0, 0.15);\n",
              "      filter: drop-shadow(0px 1px 2px rgba(0, 0, 0, 0.3));\n",
              "      fill: #FFFFFF;\n",
              "    }\n",
              "  </style>\n",
              "\n",
              "      <script>\n",
              "        const buttonEl =\n",
              "          document.querySelector('#df-22e8967b-61cf-4a80-96de-b0a6a3a6cf05 button.colab-df-convert');\n",
              "        buttonEl.style.display =\n",
              "          google.colab.kernel.accessAllowed ? 'block' : 'none';\n",
              "\n",
              "        async function convertToInteractive(key) {\n",
              "          const element = document.querySelector('#df-22e8967b-61cf-4a80-96de-b0a6a3a6cf05');\n",
              "          const dataTable =\n",
              "            await google.colab.kernel.invokeFunction('convertToInteractive',\n",
              "                                                     [key], {});\n",
              "          if (!dataTable) return;\n",
              "\n",
              "          const docLinkHtml = 'Like what you see? Visit the ' +\n",
              "            '<a target=\"_blank\" href=https://colab.research.google.com/notebooks/data_table.ipynb>data table notebook</a>'\n",
              "            + ' to learn more about interactive tables.';\n",
              "          element.innerHTML = '';\n",
              "          dataTable['output_type'] = 'display_data';\n",
              "          await google.colab.output.renderOutput(dataTable, element);\n",
              "          const docLink = document.createElement('div');\n",
              "          docLink.innerHTML = docLinkHtml;\n",
              "          element.appendChild(docLink);\n",
              "        }\n",
              "      </script>\n",
              "    </div>\n",
              "  </div>\n",
              "  "
            ]
          },
          "metadata": {},
          "execution_count": 4
        }
      ],
      "source": [
        "data.sort_values(by=['Game'],inplace=True)\n",
        "data.head(10)"
      ]
    },
    {
      "cell_type": "markdown",
      "metadata": {
        "id": "XW7ibpGZOFVU"
      },
      "source": [
        "# Informação inicial dos dados\n"
      ]
    },
    {
      "cell_type": "markdown",
      "metadata": {
        "id": "nCXb3DzAOFVU"
      },
      "source": [
        "Ver a dimensão do DataFrame.\n",
        "\n",
        "shape - retorne uma tupla representando a dimensionalidade do DataFrame."
      ]
    },
    {
      "cell_type": "code",
      "execution_count": null,
      "metadata": {
        "id": "D2UzDMtaOFVU",
        "outputId": "98495049-51e0-49cd-d177-407635c59475",
        "colab": {
          "base_uri": "https://localhost:8080/"
        }
      },
      "outputs": [
        {
          "output_type": "stream",
          "name": "stdout",
          "text": [
            "Configuração da tabela: (199975, 4)\n"
          ]
        }
      ],
      "source": [
        "print ( 'Configuração da tabela:' ,  data.shape )"
      ]
    },
    {
      "cell_type": "markdown",
      "metadata": {
        "id": "Z1LOIsAfOFVV"
      },
      "source": [
        "Contar o número de usuários: usar nunique().\n",
        "\n",
        "Experimente contar o número de games também."
      ]
    },
    {
      "cell_type": "code",
      "execution_count": null,
      "metadata": {
        "id": "1L-e3IbvOFVV",
        "outputId": "2968d6c0-267f-4bdb-f69e-3f55abebadfc",
        "colab": {
          "base_uri": "https://localhost:8080/"
        }
      },
      "outputs": [
        {
          "output_type": "stream",
          "name": "stdout",
          "text": [
            "Usuários únicos no conjunto de dados: 12393\n"
          ]
        }
      ],
      "source": [
        "print ( 'Usuários únicos no conjunto de dados:' ,  data.Id_user.nunique ())"
      ]
    },
    {
      "cell_type": "code",
      "execution_count": null,
      "metadata": {
        "id": "tOD8YKQSOFVW",
        "outputId": "786858b1-7dc5-494d-f69d-102da3c896b1",
        "colab": {
          "base_uri": "https://localhost:8080/"
        }
      },
      "outputs": [
        {
          "output_type": "stream",
          "name": "stdout",
          "text": [
            "Jogos exclusivos no conjunto de dados: 5152\n"
          ]
        }
      ],
      "source": [
        "print ( 'Jogos exclusivos no conjunto de dados:' ,  data.Game.nunique ())"
      ]
    },
    {
      "cell_type": "markdown",
      "metadata": {
        "id": "ds7AerH_OFVW"
      },
      "source": [
        "Verificar se existem linhas duplicadas e, caso existam, removê-las."
      ]
    },
    {
      "cell_type": "code",
      "execution_count": null,
      "metadata": {
        "id": "5l_o-m05OFVW",
        "outputId": "3e3881cb-49cc-4e75-92f3-d9952c39fb22",
        "colab": {
          "base_uri": "https://localhost:8080/",
          "height": 206
        }
      },
      "outputs": [
        {
          "output_type": "execute_result",
          "data": {
            "text/plain": [
              "         Id_user         Game  Behavior  Time\n",
              "63495   46055854  007 Legends      play   0.7\n",
              "63494   46055854  007 Legends  purchase   1.0\n",
              "193276  93030550    0RBITALIS  purchase   1.0\n",
              "112168  11940338    0RBITALIS  purchase   1.0\n",
              "59129   86055705    0RBITALIS  purchase   1.0"
            ],
            "text/html": [
              "\n",
              "  <div id=\"df-b9554447-6244-4b16-91a7-c8996e8edfe1\">\n",
              "    <div class=\"colab-df-container\">\n",
              "      <div>\n",
              "<style scoped>\n",
              "    .dataframe tbody tr th:only-of-type {\n",
              "        vertical-align: middle;\n",
              "    }\n",
              "\n",
              "    .dataframe tbody tr th {\n",
              "        vertical-align: top;\n",
              "    }\n",
              "\n",
              "    .dataframe thead th {\n",
              "        text-align: right;\n",
              "    }\n",
              "</style>\n",
              "<table border=\"1\" class=\"dataframe\">\n",
              "  <thead>\n",
              "    <tr style=\"text-align: right;\">\n",
              "      <th></th>\n",
              "      <th>Id_user</th>\n",
              "      <th>Game</th>\n",
              "      <th>Behavior</th>\n",
              "      <th>Time</th>\n",
              "    </tr>\n",
              "  </thead>\n",
              "  <tbody>\n",
              "    <tr>\n",
              "      <th>63495</th>\n",
              "      <td>46055854</td>\n",
              "      <td>007 Legends</td>\n",
              "      <td>play</td>\n",
              "      <td>0.7</td>\n",
              "    </tr>\n",
              "    <tr>\n",
              "      <th>63494</th>\n",
              "      <td>46055854</td>\n",
              "      <td>007 Legends</td>\n",
              "      <td>purchase</td>\n",
              "      <td>1.0</td>\n",
              "    </tr>\n",
              "    <tr>\n",
              "      <th>193276</th>\n",
              "      <td>93030550</td>\n",
              "      <td>0RBITALIS</td>\n",
              "      <td>purchase</td>\n",
              "      <td>1.0</td>\n",
              "    </tr>\n",
              "    <tr>\n",
              "      <th>112168</th>\n",
              "      <td>11940338</td>\n",
              "      <td>0RBITALIS</td>\n",
              "      <td>purchase</td>\n",
              "      <td>1.0</td>\n",
              "    </tr>\n",
              "    <tr>\n",
              "      <th>59129</th>\n",
              "      <td>86055705</td>\n",
              "      <td>0RBITALIS</td>\n",
              "      <td>purchase</td>\n",
              "      <td>1.0</td>\n",
              "    </tr>\n",
              "  </tbody>\n",
              "</table>\n",
              "</div>\n",
              "      <button class=\"colab-df-convert\" onclick=\"convertToInteractive('df-b9554447-6244-4b16-91a7-c8996e8edfe1')\"\n",
              "              title=\"Convert this dataframe to an interactive table.\"\n",
              "              style=\"display:none;\">\n",
              "        \n",
              "  <svg xmlns=\"http://www.w3.org/2000/svg\" height=\"24px\"viewBox=\"0 0 24 24\"\n",
              "       width=\"24px\">\n",
              "    <path d=\"M0 0h24v24H0V0z\" fill=\"none\"/>\n",
              "    <path d=\"M18.56 5.44l.94 2.06.94-2.06 2.06-.94-2.06-.94-.94-2.06-.94 2.06-2.06.94zm-11 1L8.5 8.5l.94-2.06 2.06-.94-2.06-.94L8.5 2.5l-.94 2.06-2.06.94zm10 10l.94 2.06.94-2.06 2.06-.94-2.06-.94-.94-2.06-.94 2.06-2.06.94z\"/><path d=\"M17.41 7.96l-1.37-1.37c-.4-.4-.92-.59-1.43-.59-.52 0-1.04.2-1.43.59L10.3 9.45l-7.72 7.72c-.78.78-.78 2.05 0 2.83L4 21.41c.39.39.9.59 1.41.59.51 0 1.02-.2 1.41-.59l7.78-7.78 2.81-2.81c.8-.78.8-2.07 0-2.86zM5.41 20L4 18.59l7.72-7.72 1.47 1.35L5.41 20z\"/>\n",
              "  </svg>\n",
              "      </button>\n",
              "      \n",
              "  <style>\n",
              "    .colab-df-container {\n",
              "      display:flex;\n",
              "      flex-wrap:wrap;\n",
              "      gap: 12px;\n",
              "    }\n",
              "\n",
              "    .colab-df-convert {\n",
              "      background-color: #E8F0FE;\n",
              "      border: none;\n",
              "      border-radius: 50%;\n",
              "      cursor: pointer;\n",
              "      display: none;\n",
              "      fill: #1967D2;\n",
              "      height: 32px;\n",
              "      padding: 0 0 0 0;\n",
              "      width: 32px;\n",
              "    }\n",
              "\n",
              "    .colab-df-convert:hover {\n",
              "      background-color: #E2EBFA;\n",
              "      box-shadow: 0px 1px 2px rgba(60, 64, 67, 0.3), 0px 1px 3px 1px rgba(60, 64, 67, 0.15);\n",
              "      fill: #174EA6;\n",
              "    }\n",
              "\n",
              "    [theme=dark] .colab-df-convert {\n",
              "      background-color: #3B4455;\n",
              "      fill: #D2E3FC;\n",
              "    }\n",
              "\n",
              "    [theme=dark] .colab-df-convert:hover {\n",
              "      background-color: #434B5C;\n",
              "      box-shadow: 0px 1px 3px 1px rgba(0, 0, 0, 0.15);\n",
              "      filter: drop-shadow(0px 1px 2px rgba(0, 0, 0, 0.3));\n",
              "      fill: #FFFFFF;\n",
              "    }\n",
              "  </style>\n",
              "\n",
              "      <script>\n",
              "        const buttonEl =\n",
              "          document.querySelector('#df-b9554447-6244-4b16-91a7-c8996e8edfe1 button.colab-df-convert');\n",
              "        buttonEl.style.display =\n",
              "          google.colab.kernel.accessAllowed ? 'block' : 'none';\n",
              "\n",
              "        async function convertToInteractive(key) {\n",
              "          const element = document.querySelector('#df-b9554447-6244-4b16-91a7-c8996e8edfe1');\n",
              "          const dataTable =\n",
              "            await google.colab.kernel.invokeFunction('convertToInteractive',\n",
              "                                                     [key], {});\n",
              "          if (!dataTable) return;\n",
              "\n",
              "          const docLinkHtml = 'Like what you see? Visit the ' +\n",
              "            '<a target=\"_blank\" href=https://colab.research.google.com/notebooks/data_table.ipynb>data table notebook</a>'\n",
              "            + ' to learn more about interactive tables.';\n",
              "          element.innerHTML = '';\n",
              "          dataTable['output_type'] = 'display_data';\n",
              "          await google.colab.output.renderOutput(dataTable, element);\n",
              "          const docLink = document.createElement('div');\n",
              "          docLink.innerHTML = docLinkHtml;\n",
              "          element.appendChild(docLink);\n",
              "        }\n",
              "      </script>\n",
              "    </div>\n",
              "  </div>\n",
              "  "
            ]
          },
          "metadata": {},
          "execution_count": 8
        }
      ],
      "source": [
        "data=data.drop_duplicates()\n",
        "data.head(5)"
      ]
    },
    {
      "cell_type": "code",
      "execution_count": null,
      "metadata": {
        "id": "ltAwbLRsOFVX",
        "outputId": "b11d35d7-2c3f-4997-e1d9-47be4a65ba88",
        "colab": {
          "base_uri": "https://localhost:8080/"
        }
      },
      "outputs": [
        {
          "output_type": "stream",
          "name": "stdout",
          "text": [
            "Configuração após remoção de dados duplicados: (199268, 4)\n"
          ]
        }
      ],
      "source": [
        "print ( 'Configuração após remoção de dados duplicados:' ,  data.shape )"
      ]
    },
    {
      "cell_type": "markdown",
      "metadata": {
        "id": "hOrcWgqAOFVX"
      },
      "source": [
        "# Separar por **Behavior** e gerar tabela apenas com dados válidos"
      ]
    },
    {
      "cell_type": "markdown",
      "metadata": {
        "id": "0MtWu5NtOFVY"
      },
      "source": [
        "Contar quantos usuários possuem **'Behavior' = 'play'.**"
      ]
    },
    {
      "cell_type": "code",
      "execution_count": null,
      "metadata": {
        "id": "7aif89WEOFVY",
        "outputId": "dadb6a94-a6eb-4950-d813-db39c34d9b49",
        "colab": {
          "base_uri": "https://localhost:8080/"
        }
      },
      "outputs": [
        {
          "output_type": "stream",
          "name": "stdout",
          "text": [
            "Play: 70480\n"
          ]
        }
      ],
      "source": [
        "data_play=data[(data['Behavior'] =='play')]\n",
        "count_play=data_play.Behavior.count()\n",
        "print('Play:', count_play)"
      ]
    },
    {
      "cell_type": "markdown",
      "metadata": {
        "id": "pssSVF37OFVY"
      },
      "source": [
        "Contar quantos usuários possuem **'Behavior' = 'purchase'.**"
      ]
    },
    {
      "cell_type": "code",
      "execution_count": null,
      "metadata": {
        "id": "44HlYiTXOFVY",
        "outputId": "4e8810cf-5a56-4f1c-fcc3-fe3075d2b95b",
        "colab": {
          "base_uri": "https://localhost:8080/"
        }
      },
      "outputs": [
        {
          "output_type": "stream",
          "name": "stdout",
          "text": [
            "Purchase: 128788\n"
          ]
        }
      ],
      "source": [
        "data_purchase=data[(data['Behavior'] =='purchase')]\n",
        "count_purchase=data_purchase.Behavior.count()\n",
        "print('Purchase:', count_purchase)"
      ]
    },
    {
      "cell_type": "markdown",
      "metadata": {
        "id": "x7ne39-wOFVZ"
      },
      "source": [
        "Verificar se existem usuários que não estão com **nenhum valor para 'Behavior'.**"
      ]
    },
    {
      "cell_type": "code",
      "execution_count": null,
      "metadata": {
        "id": "Rr_STYuOOFVZ",
        "outputId": "395793e5-471c-4ebf-e9f5-f4487a23744b",
        "colab": {
          "base_uri": "https://localhost:8080/"
        }
      },
      "outputs": [
        {
          "output_type": "stream",
          "name": "stdout",
          "text": [
            "Usuarios sem Behavior: 0\n"
          ]
        }
      ],
      "source": [
        "print('Usuarios sem Behavior:', data.Id_user.count() - (count_play + count_purchase))"
      ]
    },
    {
      "cell_type": "markdown",
      "metadata": {
        "id": "crmi1jVdOFVZ"
      },
      "source": [
        "Se houver usuários nesta situação, o melhor é excluir as linhas destes usuários.\n",
        "\n",
        "Vamos juntar estes dois DataFrames contendos os dados 'play e 'purchase', utilizando 'concat'."
      ]
    },
    {
      "cell_type": "code",
      "execution_count": null,
      "metadata": {
        "id": "1B7nFp8UOFVa",
        "outputId": "f1434e39-997a-4591-aa1c-48c7c81ec540",
        "colab": {
          "base_uri": "https://localhost:8080/"
        }
      },
      "outputs": [
        {
          "output_type": "stream",
          "name": "stdout",
          "text": [
            "Dimensao dos dados validos: (199268, 4)\n"
          ]
        }
      ],
      "source": [
        "data_valid=pd.concat([data_play,data_purchase])\n",
        "print('Dimensao dos dados validos:', data_valid.shape)"
      ]
    },
    {
      "cell_type": "markdown",
      "metadata": {
        "id": "6QyTlnMwOFVa"
      },
      "source": [
        "Outra forma de unir os DataFrames é através do append(), ou seja, juntar 'purchase' em 'play'.\n",
        "\n",
        "Neste caso, deve-se ignorar o rótulo do DataFrame que está sendo anexado: o 'purchase'."
      ]
    },
    {
      "cell_type": "code",
      "execution_count": null,
      "metadata": {
        "id": "f-D7p4rEOFVa",
        "outputId": "8dad1d38-072b-4d55-ae5e-277f90dff257",
        "colab": {
          "base_uri": "https://localhost:8080/"
        }
      },
      "outputs": [
        {
          "output_type": "stream",
          "name": "stdout",
          "text": [
            "Dimensao dos dados validos - utilizando append: (199268, 4)\n"
          ]
        }
      ],
      "source": [
        "data_valid1 = data_play.append(data_purchase, ignore_index=True)\n",
        "print('Dimensao dos dados validos - utilizando append:', data_valid1.shape)"
      ]
    },
    {
      "cell_type": "markdown",
      "metadata": {
        "id": "BXXeeTwNOFVb"
      },
      "source": [
        "# Como se distribui as horas jogadas pelos games"
      ]
    },
    {
      "cell_type": "markdown",
      "metadata": {
        "id": "AmHlODsZOFVb"
      },
      "source": [
        "**Quantos games com Behavior='play' tem mais de 10 horas jogadas.**\n",
        "\n",
        "shape() retorna uma tupla: (linhas, colunas) do DataFrame.\n",
        "\n",
        "Interessa apenas o nº de linhas, por isso utilizaremos shape[0]"
      ]
    },
    {
      "cell_type": "code",
      "execution_count": null,
      "metadata": {
        "id": "iOTlVdFsOFVb",
        "outputId": "b916539f-9a9a-4360-de61-e7b52c4ee366",
        "colab": {
          "base_uri": "https://localhost:8080/"
        }
      },
      "outputs": [
        {
          "output_type": "stream",
          "name": "stdout",
          "text": [
            "Acima de 10 horas de jogo: 25290\n"
          ]
        }
      ],
      "source": [
        "up_10 = data_play[data_play['Time'] > 10].shape[0]\n",
        "print('Acima de 10 horas de jogo:', up_10)"
      ]
    },
    {
      "cell_type": "code",
      "execution_count": null,
      "metadata": {
        "id": "bt1jGxyeOFVb",
        "outputId": "59e75965-f1e0-40a6-f59c-61b4f122c203",
        "colab": {
          "base_uri": "https://localhost:8080/"
        }
      },
      "outputs": [
        {
          "output_type": "stream",
          "name": "stdout",
          "text": [
            "Acima de 50 horas de jogo: 9419\n"
          ]
        }
      ],
      "source": [
        "up_50 = data_play[data_play['Time'] > 50].shape[0]\n",
        "print('Acima de 50 horas de jogo:', up_50)"
      ]
    },
    {
      "cell_type": "code",
      "execution_count": null,
      "metadata": {
        "id": "M7Ypvg7wOFVc",
        "outputId": "6d4dfb83-3038-4648-e049-649e60fc2af8",
        "colab": {
          "base_uri": "https://localhost:8080/"
        }
      },
      "outputs": [
        {
          "output_type": "stream",
          "name": "stdout",
          "text": [
            "Abaixo de 10 horas de jogo: 45190\n"
          ]
        }
      ],
      "source": [
        "down_10 = data_play[data_play['Time'] <= 10].shape[0]\n",
        "print('Abaixo de 10 horas de jogo:', down_10)"
      ]
    },
    {
      "cell_type": "markdown",
      "metadata": {
        "id": "-RfwzoNUOFVc"
      },
      "source": [
        "# Listar os Jogos, com mais de 10h de jogo em média, por ordem decrescente"
      ]
    },
    {
      "cell_type": "markdown",
      "metadata": {
        "id": "gDXNCIy9OFVc"
      },
      "source": [
        "Mas quais são os games com mais de 10 horas jogadas por um determinado jogador?\n",
        "\n",
        "Vamos selecionar estes games e exibi-los, inicialmente SOMANDO o número de horas jogadas por cada um dos usuários.\n",
        "\n",
        "Os dados serão exibidos agrupados por 'Game' e 'Time'\n"
      ]
    },
    {
      "cell_type": "code",
      "execution_count": null,
      "metadata": {
        "id": "GhgJ-v5QOFVc",
        "outputId": "2dce8a8c-7837-4299-a8dc-0e88c5bb3aa7",
        "colab": {
          "base_uri": "https://localhost:8080/"
        }
      },
      "outputs": [
        {
          "output_type": "execute_result",
          "data": {
            "text/plain": [
              "Game\n",
              "Dota 2                             974928.6\n",
              "Counter-Strike Global Offensive    321523.4\n",
              "Team Fortress 2                    170211.1\n",
              "Counter-Strike                     133522.4\n",
              "Sid Meier's Civilization V          99298.1\n",
              "                                     ...   \n",
              "DEFCON                                 10.2\n",
              "Ballad of Solar                        10.1\n",
              "Intrusion 2                            10.1\n",
              "Piercing Blow                          10.1\n",
              "Warhammer 40,000 Armageddon            10.1\n",
              "Name: Time, Length: 1692, dtype: float64"
            ]
          },
          "metadata": {},
          "execution_count": 18
        }
      ],
      "source": [
        "data_select_sum = data_play[(data_play['Time'] > 10.0)]\n",
        "data_select_sum = data_select_sum.groupby(\"Game\")[\"Time\"].sum()\n",
        "data_select_sum.sort_values(ascending=False)"
      ]
    },
    {
      "cell_type": "markdown",
      "metadata": {
        "id": "QpKhq0HOOFVd"
      },
      "source": [
        "\n",
        "Vamos visulaizar agora a MEDIA e não o somatório.\n",
        "\n",
        "A média altera completamente o resultado apresentado anteriormente."
      ]
    },
    {
      "cell_type": "code",
      "execution_count": null,
      "metadata": {
        "id": "gVQRo0qgOFVd",
        "outputId": "d56c87d1-813c-44db-92da-22cd0b35db92",
        "colab": {
          "base_uri": "https://localhost:8080/"
        }
      },
      "outputs": [
        {
          "output_type": "execute_result",
          "data": {
            "text/plain": [
              "Game\n",
              "Eastside Hockey Manager        1295.0\n",
              "Battle Nations                 1047.0\n",
              "Sigils of Elohim                888.0\n",
              "Prime World                     672.0\n",
              "Out of the Park Baseball 16     652.0\n",
              "                                ...  \n",
              "Mars War Logs                    10.2\n",
              "Intrusion 2                      10.1\n",
              "Piercing Blow                    10.1\n",
              "Ballad of Solar                  10.1\n",
              "Warhammer 40,000 Armageddon      10.1\n",
              "Name: Time, Length: 1692, dtype: float64"
            ]
          },
          "metadata": {},
          "execution_count": 19
        }
      ],
      "source": [
        "data_select_mean = data_play[(data_play['Time'] > 10.0)]\n",
        "data_select_mean = data_select_mean.groupby(\"Game\")[\"Time\"].mean()\n",
        "data_select_mean.sort_values(ascending=False)"
      ]
    },
    {
      "cell_type": "markdown",
      "metadata": {
        "id": "uGOHt8ZVOFVd"
      },
      "source": [
        ".\n",
        "\n",
        "Podemos também usar uma pivot_table: uma tabela dinâmica no estilo de planilha como um DataFrame, para apresentar a média.\n"
      ]
    },
    {
      "cell_type": "code",
      "execution_count": null,
      "metadata": {
        "id": "Y-2heJtQOFVd",
        "outputId": "1eebab86-a750-439f-9975-5fa9cebee1ef",
        "colab": {
          "base_uri": "https://localhost:8080/",
          "height": 455
        }
      },
      "outputs": [
        {
          "output_type": "execute_result",
          "data": {
            "text/plain": [
              "                               Time\n",
              "Game                               \n",
              "Eastside Hockey Manager      1295.0\n",
              "Battle Nations               1047.0\n",
              "Sigils of Elohim              888.0\n",
              "Prime World                   672.0\n",
              "Out of the Park Baseball 16   652.0\n",
              "...                             ...\n",
              "Mars War Logs                  10.2\n",
              "Intrusion 2                    10.1\n",
              "Piercing Blow                  10.1\n",
              "Ballad of Solar                10.1\n",
              "Warhammer 40,000 Armageddon    10.1\n",
              "\n",
              "[1692 rows x 1 columns]"
            ],
            "text/html": [
              "\n",
              "  <div id=\"df-20d4706d-1e44-44ed-97fe-5c7d9dbe8096\">\n",
              "    <div class=\"colab-df-container\">\n",
              "      <div>\n",
              "<style scoped>\n",
              "    .dataframe tbody tr th:only-of-type {\n",
              "        vertical-align: middle;\n",
              "    }\n",
              "\n",
              "    .dataframe tbody tr th {\n",
              "        vertical-align: top;\n",
              "    }\n",
              "\n",
              "    .dataframe thead th {\n",
              "        text-align: right;\n",
              "    }\n",
              "</style>\n",
              "<table border=\"1\" class=\"dataframe\">\n",
              "  <thead>\n",
              "    <tr style=\"text-align: right;\">\n",
              "      <th></th>\n",
              "      <th>Time</th>\n",
              "    </tr>\n",
              "    <tr>\n",
              "      <th>Game</th>\n",
              "      <th></th>\n",
              "    </tr>\n",
              "  </thead>\n",
              "  <tbody>\n",
              "    <tr>\n",
              "      <th>Eastside Hockey Manager</th>\n",
              "      <td>1295.0</td>\n",
              "    </tr>\n",
              "    <tr>\n",
              "      <th>Battle Nations</th>\n",
              "      <td>1047.0</td>\n",
              "    </tr>\n",
              "    <tr>\n",
              "      <th>Sigils of Elohim</th>\n",
              "      <td>888.0</td>\n",
              "    </tr>\n",
              "    <tr>\n",
              "      <th>Prime World</th>\n",
              "      <td>672.0</td>\n",
              "    </tr>\n",
              "    <tr>\n",
              "      <th>Out of the Park Baseball 16</th>\n",
              "      <td>652.0</td>\n",
              "    </tr>\n",
              "    <tr>\n",
              "      <th>...</th>\n",
              "      <td>...</td>\n",
              "    </tr>\n",
              "    <tr>\n",
              "      <th>Mars War Logs</th>\n",
              "      <td>10.2</td>\n",
              "    </tr>\n",
              "    <tr>\n",
              "      <th>Intrusion 2</th>\n",
              "      <td>10.1</td>\n",
              "    </tr>\n",
              "    <tr>\n",
              "      <th>Piercing Blow</th>\n",
              "      <td>10.1</td>\n",
              "    </tr>\n",
              "    <tr>\n",
              "      <th>Ballad of Solar</th>\n",
              "      <td>10.1</td>\n",
              "    </tr>\n",
              "    <tr>\n",
              "      <th>Warhammer 40,000 Armageddon</th>\n",
              "      <td>10.1</td>\n",
              "    </tr>\n",
              "  </tbody>\n",
              "</table>\n",
              "<p>1692 rows × 1 columns</p>\n",
              "</div>\n",
              "      <button class=\"colab-df-convert\" onclick=\"convertToInteractive('df-20d4706d-1e44-44ed-97fe-5c7d9dbe8096')\"\n",
              "              title=\"Convert this dataframe to an interactive table.\"\n",
              "              style=\"display:none;\">\n",
              "        \n",
              "  <svg xmlns=\"http://www.w3.org/2000/svg\" height=\"24px\"viewBox=\"0 0 24 24\"\n",
              "       width=\"24px\">\n",
              "    <path d=\"M0 0h24v24H0V0z\" fill=\"none\"/>\n",
              "    <path d=\"M18.56 5.44l.94 2.06.94-2.06 2.06-.94-2.06-.94-.94-2.06-.94 2.06-2.06.94zm-11 1L8.5 8.5l.94-2.06 2.06-.94-2.06-.94L8.5 2.5l-.94 2.06-2.06.94zm10 10l.94 2.06.94-2.06 2.06-.94-2.06-.94-.94-2.06-.94 2.06-2.06.94z\"/><path d=\"M17.41 7.96l-1.37-1.37c-.4-.4-.92-.59-1.43-.59-.52 0-1.04.2-1.43.59L10.3 9.45l-7.72 7.72c-.78.78-.78 2.05 0 2.83L4 21.41c.39.39.9.59 1.41.59.51 0 1.02-.2 1.41-.59l7.78-7.78 2.81-2.81c.8-.78.8-2.07 0-2.86zM5.41 20L4 18.59l7.72-7.72 1.47 1.35L5.41 20z\"/>\n",
              "  </svg>\n",
              "      </button>\n",
              "      \n",
              "  <style>\n",
              "    .colab-df-container {\n",
              "      display:flex;\n",
              "      flex-wrap:wrap;\n",
              "      gap: 12px;\n",
              "    }\n",
              "\n",
              "    .colab-df-convert {\n",
              "      background-color: #E8F0FE;\n",
              "      border: none;\n",
              "      border-radius: 50%;\n",
              "      cursor: pointer;\n",
              "      display: none;\n",
              "      fill: #1967D2;\n",
              "      height: 32px;\n",
              "      padding: 0 0 0 0;\n",
              "      width: 32px;\n",
              "    }\n",
              "\n",
              "    .colab-df-convert:hover {\n",
              "      background-color: #E2EBFA;\n",
              "      box-shadow: 0px 1px 2px rgba(60, 64, 67, 0.3), 0px 1px 3px 1px rgba(60, 64, 67, 0.15);\n",
              "      fill: #174EA6;\n",
              "    }\n",
              "\n",
              "    [theme=dark] .colab-df-convert {\n",
              "      background-color: #3B4455;\n",
              "      fill: #D2E3FC;\n",
              "    }\n",
              "\n",
              "    [theme=dark] .colab-df-convert:hover {\n",
              "      background-color: #434B5C;\n",
              "      box-shadow: 0px 1px 3px 1px rgba(0, 0, 0, 0.15);\n",
              "      filter: drop-shadow(0px 1px 2px rgba(0, 0, 0, 0.3));\n",
              "      fill: #FFFFFF;\n",
              "    }\n",
              "  </style>\n",
              "\n",
              "      <script>\n",
              "        const buttonEl =\n",
              "          document.querySelector('#df-20d4706d-1e44-44ed-97fe-5c7d9dbe8096 button.colab-df-convert');\n",
              "        buttonEl.style.display =\n",
              "          google.colab.kernel.accessAllowed ? 'block' : 'none';\n",
              "\n",
              "        async function convertToInteractive(key) {\n",
              "          const element = document.querySelector('#df-20d4706d-1e44-44ed-97fe-5c7d9dbe8096');\n",
              "          const dataTable =\n",
              "            await google.colab.kernel.invokeFunction('convertToInteractive',\n",
              "                                                     [key], {});\n",
              "          if (!dataTable) return;\n",
              "\n",
              "          const docLinkHtml = 'Like what you see? Visit the ' +\n",
              "            '<a target=\"_blank\" href=https://colab.research.google.com/notebooks/data_table.ipynb>data table notebook</a>'\n",
              "            + ' to learn more about interactive tables.';\n",
              "          element.innerHTML = '';\n",
              "          dataTable['output_type'] = 'display_data';\n",
              "          await google.colab.output.renderOutput(dataTable, element);\n",
              "          const docLink = document.createElement('div');\n",
              "          docLink.innerHTML = docLinkHtml;\n",
              "          element.appendChild(docLink);\n",
              "        }\n",
              "      </script>\n",
              "    </div>\n",
              "  </div>\n",
              "  "
            ]
          },
          "metadata": {},
          "execution_count": 20
        }
      ],
      "source": [
        "data_select_mea = data_play[(data_play['Time'] > 10.0)]\n",
        "mean_hours = data_select_mea.pivot_table('Time', columns='Game', aggfunc='mean').T\n",
        "mean_hours.sort_values(by='Time',ascending=False)"
      ]
    },
    {
      "cell_type": "markdown",
      "metadata": {
        "id": "QWBNK4rEOFVe"
      },
      "source": [
        "# Melhor que tabela é ver graficamente!\n",
        "\n",
        "O gráfico de barras horizontais (barh) exibe 10 Games com mais de 10h jogadas/usuário (SOMA), por ordem descendente.\n",
        "\n",
        "Experimente: Mudar o tamanho da figura, o tipo de gráfico ('bar', ´pie'), o número de jogos."
      ]
    },
    {
      "cell_type": "code",
      "execution_count": null,
      "metadata": {
        "id": "OTxcOeKIOFVe",
        "outputId": "9bcee1d7-0db9-48b1-94d6-f0bae90a3b07",
        "colab": {
          "base_uri": "https://localhost:8080/",
          "height": 256
        }
      },
      "outputs": [
        {
          "output_type": "display_data",
          "data": {
            "text/plain": [
              "<Figure size 720x216 with 1 Axes>"
            ],
            "image/png": "[encoded data removed]"
          },
          "metadata": {
            "needs_background": "light"
          }
        }
      ],
      "source": [
        "%matplotlib inline\n",
        "plt.figure(figsize=(10,3))\n",
        "plt.title('Popularidade dos Games Jogados, com mais de 10h\\n')\n",
        "plt.xlabel('Somatório das horas')\n",
        "data_select_sum.sort_values(ascending=False)[:10].plot(kind='barh')\n",
        "plt.show()"
      ]
    },
    {
      "cell_type": "markdown",
      "metadata": {
        "id": "usD8Aa3POFVe"
      },
      "source": [
        "Agora vamos plotar o gráfico dos **games com as melhores médias de horas jogadas**."
      ]
    },
    {
      "cell_type": "code",
      "execution_count": null,
      "metadata": {
        "id": "Cw2VpwjwOFVe",
        "outputId": "b6bc01d0-5364-4a0d-d9e9-6b07f93bd5d7",
        "colab": {
          "base_uri": "https://localhost:8080/",
          "height": 310
        }
      },
      "outputs": [
        {
          "output_type": "display_data",
          "data": {
            "text/plain": [
              "<Figure size 720x288 with 1 Axes>"
            ],
            "image/png": "[encoded data removed]"
          },
          "metadata": {
            "needs_background": "light"
          }
        }
      ],
      "source": [
        "%matplotlib inline\n",
        "plt.figure(figsize=(10,4))\n",
        "plt.title('Popularidade dos Games Jogados, com mais de 10h\\n')\n",
        "plt.xlabel('Média das horas')\n",
        "data_select_mean.sort_values(ascending=False)[:10].plot(kind='barh')\n",
        "\n",
        "plt.show()"
      ]
    },
    {
      "cell_type": "markdown",
      "metadata": {
        "id": "6y4hixB0OFVe"
      },
      "source": [
        "Quer **salvar** este gráfico como imagem? É fácil!\n",
        "\n",
        "ANTES de plt.show() inclua a linha plt.savefig('PopularidadeGames.png')  "
      ]
    },
    {
      "cell_type": "markdown",
      "metadata": {
        "id": "cm_sSgN8OFVf"
      },
      "source": [
        "# Estatísticas por Behavior\n",
        "\n",
        "describe ( ) - Para os dados numéricos, são exibidas as estatísticas para cada coluna numérica do DataFrame, como contagem de valores, soma, média, mediana, mínimo, máximo e os percentis 25, 50 e 75%. O percentil 50 é o mesmo que a mediana.\n",
        "\n",
        "Neste conjunto de dados é possível observar que 12393 usuários compraram em média 10 jogos e que uma única pessoa comprou 1068 jogos.\n"
      ]
    },
    {
      "cell_type": "code",
      "execution_count": null,
      "metadata": {
        "id": "jylRLDokOFVf",
        "outputId": "b112d63a-3e25-44f1-a067-aa831b863d67",
        "colab": {
          "base_uri": "https://localhost:8080/"
        }
      },
      "outputs": [
        {
          "output_type": "stream",
          "name": "stdout",
          "text": [
            "Estatísticas de compra de jogos por usuários\n",
            " count    12393.000000\n",
            "mean        10.391995\n",
            "std         35.628412\n",
            "min          1.000000\n",
            "25%          1.000000\n",
            "50%          2.000000\n",
            "75%          6.000000\n",
            "max       1068.000000\n",
            "Name: Time, dtype: float64\n"
          ]
        }
      ],
      "source": [
        "purchased = data_purchase.groupby('Id_user')['Time'].sum()\n",
        "print('Estatísticas de compra de jogos por usuários\\n',purchased.describe())"
      ]
    },
    {
      "cell_type": "markdown",
      "metadata": {
        "id": "KT_NtNolOFVf"
      },
      "source": [
        "Vamos agora agrupar: somatório dos tempos por Usuário e Game.\n"
      ]
    },
    {
      "cell_type": "code",
      "execution_count": null,
      "metadata": {
        "id": "dkX15sZ_OFVf",
        "outputId": "3b55e284-46bc-4b65-b9cf-2e8a8b230717",
        "colab": {
          "base_uri": "https://localhost:8080/"
        }
      },
      "outputs": [
        {
          "output_type": "execute_result",
          "data": {
            "text/plain": [
              "Id_user    Game                        \n",
              "5250       Alien Swarm                       4.9\n",
              "           Cities Skylines                 144.0\n",
              "           Deus Ex Human Revolution         62.0\n",
              "           Dota 2                            0.2\n",
              "           Portal 2                         13.6\n",
              "                                           ...  \n",
              "309434439  Dota 2                            0.8\n",
              "309554670  Mitos.is The Game                 5.9\n",
              "309626088  Age of Empires II HD Edition      6.7\n",
              "309824202  Dota 2                            0.7\n",
              "309903146  Dota 2                            0.2\n",
              "Name: Time, Length: 70468, dtype: float64"
            ]
          },
          "metadata": {},
          "execution_count": 24
        }
      ],
      "source": [
        "played = data_play.groupby(['Id_user','Game'])['Time'].sum()\n",
        "played"
      ]
    },
    {
      "cell_type": "markdown",
      "metadata": {
        "id": "4Vvc5myBOFVf"
      },
      "source": [
        "Vamos à estatística:\n",
        "\n",
        "As pessoas jogaram juntas 70469 horas, com uma média acima de 48 horas/game.\n",
        "\n",
        "Um único usuário jogou mais de 11700 horas, ou seja, quase 490 dias!"
      ]
    },
    {
      "cell_type": "code",
      "execution_count": null,
      "metadata": {
        "id": "BHiq-LCFOFVg",
        "outputId": "25c90487-5cab-423d-9fbc-f39f22aaa586",
        "colab": {
          "base_uri": "https://localhost:8080/"
        }
      },
      "outputs": [
        {
          "output_type": "stream",
          "name": "stdout",
          "text": [
            "\n",
            "Estatísticas de games jogados\n",
            " count    70468.000000\n",
            "mean        48.892223\n",
            "std        229.367979\n",
            "min          0.100000\n",
            "25%          1.000000\n",
            "50%          4.500000\n",
            "75%         19.100000\n",
            "max      11754.000000\n",
            "Name: Time, dtype: float64\n"
          ]
        }
      ],
      "source": [
        "print('\\nEstatísticas de games jogados\\n',played.describe())"
      ]
    },
    {
      "cell_type": "markdown",
      "metadata": {
        "id": "AZ3Ul1SMOFVg"
      },
      "source": [
        "# Análise de jogos ('play' e 'purchase') com os usuários\n"
      ]
    },
    {
      "cell_type": "markdown",
      "metadata": {
        "id": "2RcCPnnLOFVg"
      },
      "source": [
        "Contar o **número de compras para o Behavior='purchased'.**\n",
        "\n",
        "Agrupar pela contagem de vezes que foi comprado."
      ]
    },
    {
      "cell_type": "code",
      "execution_count": null,
      "metadata": {
        "id": "s0HVH4D4OFVg",
        "outputId": "a841e208-e044-4708-e08c-2a9e99f8c4d7",
        "colab": {
          "base_uri": "https://localhost:8080/"
        }
      },
      "outputs": [
        {
          "output_type": "stream",
          "name": "stdout",
          "text": [
            "                              Game  Número de Compras\n",
            "0                           Dota 2               4841\n",
            "1                  Team Fortress 2               2323\n",
            "2                         Unturned               1563\n",
            "3  Counter-Strike Global Offensive               1412\n",
            "4           Half-Life 2 Lost Coast                981\n"
          ]
        }
      ],
      "source": [
        "num_games = 5\n",
        "\n",
        "game_purch = data_valid.loc[data_valid['Behavior'] == 'purchase']\n",
        "hours_purch = game_purch.groupby('Game')['Game'].agg('count').sort_values(ascending=False)\n",
        "hours_purch = pd.DataFrame({'Game': hours_purch.index, 'Número de Compras': hours_purch.values})[0:num_games]\n",
        "print(hours_purch)"
      ]
    },
    {
      "cell_type": "markdown",
      "metadata": {
        "id": "QwgPMsJfOFVg"
      },
      "source": [
        "Contar o** número de compras para o Behavior='play**'\n",
        "\n",
        "Agrupar pela quantidade de horas (somatório) que o game foi jogado."
      ]
    },
    {
      "cell_type": "code",
      "execution_count": null,
      "metadata": {
        "id": "pJ8I4hGZOFVh",
        "outputId": "3d4cac8c-1a8f-4b28-ca8b-a7438d39f230",
        "colab": {
          "base_uri": "https://localhost:8080/"
        }
      },
      "outputs": [
        {
          "output_type": "stream",
          "name": "stdout",
          "text": [
            "                              Game  Horas Jogadas\n",
            "0                           Dota 2       981684.6\n",
            "1  Counter-Strike Global Offensive       322771.6\n",
            "2                  Team Fortress 2       173673.3\n",
            "3                   Counter-Strike       134261.1\n",
            "4       Sid Meier's Civilization V        99821.3\n"
          ]
        }
      ],
      "source": [
        "game_play = data_valid.loc[data_valid['Behavior'] == 'play']\n",
        "hours_play = game_play.groupby('Game')['Time'].agg(np.sum).sort_values(ascending=False)\n",
        "hours_play = pd.DataFrame({'Game': hours_play.index, 'Horas Jogadas': hours_play.values})[0:num_games]\n",
        "print(hours_play)"
      ]
    },
    {
      "cell_type": "markdown",
      "metadata": {
        "id": "iOZ16AO9OFVh"
      },
      "source": [
        "# Colocar estes dados num gráfico\n",
        "Plotar o gráfico usando seaborn, que é uma biblioteca de visualização de dados Python baseada no matplotlib . Ela fornece uma interface de alto nível para desenhar gráficos estatísticos atraentes e informativos.\n",
        "\n",
        "Inicialmente é traçado quantas vezes cada jogo é comprado.\n",
        "\n",
        "Depois, quantas horas é jogado para ver se os jogos mais comprados são os mais jogados.\n",
        "\n",
        "Vamos usar os dados com as linhas duplicadas e os valores inválidos já excluidos: data_valid.\n",
        "\n",
        "Serão 2 gráficos lado a lado.\n",
        "\n",
        "plt.subplots(): os parâmetros (1,2) significa que estamos criando uma figura com 1 linha e 2 colunas\n",
        "\n",
        "O gráfico é do tipo de barra 'barplot'.\n"
      ]
    },
    {
      "cell_type": "code",
      "execution_count": null,
      "metadata": {
        "id": "ndLFwlrQOFVh",
        "outputId": "0a4b40a0-2ce7-4562-d92f-c7798f9e236c",
        "colab": {
          "base_uri": "https://localhost:8080/",
          "height": 259
        }
      },
      "outputs": [
        {
          "output_type": "display_data",
          "data": {
            "text/plain": [
              "<Figure size 1296x360 with 2 Axes>"
            ],
            "image/png": "[encoded data removed]"
          },
          "metadata": {
            "needs_background": "light"
          }
        }
      ],
      "source": [
        "import seaborn as sns\n",
        "fig, ax =plt.subplots(1,2,figsize=(18,num_games))\n",
        "sns.barplot(y = 'Game', x = 'Número de Compras', data = hours_purch, ax=ax[0])\n",
        "sns.barplot(y = 'Game', x = 'Horas Jogadas', data = hours_play, ax=ax[1])\n",
        "\n",
        "ax[1].yaxis.tick_right() #movendo as marcações para a direita, no gráfico 2\n",
        "ax[0].yaxis.set_label_position(\"right\") #movendo o label a direita, no gráfico 1\n",
        "\n",
        "for i in range(0,2): #definindo o tamanho dos labels\n",
        "    ax[i].tick_params(axis='y', labelsize=18)\n",
        "    ax[i].xaxis.label.set_size(20)\n",
        "    ax[i].yaxis.label.set_size(20)\n",
        "\n",
        "ax[0].set_title('Behavior = purchase', fontsize=20, fontweight=0, color='blue', style='italic')\n",
        "ax[1].set_title('Behavior = play',fontsize=20, fontweight=0, color='blue', style='italic')\n",
        "plt.savefig('analise de jogos.png') #salvando o gráfico como imagem"
      ]
    },
    {
      "cell_type": "markdown",
      "metadata": {
        "id": "88xkneVdOFVh"
      },
      "source": [
        "# Dados estatísticos de cada Game X Time\n",
        "\n",
        "Agrupar as horas para cada Game."
      ]
    },
    {
      "cell_type": "code",
      "execution_count": null,
      "metadata": {
        "id": "j4iKISQpOFVh",
        "outputId": "a657c704-5ec8-49c3-b0eb-5abb4199ff64",
        "colab": {
          "base_uri": "https://localhost:8080/",
          "height": 455
        }
      },
      "outputs": [
        {
          "output_type": "execute_result",
          "data": {
            "text/plain": [
              "                                                    count       mean  \\\n",
              "Game                                                                   \n",
              "007 Legends                                           2.0   0.850000   \n",
              "0RBITALIS                                             6.0   0.700000   \n",
              "1... 2... 3... KICK IT! (Drop That Beat Like an...   12.0   2.250000   \n",
              "10 Second Ninja                                       8.0   1.487500   \n",
              "10,000,000                                            2.0   2.300000   \n",
              "...                                                   ...        ...   \n",
              "sZone-Online                                        160.0   0.991875   \n",
              "samurai_jazz                                          1.0   1.000000   \n",
              "the static speaks my name                            21.0   0.714286   \n",
              "theHunter                                           372.0   1.497849   \n",
              "theHunter Primal                                      8.0  11.237500   \n",
              "\n",
              "                                                          std  min    25%  \\\n",
              "Game                                                                        \n",
              "007 Legends                                          0.212132  0.7  0.775   \n",
              "0RBITALIS                                            0.346410  0.3  0.375   \n",
              "1... 2... 3... KICK IT! (Drop That Beat Like an...   3.073789  0.2  1.000   \n",
              "10 Second Ninja                                      1.590541  0.5  1.000   \n",
              "10,000,000                                           1.838478  1.0  1.650   \n",
              "...                                                       ...  ...    ...   \n",
              "sZone-Online                                         0.757269  0.1  0.950   \n",
              "samurai_jazz                                              NaN  1.0  1.000   \n",
              "the static speaks my name                            0.381164  0.1  0.300   \n",
              "theHunter                                            5.265654  0.1  1.000   \n",
              "theHunter Primal                                    24.334217  0.9  1.000   \n",
              "\n",
              "                                                     50%    75%   max  \n",
              "Game                                                                   \n",
              "007 Legends                                         0.85  0.925   1.0  \n",
              "0RBITALIS                                           0.80  1.000   1.0  \n",
              "1... 2... 3... KICK IT! (Drop That Beat Like an...  1.00  1.500  11.2  \n",
              "10 Second Ninja                                     1.00  1.000   5.4  \n",
              "10,000,000                                          2.30  2.950   3.6  \n",
              "...                                                  ...    ...   ...  \n",
              "sZone-Online                                        1.00  1.000   6.7  \n",
              "samurai_jazz                                        1.00  1.000   1.0  \n",
              "the static speaks my name                           1.00  1.000   1.0  \n",
              "theHunter                                           1.00  1.000  95.0  \n",
              "theHunter Primal                                    1.00  5.800  71.0  \n",
              "\n",
              "[5152 rows x 8 columns]"
            ],
            "text/html": [
              "\n",
              "  <div id=\"df-1f001676-23e9-461c-9982-934090e5197e\">\n",
              "    <div class=\"colab-df-container\">\n",
              "      <div>\n",
              "<style scoped>\n",
              "    .dataframe tbody tr th:only-of-type {\n",
              "        vertical-align: middle;\n",
              "    }\n",
              "\n",
              "    .dataframe tbody tr th {\n",
              "        vertical-align: top;\n",
              "    }\n",
              "\n",
              "    .dataframe thead th {\n",
              "        text-align: right;\n",
              "    }\n",
              "</style>\n",
              "<table border=\"1\" class=\"dataframe\">\n",
              "  <thead>\n",
              "    <tr style=\"text-align: right;\">\n",
              "      <th></th>\n",
              "      <th>count</th>\n",
              "      <th>mean</th>\n",
              "      <th>std</th>\n",
              "      <th>min</th>\n",
              "      <th>25%</th>\n",
              "      <th>50%</th>\n",
              "      <th>75%</th>\n",
              "      <th>max</th>\n",
              "    </tr>\n",
              "    <tr>\n",
              "      <th>Game</th>\n",
              "      <th></th>\n",
              "      <th></th>\n",
              "      <th></th>\n",
              "      <th></th>\n",
              "      <th></th>\n",
              "      <th></th>\n",
              "      <th></th>\n",
              "      <th></th>\n",
              "    </tr>\n",
              "  </thead>\n",
              "  <tbody>\n",
              "    <tr>\n",
              "      <th>007 Legends</th>\n",
              "      <td>2.0</td>\n",
              "      <td>0.850000</td>\n",
              "      <td>0.212132</td>\n",
              "      <td>0.7</td>\n",
              "      <td>0.775</td>\n",
              "      <td>0.85</td>\n",
              "      <td>0.925</td>\n",
              "      <td>1.0</td>\n",
              "    </tr>\n",
              "    <tr>\n",
              "      <th>0RBITALIS</th>\n",
              "      <td>6.0</td>\n",
              "      <td>0.700000</td>\n",
              "      <td>0.346410</td>\n",
              "      <td>0.3</td>\n",
              "      <td>0.375</td>\n",
              "      <td>0.80</td>\n",
              "      <td>1.000</td>\n",
              "      <td>1.0</td>\n",
              "    </tr>\n",
              "    <tr>\n",
              "      <th>1... 2... 3... KICK IT! (Drop That Beat Like an Ugly Baby)</th>\n",
              "      <td>12.0</td>\n",
              "      <td>2.250000</td>\n",
              "      <td>3.073789</td>\n",
              "      <td>0.2</td>\n",
              "      <td>1.000</td>\n",
              "      <td>1.00</td>\n",
              "      <td>1.500</td>\n",
              "      <td>11.2</td>\n",
              "    </tr>\n",
              "    <tr>\n",
              "      <th>10 Second Ninja</th>\n",
              "      <td>8.0</td>\n",
              "      <td>1.487500</td>\n",
              "      <td>1.590541</td>\n",
              "      <td>0.5</td>\n",
              "      <td>1.000</td>\n",
              "      <td>1.00</td>\n",
              "      <td>1.000</td>\n",
              "      <td>5.4</td>\n",
              "    </tr>\n",
              "    <tr>\n",
              "      <th>10,000,000</th>\n",
              "      <td>2.0</td>\n",
              "      <td>2.300000</td>\n",
              "      <td>1.838478</td>\n",
              "      <td>1.0</td>\n",
              "      <td>1.650</td>\n",
              "      <td>2.30</td>\n",
              "      <td>2.950</td>\n",
              "      <td>3.6</td>\n",
              "    </tr>\n",
              "    <tr>\n",
              "      <th>...</th>\n",
              "      <td>...</td>\n",
              "      <td>...</td>\n",
              "      <td>...</td>\n",
              "      <td>...</td>\n",
              "      <td>...</td>\n",
              "      <td>...</td>\n",
              "      <td>...</td>\n",
              "      <td>...</td>\n",
              "    </tr>\n",
              "    <tr>\n",
              "      <th>sZone-Online</th>\n",
              "      <td>160.0</td>\n",
              "      <td>0.991875</td>\n",
              "      <td>0.757269</td>\n",
              "      <td>0.1</td>\n",
              "      <td>0.950</td>\n",
              "      <td>1.00</td>\n",
              "      <td>1.000</td>\n",
              "      <td>6.7</td>\n",
              "    </tr>\n",
              "    <tr>\n",
              "      <th>samurai_jazz</th>\n",
              "      <td>1.0</td>\n",
              "      <td>1.000000</td>\n",
              "      <td>NaN</td>\n",
              "      <td>1.0</td>\n",
              "      <td>1.000</td>\n",
              "      <td>1.00</td>\n",
              "      <td>1.000</td>\n",
              "      <td>1.0</td>\n",
              "    </tr>\n",
              "    <tr>\n",
              "      <th>the static speaks my name</th>\n",
              "      <td>21.0</td>\n",
              "      <td>0.714286</td>\n",
              "      <td>0.381164</td>\n",
              "      <td>0.1</td>\n",
              "      <td>0.300</td>\n",
              "      <td>1.00</td>\n",
              "      <td>1.000</td>\n",
              "      <td>1.0</td>\n",
              "    </tr>\n",
              "    <tr>\n",
              "      <th>theHunter</th>\n",
              "      <td>372.0</td>\n",
              "      <td>1.497849</td>\n",
              "      <td>5.265654</td>\n",
              "      <td>0.1</td>\n",
              "      <td>1.000</td>\n",
              "      <td>1.00</td>\n",
              "      <td>1.000</td>\n",
              "      <td>95.0</td>\n",
              "    </tr>\n",
              "    <tr>\n",
              "      <th>theHunter Primal</th>\n",
              "      <td>8.0</td>\n",
              "      <td>11.237500</td>\n",
              "      <td>24.334217</td>\n",
              "      <td>0.9</td>\n",
              "      <td>1.000</td>\n",
              "      <td>1.00</td>\n",
              "      <td>5.800</td>\n",
              "      <td>71.0</td>\n",
              "    </tr>\n",
              "  </tbody>\n",
              "</table>\n",
              "<p>5152 rows × 8 columns</p>\n",
              "</div>\n",
              "      <button class=\"colab-df-convert\" onclick=\"convertToInteractive('df-1f001676-23e9-461c-9982-934090e5197e')\"\n",
              "              title=\"Convert this dataframe to an interactive table.\"\n",
              "              style=\"display:none;\">\n",
              "        \n",
              "  <svg xmlns=\"http://www.w3.org/2000/svg\" height=\"24px\"viewBox=\"0 0 24 24\"\n",
              "       width=\"24px\">\n",
              "    <path d=\"M0 0h24v24H0V0z\" fill=\"none\"/>\n",
              "    <path d=\"M18.56 5.44l.94 2.06.94-2.06 2.06-.94-2.06-.94-.94-2.06-.94 2.06-2.06.94zm-11 1L8.5 8.5l.94-2.06 2.06-.94-2.06-.94L8.5 2.5l-.94 2.06-2.06.94zm10 10l.94 2.06.94-2.06 2.06-.94-2.06-.94-.94-2.06-.94 2.06-2.06.94z\"/><path d=\"M17.41 7.96l-1.37-1.37c-.4-.4-.92-.59-1.43-.59-.52 0-1.04.2-1.43.59L10.3 9.45l-7.72 7.72c-.78.78-.78 2.05 0 2.83L4 21.41c.39.39.9.59 1.41.59.51 0 1.02-.2 1.41-.59l7.78-7.78 2.81-2.81c.8-.78.8-2.07 0-2.86zM5.41 20L4 18.59l7.72-7.72 1.47 1.35L5.41 20z\"/>\n",
              "  </svg>\n",
              "      </button>\n",
              "      \n",
              "  <style>\n",
              "    .colab-df-container {\n",
              "      display:flex;\n",
              "      flex-wrap:wrap;\n",
              "      gap: 12px;\n",
              "    }\n",
              "\n",
              "    .colab-df-convert {\n",
              "      background-color: #E8F0FE;\n",
              "      border: none;\n",
              "      border-radius: 50%;\n",
              "      cursor: pointer;\n",
              "      display: none;\n",
              "      fill: #1967D2;\n",
              "      height: 32px;\n",
              "      padding: 0 0 0 0;\n",
              "      width: 32px;\n",
              "    }\n",
              "\n",
              "    .colab-df-convert:hover {\n",
              "      background-color: #E2EBFA;\n",
              "      box-shadow: 0px 1px 2px rgba(60, 64, 67, 0.3), 0px 1px 3px 1px rgba(60, 64, 67, 0.15);\n",
              "      fill: #174EA6;\n",
              "    }\n",
              "\n",
              "    [theme=dark] .colab-df-convert {\n",
              "      background-color: #3B4455;\n",
              "      fill: #D2E3FC;\n",
              "    }\n",
              "\n",
              "    [theme=dark] .colab-df-convert:hover {\n",
              "      background-color: #434B5C;\n",
              "      box-shadow: 0px 1px 3px 1px rgba(0, 0, 0, 0.15);\n",
              "      filter: drop-shadow(0px 1px 2px rgba(0, 0, 0, 0.3));\n",
              "      fill: #FFFFFF;\n",
              "    }\n",
              "  </style>\n",
              "\n",
              "      <script>\n",
              "        const buttonEl =\n",
              "          document.querySelector('#df-1f001676-23e9-461c-9982-934090e5197e button.colab-df-convert');\n",
              "        buttonEl.style.display =\n",
              "          google.colab.kernel.accessAllowed ? 'block' : 'none';\n",
              "\n",
              "        async function convertToInteractive(key) {\n",
              "          const element = document.querySelector('#df-1f001676-23e9-461c-9982-934090e5197e');\n",
              "          const dataTable =\n",
              "            await google.colab.kernel.invokeFunction('convertToInteractive',\n",
              "                                                     [key], {});\n",
              "          if (!dataTable) return;\n",
              "\n",
              "          const docLinkHtml = 'Like what you see? Visit the ' +\n",
              "            '<a target=\"_blank\" href=https://colab.research.google.com/notebooks/data_table.ipynb>data table notebook</a>'\n",
              "            + ' to learn more about interactive tables.';\n",
              "          element.innerHTML = '';\n",
              "          dataTable['output_type'] = 'display_data';\n",
              "          await google.colab.output.renderOutput(dataTable, element);\n",
              "          const docLink = document.createElement('div');\n",
              "          docLink.innerHTML = docLinkHtml;\n",
              "          element.appendChild(docLink);\n",
              "        }\n",
              "      </script>\n",
              "    </div>\n",
              "  </div>\n",
              "  "
            ]
          },
          "metadata": {},
          "execution_count": 29
        }
      ],
      "source": [
        "data_valid.groupby(\"Game\")[\"Time\"].describe()"
      ]
    },
    {
      "cell_type": "markdown",
      "metadata": {
        "id": "b8cy9UBlOFVi"
      },
      "source": [
        "# Matriz completa dos tempos para  'Behavior'='play'\n",
        "\n",
        "**Horas jogadas por cada usuário em cada um dos games.**\n",
        "\n",
        "A matriz é similar a esta apresentada anteriormente.\n",
        "\n",
        "![matriz.png](data:image/png;base64,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)"
      ]
    },
    {
      "cell_type": "code",
      "execution_count": null,
      "metadata": {
        "id": "lW830NsXOFVi",
        "outputId": "8158d3a4-d3d9-4632-9dce-fa5028f47edb",
        "colab": {
          "base_uri": "https://localhost:8080/",
          "height": 710
        }
      },
      "outputs": [
        {
          "output_type": "execute_result",
          "data": {
            "text/plain": [
              "Id_user                                             5250       76767      \\\n",
              "Game                                                                       \n",
              "007 Legends                                               NaN        NaN   \n",
              "0RBITALIS                                                 NaN        NaN   \n",
              "1... 2... 3... KICK IT! (Drop That Beat Like an...        NaN        NaN   \n",
              "10 Second Ninja                                           NaN        NaN   \n",
              "10,000,000                                                NaN        NaN   \n",
              "...                                                       ...        ...   \n",
              "rymdkapsel                                                NaN        NaN   \n",
              "sZone-Online                                              NaN        NaN   \n",
              "the static speaks my name                                 NaN        NaN   \n",
              "theHunter                                                 NaN        NaN   \n",
              "theHunter Primal                                          NaN        NaN   \n",
              "\n",
              "Id_user                                             86540      144736     \\\n",
              "Game                                                                       \n",
              "007 Legends                                               NaN        NaN   \n",
              "0RBITALIS                                                 NaN        NaN   \n",
              "1... 2... 3... KICK IT! (Drop That Beat Like an...        NaN        NaN   \n",
              "10 Second Ninja                                           NaN        NaN   \n",
              "10,000,000                                                NaN        NaN   \n",
              "...                                                       ...        ...   \n",
              "rymdkapsel                                                NaN        NaN   \n",
              "sZone-Online                                              NaN        NaN   \n",
              "the static speaks my name                                 NaN        NaN   \n",
              "theHunter                                                 NaN        NaN   \n",
              "theHunter Primal                                          NaN        NaN   \n",
              "\n",
              "Id_user                                             181212     229911     \\\n",
              "Game                                                                       \n",
              "007 Legends                                               NaN        NaN   \n",
              "0RBITALIS                                                 NaN        NaN   \n",
              "1... 2... 3... KICK IT! (Drop That Beat Like an...        NaN        NaN   \n",
              "10 Second Ninja                                           NaN        NaN   \n",
              "10,000,000                                                NaN        NaN   \n",
              "...                                                       ...        ...   \n",
              "rymdkapsel                                                NaN        NaN   \n",
              "sZone-Online                                              NaN        NaN   \n",
              "the static speaks my name                                 NaN        NaN   \n",
              "theHunter                                                 NaN        NaN   \n",
              "theHunter Primal                                          NaN        NaN   \n",
              "\n",
              "Id_user                                             298950     381543     \\\n",
              "Game                                                                       \n",
              "007 Legends                                               NaN        NaN   \n",
              "0RBITALIS                                                 NaN        NaN   \n",
              "1... 2... 3... KICK IT! (Drop That Beat Like an...        NaN        NaN   \n",
              "10 Second Ninja                                           NaN        NaN   \n",
              "10,000,000                                                NaN        NaN   \n",
              "...                                                       ...        ...   \n",
              "rymdkapsel                                                NaN        NaN   \n",
              "sZone-Online                                              NaN        NaN   \n",
              "the static speaks my name                                 NaN        NaN   \n",
              "theHunter                                                 NaN        NaN   \n",
              "theHunter Primal                                          NaN        NaN   \n",
              "\n",
              "Id_user                                             547685     554278     ...  \\\n",
              "Game                                                                      ...   \n",
              "007 Legends                                               NaN        NaN  ...   \n",
              "0RBITALIS                                                 NaN        NaN  ...   \n",
              "1... 2... 3... KICK IT! (Drop That Beat Like an...        NaN        NaN  ...   \n",
              "10 Second Ninja                                           NaN        NaN  ...   \n",
              "10,000,000                                                NaN        NaN  ...   \n",
              "...                                                       ...        ...  ...   \n",
              "rymdkapsel                                                NaN        NaN  ...   \n",
              "sZone-Online                                              NaN        NaN  ...   \n",
              "the static speaks my name                                 NaN        NaN  ...   \n",
              "theHunter                                                 0.2        NaN  ...   \n",
              "theHunter Primal                                          NaN        NaN  ...   \n",
              "\n",
              "Id_user                                             309228590  309255941  \\\n",
              "Game                                                                       \n",
              "007 Legends                                               NaN        NaN   \n",
              "0RBITALIS                                                 NaN        NaN   \n",
              "1... 2... 3... KICK IT! (Drop That Beat Like an...        NaN        NaN   \n",
              "10 Second Ninja                                           NaN        NaN   \n",
              "10,000,000                                                NaN        NaN   \n",
              "...                                                       ...        ...   \n",
              "rymdkapsel                                                NaN        NaN   \n",
              "sZone-Online                                              NaN        NaN   \n",
              "the static speaks my name                                 NaN        NaN   \n",
              "theHunter                                                 NaN        NaN   \n",
              "theHunter Primal                                          NaN        NaN   \n",
              "\n",
              "Id_user                                             309262440  309265377  \\\n",
              "Game                                                                       \n",
              "007 Legends                                               NaN        NaN   \n",
              "0RBITALIS                                                 NaN        NaN   \n",
              "1... 2... 3... KICK IT! (Drop That Beat Like an...        NaN        NaN   \n",
              "10 Second Ninja                                           NaN        NaN   \n",
              "10,000,000                                                NaN        NaN   \n",
              "...                                                       ...        ...   \n",
              "rymdkapsel                                                NaN        NaN   \n",
              "sZone-Online                                              NaN        NaN   \n",
              "the static speaks my name                                 NaN        NaN   \n",
              "theHunter                                                 NaN        NaN   \n",
              "theHunter Primal                                          NaN        NaN   \n",
              "\n",
              "Id_user                                             309404240  309434439  \\\n",
              "Game                                                                       \n",
              "007 Legends                                               NaN        NaN   \n",
              "0RBITALIS                                                 NaN        NaN   \n",
              "1... 2... 3... KICK IT! (Drop That Beat Like an...        NaN        NaN   \n",
              "10 Second Ninja                                           NaN        NaN   \n",
              "10,000,000                                                NaN        NaN   \n",
              "...                                                       ...        ...   \n",
              "rymdkapsel                                                NaN        NaN   \n",
              "sZone-Online                                              NaN        NaN   \n",
              "the static speaks my name                                 NaN        NaN   \n",
              "theHunter                                                 NaN        NaN   \n",
              "theHunter Primal                                          NaN        NaN   \n",
              "\n",
              "Id_user                                             309554670  309626088  \\\n",
              "Game                                                                       \n",
              "007 Legends                                               NaN        NaN   \n",
              "0RBITALIS                                                 NaN        NaN   \n",
              "1... 2... 3... KICK IT! (Drop That Beat Like an...        NaN        NaN   \n",
              "10 Second Ninja                                           NaN        NaN   \n",
              "10,000,000                                                NaN        NaN   \n",
              "...                                                       ...        ...   \n",
              "rymdkapsel                                                NaN        NaN   \n",
              "sZone-Online                                              NaN        NaN   \n",
              "the static speaks my name                                 NaN        NaN   \n",
              "theHunter                                                 NaN        NaN   \n",
              "theHunter Primal                                          NaN        NaN   \n",
              "\n",
              "Id_user                                             309824202  309903146  \n",
              "Game                                                                      \n",
              "007 Legends                                               NaN        NaN  \n",
              "0RBITALIS                                                 NaN        NaN  \n",
              "1... 2... 3... KICK IT! (Drop That Beat Like an...        NaN        NaN  \n",
              "10 Second Ninja                                           NaN        NaN  \n",
              "10,000,000                                                NaN        NaN  \n",
              "...                                                       ...        ...  \n",
              "rymdkapsel                                                NaN        NaN  \n",
              "sZone-Online                                              NaN        NaN  \n",
              "the static speaks my name                                 NaN        NaN  \n",
              "theHunter                                                 NaN        NaN  \n",
              "theHunter Primal                                          NaN        NaN  \n",
              "\n",
              "[3599 rows x 11350 columns]"
            ],
            "text/html": [
              "\n",
              "  <div id=\"df-0fed508e-6df9-4c23-8591-52a765692efc\">\n",
              "    <div class=\"colab-df-container\">\n",
              "      <div>\n",
              "<style scoped>\n",
              "    .dataframe tbody tr th:only-of-type {\n",
              "        vertical-align: middle;\n",
              "    }\n",
              "\n",
              "    .dataframe tbody tr th {\n",
              "        vertical-align: top;\n",
              "    }\n",
              "\n",
              "    .dataframe thead th {\n",
              "        text-align: right;\n",
              "    }\n",
              "</style>\n",
              "<table border=\"1\" class=\"dataframe\">\n",
              "  <thead>\n",
              "    <tr style=\"text-align: right;\">\n",
              "      <th>Id_user</th>\n",
              "      <th>5250</th>\n",
              "      <th>76767</th>\n",
              "      <th>86540</th>\n",
              "      <th>144736</th>\n",
              "      <th>181212</th>\n",
              "      <th>229911</th>\n",
              "      <th>298950</th>\n",
              "      <th>381543</th>\n",
              "      <th>547685</th>\n",
              "      <th>554278</th>\n",
              "      <th>...</th>\n",
              "      <th>309228590</th>\n",
              "      <th>309255941</th>\n",
              "      <th>309262440</th>\n",
              "      <th>309265377</th>\n",
              "      <th>309404240</th>\n",
              "      <th>309434439</th>\n",
              "      <th>309554670</th>\n",
              "      <th>309626088</th>\n",
              "      <th>309824202</th>\n",
              "      <th>309903146</th>\n",
              "    </tr>\n",
              "    <tr>\n",
              "      <th>Game</th>\n",
              "      <th></th>\n",
              "      <th></th>\n",
              "      <th></th>\n",
              "      <th></th>\n",
              "      <th></th>\n",
              "      <th></th>\n",
              "      <th></th>\n",
              "      <th></th>\n",
              "      <th></th>\n",
              "      <th></th>\n",
              "      <th></th>\n",
              "      <th></th>\n",
              "      <th></th>\n",
              "      <th></th>\n",
              "      <th></th>\n",
              "      <th></th>\n",
              "      <th></th>\n",
              "      <th></th>\n",
              "      <th></th>\n",
              "      <th></th>\n",
              "      <th></th>\n",
              "    </tr>\n",
              "  </thead>\n",
              "  <tbody>\n",
              "    <tr>\n",
              "      <th>007 Legends</th>\n",
              "      <td>NaN</td>\n",
              "      <td>NaN</td>\n",
              "      <td>NaN</td>\n",
              "      <td>NaN</td>\n",
              "      <td>NaN</td>\n",
              "      <td>NaN</td>\n",
              "      <td>NaN</td>\n",
              "      <td>NaN</td>\n",
              "      <td>NaN</td>\n",
              "      <td>NaN</td>\n",
              "      <td>...</td>\n",
              "      <td>NaN</td>\n",
              "      <td>NaN</td>\n",
              "      <td>NaN</td>\n",
              "      <td>NaN</td>\n",
              "      <td>NaN</td>\n",
              "      <td>NaN</td>\n",
              "      <td>NaN</td>\n",
              "      <td>NaN</td>\n",
              "      <td>NaN</td>\n",
              "      <td>NaN</td>\n",
              "    </tr>\n",
              "    <tr>\n",
              "      <th>0RBITALIS</th>\n",
              "      <td>NaN</td>\n",
              "      <td>NaN</td>\n",
              "      <td>NaN</td>\n",
              "      <td>NaN</td>\n",
              "      <td>NaN</td>\n",
              "      <td>NaN</td>\n",
              "      <td>NaN</td>\n",
              "      <td>NaN</td>\n",
              "      <td>NaN</td>\n",
              "      <td>NaN</td>\n",
              "      <td>...</td>\n",
              "      <td>NaN</td>\n",
              "      <td>NaN</td>\n",
              "      <td>NaN</td>\n",
              "      <td>NaN</td>\n",
              "      <td>NaN</td>\n",
              "      <td>NaN</td>\n",
              "      <td>NaN</td>\n",
              "      <td>NaN</td>\n",
              "      <td>NaN</td>\n",
              "      <td>NaN</td>\n",
              "    </tr>\n",
              "    <tr>\n",
              "      <th>1... 2... 3... KICK IT! (Drop That Beat Like an Ugly Baby)</th>\n",
              "      <td>NaN</td>\n",
              "      <td>NaN</td>\n",
              "      <td>NaN</td>\n",
              "      <td>NaN</td>\n",
              "      <td>NaN</td>\n",
              "      <td>NaN</td>\n",
              "      <td>NaN</td>\n",
              "      <td>NaN</td>\n",
              "      <td>NaN</td>\n",
              "      <td>NaN</td>\n",
              "      <td>...</td>\n",
              "      <td>NaN</td>\n",
              "      <td>NaN</td>\n",
              "      <td>NaN</td>\n",
              "      <td>NaN</td>\n",
              "      <td>NaN</td>\n",
              "      <td>NaN</td>\n",
              "      <td>NaN</td>\n",
              "      <td>NaN</td>\n",
              "      <td>NaN</td>\n",
              "      <td>NaN</td>\n",
              "    </tr>\n",
              "    <tr>\n",
              "      <th>10 Second Ninja</th>\n",
              "      <td>NaN</td>\n",
              "      <td>NaN</td>\n",
              "      <td>NaN</td>\n",
              "      <td>NaN</td>\n",
              "      <td>NaN</td>\n",
              "      <td>NaN</td>\n",
              "      <td>NaN</td>\n",
              "      <td>NaN</td>\n",
              "      <td>NaN</td>\n",
              "      <td>NaN</td>\n",
              "      <td>...</td>\n",
              "      <td>NaN</td>\n",
              "      <td>NaN</td>\n",
              "      <td>NaN</td>\n",
              "      <td>NaN</td>\n",
              "      <td>NaN</td>\n",
              "      <td>NaN</td>\n",
              "      <td>NaN</td>\n",
              "      <td>NaN</td>\n",
              "      <td>NaN</td>\n",
              "      <td>NaN</td>\n",
              "    </tr>\n",
              "    <tr>\n",
              "      <th>10,000,000</th>\n",
              "      <td>NaN</td>\n",
              "      <td>NaN</td>\n",
              "      <td>NaN</td>\n",
              "      <td>NaN</td>\n",
              "      <td>NaN</td>\n",
              "      <td>NaN</td>\n",
              "      <td>NaN</td>\n",
              "      <td>NaN</td>\n",
              "      <td>NaN</td>\n",
              "      <td>NaN</td>\n",
              "      <td>...</td>\n",
              "      <td>NaN</td>\n",
              "      <td>NaN</td>\n",
              "      <td>NaN</td>\n",
              "      <td>NaN</td>\n",
              "      <td>NaN</td>\n",
              "      <td>NaN</td>\n",
              "      <td>NaN</td>\n",
              "      <td>NaN</td>\n",
              "      <td>NaN</td>\n",
              "      <td>NaN</td>\n",
              "    </tr>\n",
              "    <tr>\n",
              "      <th>...</th>\n",
              "      <td>...</td>\n",
              "      <td>...</td>\n",
              "      <td>...</td>\n",
              "      <td>...</td>\n",
              "      <td>...</td>\n",
              "      <td>...</td>\n",
              "      <td>...</td>\n",
              "      <td>...</td>\n",
              "      <td>...</td>\n",
              "      <td>...</td>\n",
              "      <td>...</td>\n",
              "      <td>...</td>\n",
              "      <td>...</td>\n",
              "      <td>...</td>\n",
              "      <td>...</td>\n",
              "      <td>...</td>\n",
              "      <td>...</td>\n",
              "      <td>...</td>\n",
              "      <td>...</td>\n",
              "      <td>...</td>\n",
              "      <td>...</td>\n",
              "    </tr>\n",
              "    <tr>\n",
              "      <th>rymdkapsel</th>\n",
              "      <td>NaN</td>\n",
              "      <td>NaN</td>\n",
              "      <td>NaN</td>\n",
              "      <td>NaN</td>\n",
              "      <td>NaN</td>\n",
              "      <td>NaN</td>\n",
              "      <td>NaN</td>\n",
              "      <td>NaN</td>\n",
              "      <td>NaN</td>\n",
              "      <td>NaN</td>\n",
              "      <td>...</td>\n",
              "      <td>NaN</td>\n",
              "      <td>NaN</td>\n",
              "      <td>NaN</td>\n",
              "      <td>NaN</td>\n",
              "      <td>NaN</td>\n",
              "      <td>NaN</td>\n",
              "      <td>NaN</td>\n",
              "      <td>NaN</td>\n",
              "      <td>NaN</td>\n",
              "      <td>NaN</td>\n",
              "    </tr>\n",
              "    <tr>\n",
              "      <th>sZone-Online</th>\n",
              "      <td>NaN</td>\n",
              "      <td>NaN</td>\n",
              "      <td>NaN</td>\n",
              "      <td>NaN</td>\n",
              "      <td>NaN</td>\n",
              "      <td>NaN</td>\n",
              "      <td>NaN</td>\n",
              "      <td>NaN</td>\n",
              "      <td>NaN</td>\n",
              "      <td>NaN</td>\n",
              "      <td>...</td>\n",
              "      <td>NaN</td>\n",
              "      <td>NaN</td>\n",
              "      <td>NaN</td>\n",
              "      <td>NaN</td>\n",
              "      <td>NaN</td>\n",
              "      <td>NaN</td>\n",
              "      <td>NaN</td>\n",
              "      <td>NaN</td>\n",
              "      <td>NaN</td>\n",
              "      <td>NaN</td>\n",
              "    </tr>\n",
              "    <tr>\n",
              "      <th>the static speaks my name</th>\n",
              "      <td>NaN</td>\n",
              "      <td>NaN</td>\n",
              "      <td>NaN</td>\n",
              "      <td>NaN</td>\n",
              "      <td>NaN</td>\n",
              "      <td>NaN</td>\n",
              "      <td>NaN</td>\n",
              "      <td>NaN</td>\n",
              "      <td>NaN</td>\n",
              "      <td>NaN</td>\n",
              "      <td>...</td>\n",
              "      <td>NaN</td>\n",
              "      <td>NaN</td>\n",
              "      <td>NaN</td>\n",
              "      <td>NaN</td>\n",
              "      <td>NaN</td>\n",
              "      <td>NaN</td>\n",
              "      <td>NaN</td>\n",
              "      <td>NaN</td>\n",
              "      <td>NaN</td>\n",
              "      <td>NaN</td>\n",
              "    </tr>\n",
              "    <tr>\n",
              "      <th>theHunter</th>\n",
              "      <td>NaN</td>\n",
              "      <td>NaN</td>\n",
              "      <td>NaN</td>\n",
              "      <td>NaN</td>\n",
              "      <td>NaN</td>\n",
              "      <td>NaN</td>\n",
              "      <td>NaN</td>\n",
              "      <td>NaN</td>\n",
              "      <td>0.2</td>\n",
              "      <td>NaN</td>\n",
              "      <td>...</td>\n",
              "      <td>NaN</td>\n",
              "      <td>NaN</td>\n",
              "      <td>NaN</td>\n",
              "      <td>NaN</td>\n",
              "      <td>NaN</td>\n",
              "      <td>NaN</td>\n",
              "      <td>NaN</td>\n",
              "      <td>NaN</td>\n",
              "      <td>NaN</td>\n",
              "      <td>NaN</td>\n",
              "    </tr>\n",
              "    <tr>\n",
              "      <th>theHunter Primal</th>\n",
              "      <td>NaN</td>\n",
              "      <td>NaN</td>\n",
              "      <td>NaN</td>\n",
              "      <td>NaN</td>\n",
              "      <td>NaN</td>\n",
              "      <td>NaN</td>\n",
              "      <td>NaN</td>\n",
              "      <td>NaN</td>\n",
              "      <td>NaN</td>\n",
              "      <td>NaN</td>\n",
              "      <td>...</td>\n",
              "      <td>NaN</td>\n",
              "      <td>NaN</td>\n",
              "      <td>NaN</td>\n",
              "      <td>NaN</td>\n",
              "      <td>NaN</td>\n",
              "      <td>NaN</td>\n",
              "      <td>NaN</td>\n",
              "      <td>NaN</td>\n",
              "      <td>NaN</td>\n",
              "      <td>NaN</td>\n",
              "    </tr>\n",
              "  </tbody>\n",
              "</table>\n",
              "<p>3599 rows × 11350 columns</p>\n",
              "</div>\n",
              "      <button class=\"colab-df-convert\" onclick=\"convertToInteractive('df-0fed508e-6df9-4c23-8591-52a765692efc')\"\n",
              "              title=\"Convert this dataframe to an interactive table.\"\n",
              "              style=\"display:none;\">\n",
              "        \n",
              "  <svg xmlns=\"http://www.w3.org/2000/svg\" height=\"24px\"viewBox=\"0 0 24 24\"\n",
              "       width=\"24px\">\n",
              "    <path d=\"M0 0h24v24H0V0z\" fill=\"none\"/>\n",
              "    <path d=\"M18.56 5.44l.94 2.06.94-2.06 2.06-.94-2.06-.94-.94-2.06-.94 2.06-2.06.94zm-11 1L8.5 8.5l.94-2.06 2.06-.94-2.06-.94L8.5 2.5l-.94 2.06-2.06.94zm10 10l.94 2.06.94-2.06 2.06-.94-2.06-.94-.94-2.06-.94 2.06-2.06.94z\"/><path d=\"M17.41 7.96l-1.37-1.37c-.4-.4-.92-.59-1.43-.59-.52 0-1.04.2-1.43.59L10.3 9.45l-7.72 7.72c-.78.78-.78 2.05 0 2.83L4 21.41c.39.39.9.59 1.41.59.51 0 1.02-.2 1.41-.59l7.78-7.78 2.81-2.81c.8-.78.8-2.07 0-2.86zM5.41 20L4 18.59l7.72-7.72 1.47 1.35L5.41 20z\"/>\n",
              "  </svg>\n",
              "      </button>\n",
              "      \n",
              "  <style>\n",
              "    .colab-df-container {\n",
              "      display:flex;\n",
              "      flex-wrap:wrap;\n",
              "      gap: 12px;\n",
              "    }\n",
              "\n",
              "    .colab-df-convert {\n",
              "      background-color: #E8F0FE;\n",
              "      border: none;\n",
              "      border-radius: 50%;\n",
              "      cursor: pointer;\n",
              "      display: none;\n",
              "      fill: #1967D2;\n",
              "      height: 32px;\n",
              "      padding: 0 0 0 0;\n",
              "      width: 32px;\n",
              "    }\n",
              "\n",
              "    .colab-df-convert:hover {\n",
              "      background-color: #E2EBFA;\n",
              "      box-shadow: 0px 1px 2px rgba(60, 64, 67, 0.3), 0px 1px 3px 1px rgba(60, 64, 67, 0.15);\n",
              "      fill: #174EA6;\n",
              "    }\n",
              "\n",
              "    [theme=dark] .colab-df-convert {\n",
              "      background-color: #3B4455;\n",
              "      fill: #D2E3FC;\n",
              "    }\n",
              "\n",
              "    [theme=dark] .colab-df-convert:hover {\n",
              "      background-color: #434B5C;\n",
              "      box-shadow: 0px 1px 3px 1px rgba(0, 0, 0, 0.15);\n",
              "      filter: drop-shadow(0px 1px 2px rgba(0, 0, 0, 0.3));\n",
              "      fill: #FFFFFF;\n",
              "    }\n",
              "  </style>\n",
              "\n",
              "      <script>\n",
              "        const buttonEl =\n",
              "          document.querySelector('#df-0fed508e-6df9-4c23-8591-52a765692efc button.colab-df-convert');\n",
              "        buttonEl.style.display =\n",
              "          google.colab.kernel.accessAllowed ? 'block' : 'none';\n",
              "\n",
              "        async function convertToInteractive(key) {\n",
              "          const element = document.querySelector('#df-0fed508e-6df9-4c23-8591-52a765692efc');\n",
              "          const dataTable =\n",
              "            await google.colab.kernel.invokeFunction('convertToInteractive',\n",
              "                                                     [key], {});\n",
              "          if (!dataTable) return;\n",
              "\n",
              "          const docLinkHtml = 'Like what you see? Visit the ' +\n",
              "            '<a target=\"_blank\" href=https://colab.research.google.com/notebooks/data_table.ipynb>data table notebook</a>'\n",
              "            + ' to learn more about interactive tables.';\n",
              "          element.innerHTML = '';\n",
              "          dataTable['output_type'] = 'display_data';\n",
              "          await google.colab.output.renderOutput(dataTable, element);\n",
              "          const docLink = document.createElement('div');\n",
              "          docLink.innerHTML = docLinkHtml;\n",
              "          element.appendChild(docLink);\n",
              "        }\n",
              "      </script>\n",
              "    </div>\n",
              "  </div>\n",
              "  "
            ]
          },
          "metadata": {},
          "execution_count": 31
        }
      ],
      "source": [
        "time_data=data_play.pivot_table('Time', index='Id_user', columns='Game').T\n",
        "time_data"
      ]
    },
    {
      "cell_type": "markdown",
      "metadata": {
        "id": "2L-m1BB8OFVi"
      },
      "source": [
        "A matriz tem muito NaN, ou seja, Not a Number, logo vamos substituí-los por zero."
      ]
    },
    {
      "cell_type": "code",
      "execution_count": null,
      "metadata": {
        "id": "vle43aK4OFVi",
        "outputId": "6c97923e-04a5-43ea-9370-2e90e05bafa8",
        "colab": {
          "base_uri": "https://localhost:8080/",
          "height": 710
        }
      },
      "outputs": [
        {
          "output_type": "execute_result",
          "data": {
            "text/plain": [
              "Id_user                                             5250       76767      \\\n",
              "Game                                                                       \n",
              "007 Legends                                               0.0        0.0   \n",
              "0RBITALIS                                                 0.0        0.0   \n",
              "1... 2... 3... KICK IT! (Drop That Beat Like an...        0.0        0.0   \n",
              "10 Second Ninja                                           0.0        0.0   \n",
              "10,000,000                                                0.0        0.0   \n",
              "...                                                       ...        ...   \n",
              "rymdkapsel                                                0.0        0.0   \n",
              "sZone-Online                                              0.0        0.0   \n",
              "the static speaks my name                                 0.0        0.0   \n",
              "theHunter                                                 0.0        0.0   \n",
              "theHunter Primal                                          0.0        0.0   \n",
              "\n",
              "Id_user                                             86540      144736     \\\n",
              "Game                                                                       \n",
              "007 Legends                                               0.0        0.0   \n",
              "0RBITALIS                                                 0.0        0.0   \n",
              "1... 2... 3... KICK IT! (Drop That Beat Like an...        0.0        0.0   \n",
              "10 Second Ninja                                           0.0        0.0   \n",
              "10,000,000                                                0.0        0.0   \n",
              "...                                                       ...        ...   \n",
              "rymdkapsel                                                0.0        0.0   \n",
              "sZone-Online                                              0.0        0.0   \n",
              "the static speaks my name                                 0.0        0.0   \n",
              "theHunter                                                 0.0        0.0   \n",
              "theHunter Primal                                          0.0        0.0   \n",
              "\n",
              "Id_user                                             181212     229911     \\\n",
              "Game                                                                       \n",
              "007 Legends                                               0.0        0.0   \n",
              "0RBITALIS                                                 0.0        0.0   \n",
              "1... 2... 3... KICK IT! (Drop That Beat Like an...        0.0        0.0   \n",
              "10 Second Ninja                                           0.0        0.0   \n",
              "10,000,000                                                0.0        0.0   \n",
              "...                                                       ...        ...   \n",
              "rymdkapsel                                                0.0        0.0   \n",
              "sZone-Online                                              0.0        0.0   \n",
              "the static speaks my name                                 0.0        0.0   \n",
              "theHunter                                                 0.0        0.0   \n",
              "theHunter Primal                                          0.0        0.0   \n",
              "\n",
              "Id_user                                             298950     381543     \\\n",
              "Game                                                                       \n",
              "007 Legends                                               0.0        0.0   \n",
              "0RBITALIS                                                 0.0        0.0   \n",
              "1... 2... 3... KICK IT! (Drop That Beat Like an...        0.0        0.0   \n",
              "10 Second Ninja                                           0.0        0.0   \n",
              "10,000,000                                                0.0        0.0   \n",
              "...                                                       ...        ...   \n",
              "rymdkapsel                                                0.0        0.0   \n",
              "sZone-Online                                              0.0        0.0   \n",
              "the static speaks my name                                 0.0        0.0   \n",
              "theHunter                                                 0.0        0.0   \n",
              "theHunter Primal                                          0.0        0.0   \n",
              "\n",
              "Id_user                                             547685     554278     ...  \\\n",
              "Game                                                                      ...   \n",
              "007 Legends                                               0.0        0.0  ...   \n",
              "0RBITALIS                                                 0.0        0.0  ...   \n",
              "1... 2... 3... KICK IT! (Drop That Beat Like an...        0.0        0.0  ...   \n",
              "10 Second Ninja                                           0.0        0.0  ...   \n",
              "10,000,000                                                0.0        0.0  ...   \n",
              "...                                                       ...        ...  ...   \n",
              "rymdkapsel                                                0.0        0.0  ...   \n",
              "sZone-Online                                              0.0        0.0  ...   \n",
              "the static speaks my name                                 0.0        0.0  ...   \n",
              "theHunter                                                 0.2        0.0  ...   \n",
              "theHunter Primal                                          0.0        0.0  ...   \n",
              "\n",
              "Id_user                                             309228590  309255941  \\\n",
              "Game                                                                       \n",
              "007 Legends                                               0.0        0.0   \n",
              "0RBITALIS                                                 0.0        0.0   \n",
              "1... 2... 3... KICK IT! (Drop That Beat Like an...        0.0        0.0   \n",
              "10 Second Ninja                                           0.0        0.0   \n",
              "10,000,000                                                0.0        0.0   \n",
              "...                                                       ...        ...   \n",
              "rymdkapsel                                                0.0        0.0   \n",
              "sZone-Online                                              0.0        0.0   \n",
              "the static speaks my name                                 0.0        0.0   \n",
              "theHunter                                                 0.0        0.0   \n",
              "theHunter Primal                                          0.0        0.0   \n",
              "\n",
              "Id_user                                             309262440  309265377  \\\n",
              "Game                                                                       \n",
              "007 Legends                                               0.0        0.0   \n",
              "0RBITALIS                                                 0.0        0.0   \n",
              "1... 2... 3... KICK IT! (Drop That Beat Like an...        0.0        0.0   \n",
              "10 Second Ninja                                           0.0        0.0   \n",
              "10,000,000                                                0.0        0.0   \n",
              "...                                                       ...        ...   \n",
              "rymdkapsel                                                0.0        0.0   \n",
              "sZone-Online                                              0.0        0.0   \n",
              "the static speaks my name                                 0.0        0.0   \n",
              "theHunter                                                 0.0        0.0   \n",
              "theHunter Primal                                          0.0        0.0   \n",
              "\n",
              "Id_user                                             309404240  309434439  \\\n",
              "Game                                                                       \n",
              "007 Legends                                               0.0        0.0   \n",
              "0RBITALIS                                                 0.0        0.0   \n",
              "1... 2... 3... KICK IT! (Drop That Beat Like an...        0.0        0.0   \n",
              "10 Second Ninja                                           0.0        0.0   \n",
              "10,000,000                                                0.0        0.0   \n",
              "...                                                       ...        ...   \n",
              "rymdkapsel                                                0.0        0.0   \n",
              "sZone-Online                                              0.0        0.0   \n",
              "the static speaks my name                                 0.0        0.0   \n",
              "theHunter                                                 0.0        0.0   \n",
              "theHunter Primal                                          0.0        0.0   \n",
              "\n",
              "Id_user                                             309554670  309626088  \\\n",
              "Game                                                                       \n",
              "007 Legends                                               0.0        0.0   \n",
              "0RBITALIS                                                 0.0        0.0   \n",
              "1... 2... 3... KICK IT! (Drop That Beat Like an...        0.0        0.0   \n",
              "10 Second Ninja                                           0.0        0.0   \n",
              "10,000,000                                                0.0        0.0   \n",
              "...                                                       ...        ...   \n",
              "rymdkapsel                                                0.0        0.0   \n",
              "sZone-Online                                              0.0        0.0   \n",
              "the static speaks my name                                 0.0        0.0   \n",
              "theHunter                                                 0.0        0.0   \n",
              "theHunter Primal                                          0.0        0.0   \n",
              "\n",
              "Id_user                                             309824202  309903146  \n",
              "Game                                                                      \n",
              "007 Legends                                               0.0        0.0  \n",
              "0RBITALIS                                                 0.0        0.0  \n",
              "1... 2... 3... KICK IT! (Drop That Beat Like an...        0.0        0.0  \n",
              "10 Second Ninja                                           0.0        0.0  \n",
              "10,000,000                                                0.0        0.0  \n",
              "...                                                       ...        ...  \n",
              "rymdkapsel                                                0.0        0.0  \n",
              "sZone-Online                                              0.0        0.0  \n",
              "the static speaks my name                                 0.0        0.0  \n",
              "theHunter                                                 0.0        0.0  \n",
              "theHunter Primal                                          0.0        0.0  \n",
              "\n",
              "[3599 rows x 11350 columns]"
            ],
            "text/html": [
              "\n",
              "  <div id=\"df-6139b040-382a-461a-ab32-4b137c83bd47\">\n",
              "    <div class=\"colab-df-container\">\n",
              "      <div>\n",
              "<style scoped>\n",
              "    .dataframe tbody tr th:only-of-type {\n",
              "        vertical-align: middle;\n",
              "    }\n",
              "\n",
              "    .dataframe tbody tr th {\n",
              "        vertical-align: top;\n",
              "    }\n",
              "\n",
              "    .dataframe thead th {\n",
              "        text-align: right;\n",
              "    }\n",
              "</style>\n",
              "<table border=\"1\" class=\"dataframe\">\n",
              "  <thead>\n",
              "    <tr style=\"text-align: right;\">\n",
              "      <th>Id_user</th>\n",
              "      <th>5250</th>\n",
              "      <th>76767</th>\n",
              "      <th>86540</th>\n",
              "      <th>144736</th>\n",
              "      <th>181212</th>\n",
              "      <th>229911</th>\n",
              "      <th>298950</th>\n",
              "      <th>381543</th>\n",
              "      <th>547685</th>\n",
              "      <th>554278</th>\n",
              "      <th>...</th>\n",
              "      <th>309228590</th>\n",
              "      <th>309255941</th>\n",
              "      <th>309262440</th>\n",
              "      <th>309265377</th>\n",
              "      <th>309404240</th>\n",
              "      <th>309434439</th>\n",
              "      <th>309554670</th>\n",
              "      <th>309626088</th>\n",
              "      <th>309824202</th>\n",
              "      <th>309903146</th>\n",
              "    </tr>\n",
              "    <tr>\n",
              "      <th>Game</th>\n",
              "      <th></th>\n",
              "      <th></th>\n",
              "      <th></th>\n",
              "      <th></th>\n",
              "      <th></th>\n",
              "      <th></th>\n",
              "      <th></th>\n",
              "      <th></th>\n",
              "      <th></th>\n",
              "      <th></th>\n",
              "      <th></th>\n",
              "      <th></th>\n",
              "      <th></th>\n",
              "      <th></th>\n",
              "      <th></th>\n",
              "      <th></th>\n",
              "      <th></th>\n",
              "      <th></th>\n",
              "      <th></th>\n",
              "      <th></th>\n",
              "      <th></th>\n",
              "    </tr>\n",
              "  </thead>\n",
              "  <tbody>\n",
              "    <tr>\n",
              "      <th>007 Legends</th>\n",
              "      <td>0.0</td>\n",
              "      <td>0.0</td>\n",
              "      <td>0.0</td>\n",
              "      <td>0.0</td>\n",
              "      <td>0.0</td>\n",
              "      <td>0.0</td>\n",
              "      <td>0.0</td>\n",
              "      <td>0.0</td>\n",
              "      <td>0.0</td>\n",
              "      <td>0.0</td>\n",
              "      <td>...</td>\n",
              "      <td>0.0</td>\n",
              "      <td>0.0</td>\n",
              "      <td>0.0</td>\n",
              "      <td>0.0</td>\n",
              "      <td>0.0</td>\n",
              "      <td>0.0</td>\n",
              "      <td>0.0</td>\n",
              "      <td>0.0</td>\n",
              "      <td>0.0</td>\n",
              "      <td>0.0</td>\n",
              "    </tr>\n",
              "    <tr>\n",
              "      <th>0RBITALIS</th>\n",
              "      <td>0.0</td>\n",
              "      <td>0.0</td>\n",
              "      <td>0.0</td>\n",
              "      <td>0.0</td>\n",
              "      <td>0.0</td>\n",
              "      <td>0.0</td>\n",
              "      <td>0.0</td>\n",
              "      <td>0.0</td>\n",
              "      <td>0.0</td>\n",
              "      <td>0.0</td>\n",
              "      <td>...</td>\n",
              "      <td>0.0</td>\n",
              "      <td>0.0</td>\n",
              "      <td>0.0</td>\n",
              "      <td>0.0</td>\n",
              "      <td>0.0</td>\n",
              "      <td>0.0</td>\n",
              "      <td>0.0</td>\n",
              "      <td>0.0</td>\n",
              "      <td>0.0</td>\n",
              "      <td>0.0</td>\n",
              "    </tr>\n",
              "    <tr>\n",
              "      <th>1... 2... 3... KICK IT! (Drop That Beat Like an Ugly Baby)</th>\n",
              "      <td>0.0</td>\n",
              "      <td>0.0</td>\n",
              "      <td>0.0</td>\n",
              "      <td>0.0</td>\n",
              "      <td>0.0</td>\n",
              "      <td>0.0</td>\n",
              "      <td>0.0</td>\n",
              "      <td>0.0</td>\n",
              "      <td>0.0</td>\n",
              "      <td>0.0</td>\n",
              "      <td>...</td>\n",
              "      <td>0.0</td>\n",
              "      <td>0.0</td>\n",
              "      <td>0.0</td>\n",
              "      <td>0.0</td>\n",
              "      <td>0.0</td>\n",
              "      <td>0.0</td>\n",
              "      <td>0.0</td>\n",
              "      <td>0.0</td>\n",
              "      <td>0.0</td>\n",
              "      <td>0.0</td>\n",
              "    </tr>\n",
              "    <tr>\n",
              "      <th>10 Second Ninja</th>\n",
              "      <td>0.0</td>\n",
              "      <td>0.0</td>\n",
              "      <td>0.0</td>\n",
              "      <td>0.0</td>\n",
              "      <td>0.0</td>\n",
              "      <td>0.0</td>\n",
              "      <td>0.0</td>\n",
              "      <td>0.0</td>\n",
              "      <td>0.0</td>\n",
              "      <td>0.0</td>\n",
              "      <td>...</td>\n",
              "      <td>0.0</td>\n",
              "      <td>0.0</td>\n",
              "      <td>0.0</td>\n",
              "      <td>0.0</td>\n",
              "      <td>0.0</td>\n",
              "      <td>0.0</td>\n",
              "      <td>0.0</td>\n",
              "      <td>0.0</td>\n",
              "      <td>0.0</td>\n",
              "      <td>0.0</td>\n",
              "    </tr>\n",
              "    <tr>\n",
              "      <th>10,000,000</th>\n",
              "      <td>0.0</td>\n",
              "      <td>0.0</td>\n",
              "      <td>0.0</td>\n",
              "      <td>0.0</td>\n",
              "      <td>0.0</td>\n",
              "      <td>0.0</td>\n",
              "      <td>0.0</td>\n",
              "      <td>0.0</td>\n",
              "      <td>0.0</td>\n",
              "      <td>0.0</td>\n",
              "      <td>...</td>\n",
              "      <td>0.0</td>\n",
              "      <td>0.0</td>\n",
              "      <td>0.0</td>\n",
              "      <td>0.0</td>\n",
              "      <td>0.0</td>\n",
              "      <td>0.0</td>\n",
              "      <td>0.0</td>\n",
              "      <td>0.0</td>\n",
              "      <td>0.0</td>\n",
              "      <td>0.0</td>\n",
              "    </tr>\n",
              "    <tr>\n",
              "      <th>...</th>\n",
              "      <td>...</td>\n",
              "      <td>...</td>\n",
              "      <td>...</td>\n",
              "      <td>...</td>\n",
              "      <td>...</td>\n",
              "      <td>...</td>\n",
              "      <td>...</td>\n",
              "      <td>...</td>\n",
              "      <td>...</td>\n",
              "      <td>...</td>\n",
              "      <td>...</td>\n",
              "      <td>...</td>\n",
              "      <td>...</td>\n",
              "      <td>...</td>\n",
              "      <td>...</td>\n",
              "      <td>...</td>\n",
              "      <td>...</td>\n",
              "      <td>...</td>\n",
              "      <td>...</td>\n",
              "      <td>...</td>\n",
              "      <td>...</td>\n",
              "    </tr>\n",
              "    <tr>\n",
              "      <th>rymdkapsel</th>\n",
              "      <td>0.0</td>\n",
              "      <td>0.0</td>\n",
              "      <td>0.0</td>\n",
              "      <td>0.0</td>\n",
              "      <td>0.0</td>\n",
              "      <td>0.0</td>\n",
              "      <td>0.0</td>\n",
              "      <td>0.0</td>\n",
              "      <td>0.0</td>\n",
              "      <td>0.0</td>\n",
              "      <td>...</td>\n",
              "      <td>0.0</td>\n",
              "      <td>0.0</td>\n",
              "      <td>0.0</td>\n",
              "      <td>0.0</td>\n",
              "      <td>0.0</td>\n",
              "      <td>0.0</td>\n",
              "      <td>0.0</td>\n",
              "      <td>0.0</td>\n",
              "      <td>0.0</td>\n",
              "      <td>0.0</td>\n",
              "    </tr>\n",
              "    <tr>\n",
              "      <th>sZone-Online</th>\n",
              "      <td>0.0</td>\n",
              "      <td>0.0</td>\n",
              "      <td>0.0</td>\n",
              "      <td>0.0</td>\n",
              "      <td>0.0</td>\n",
              "      <td>0.0</td>\n",
              "      <td>0.0</td>\n",
              "      <td>0.0</td>\n",
              "      <td>0.0</td>\n",
              "      <td>0.0</td>\n",
              "      <td>...</td>\n",
              "      <td>0.0</td>\n",
              "      <td>0.0</td>\n",
              "      <td>0.0</td>\n",
              "      <td>0.0</td>\n",
              "      <td>0.0</td>\n",
              "      <td>0.0</td>\n",
              "      <td>0.0</td>\n",
              "      <td>0.0</td>\n",
              "      <td>0.0</td>\n",
              "      <td>0.0</td>\n",
              "    </tr>\n",
              "    <tr>\n",
              "      <th>the static speaks my name</th>\n",
              "      <td>0.0</td>\n",
              "      <td>0.0</td>\n",
              "      <td>0.0</td>\n",
              "      <td>0.0</td>\n",
              "      <td>0.0</td>\n",
              "      <td>0.0</td>\n",
              "      <td>0.0</td>\n",
              "      <td>0.0</td>\n",
              "      <td>0.0</td>\n",
              "      <td>0.0</td>\n",
              "      <td>...</td>\n",
              "      <td>0.0</td>\n",
              "      <td>0.0</td>\n",
              "      <td>0.0</td>\n",
              "      <td>0.0</td>\n",
              "      <td>0.0</td>\n",
              "      <td>0.0</td>\n",
              "      <td>0.0</td>\n",
              "      <td>0.0</td>\n",
              "      <td>0.0</td>\n",
              "      <td>0.0</td>\n",
              "    </tr>\n",
              "    <tr>\n",
              "      <th>theHunter</th>\n",
              "      <td>0.0</td>\n",
              "      <td>0.0</td>\n",
              "      <td>0.0</td>\n",
              "      <td>0.0</td>\n",
              "      <td>0.0</td>\n",
              "      <td>0.0</td>\n",
              "      <td>0.0</td>\n",
              "      <td>0.0</td>\n",
              "      <td>0.2</td>\n",
              "      <td>0.0</td>\n",
              "      <td>...</td>\n",
              "      <td>0.0</td>\n",
              "      <td>0.0</td>\n",
              "      <td>0.0</td>\n",
              "      <td>0.0</td>\n",
              "      <td>0.0</td>\n",
              "      <td>0.0</td>\n",
              "      <td>0.0</td>\n",
              "      <td>0.0</td>\n",
              "      <td>0.0</td>\n",
              "      <td>0.0</td>\n",
              "    </tr>\n",
              "    <tr>\n",
              "      <th>theHunter Primal</th>\n",
              "      <td>0.0</td>\n",
              "      <td>0.0</td>\n",
              "      <td>0.0</td>\n",
              "      <td>0.0</td>\n",
              "      <td>0.0</td>\n",
              "      <td>0.0</td>\n",
              "      <td>0.0</td>\n",
              "      <td>0.0</td>\n",
              "      <td>0.0</td>\n",
              "      <td>0.0</td>\n",
              "      <td>...</td>\n",
              "      <td>0.0</td>\n",
              "      <td>0.0</td>\n",
              "      <td>0.0</td>\n",
              "      <td>0.0</td>\n",
              "      <td>0.0</td>\n",
              "      <td>0.0</td>\n",
              "      <td>0.0</td>\n",
              "      <td>0.0</td>\n",
              "      <td>0.0</td>\n",
              "      <td>0.0</td>\n",
              "    </tr>\n",
              "  </tbody>\n",
              "</table>\n",
              "<p>3599 rows × 11350 columns</p>\n",
              "</div>\n",
              "      <button class=\"colab-df-convert\" onclick=\"convertToInteractive('df-6139b040-382a-461a-ab32-4b137c83bd47')\"\n",
              "              title=\"Convert this dataframe to an interactive table.\"\n",
              "              style=\"display:none;\">\n",
              "        \n",
              "  <svg xmlns=\"http://www.w3.org/2000/svg\" height=\"24px\"viewBox=\"0 0 24 24\"\n",
              "       width=\"24px\">\n",
              "    <path d=\"M0 0h24v24H0V0z\" fill=\"none\"/>\n",
              "    <path d=\"M18.56 5.44l.94 2.06.94-2.06 2.06-.94-2.06-.94-.94-2.06-.94 2.06-2.06.94zm-11 1L8.5 8.5l.94-2.06 2.06-.94-2.06-.94L8.5 2.5l-.94 2.06-2.06.94zm10 10l.94 2.06.94-2.06 2.06-.94-2.06-.94-.94-2.06-.94 2.06-2.06.94z\"/><path d=\"M17.41 7.96l-1.37-1.37c-.4-.4-.92-.59-1.43-.59-.52 0-1.04.2-1.43.59L10.3 9.45l-7.72 7.72c-.78.78-.78 2.05 0 2.83L4 21.41c.39.39.9.59 1.41.59.51 0 1.02-.2 1.41-.59l7.78-7.78 2.81-2.81c.8-.78.8-2.07 0-2.86zM5.41 20L4 18.59l7.72-7.72 1.47 1.35L5.41 20z\"/>\n",
              "  </svg>\n",
              "      </button>\n",
              "      \n",
              "  <style>\n",
              "    .colab-df-container {\n",
              "      display:flex;\n",
              "      flex-wrap:wrap;\n",
              "      gap: 12px;\n",
              "    }\n",
              "\n",
              "    .colab-df-convert {\n",
              "      background-color: #E8F0FE;\n",
              "      border: none;\n",
              "      border-radius: 50%;\n",
              "      cursor: pointer;\n",
              "      display: none;\n",
              "      fill: #1967D2;\n",
              "      height: 32px;\n",
              "      padding: 0 0 0 0;\n",
              "      width: 32px;\n",
              "    }\n",
              "\n",
              "    .colab-df-convert:hover {\n",
              "      background-color: #E2EBFA;\n",
              "      box-shadow: 0px 1px 2px rgba(60, 64, 67, 0.3), 0px 1px 3px 1px rgba(60, 64, 67, 0.15);\n",
              "      fill: #174EA6;\n",
              "    }\n",
              "\n",
              "    [theme=dark] .colab-df-convert {\n",
              "      background-color: #3B4455;\n",
              "      fill: #D2E3FC;\n",
              "    }\n",
              "\n",
              "    [theme=dark] .colab-df-convert:hover {\n",
              "      background-color: #434B5C;\n",
              "      box-shadow: 0px 1px 3px 1px rgba(0, 0, 0, 0.15);\n",
              "      filter: drop-shadow(0px 1px 2px rgba(0, 0, 0, 0.3));\n",
              "      fill: #FFFFFF;\n",
              "    }\n",
              "  </style>\n",
              "\n",
              "      <script>\n",
              "        const buttonEl =\n",
              "          document.querySelector('#df-6139b040-382a-461a-ab32-4b137c83bd47 button.colab-df-convert');\n",
              "        buttonEl.style.display =\n",
              "          google.colab.kernel.accessAllowed ? 'block' : 'none';\n",
              "\n",
              "        async function convertToInteractive(key) {\n",
              "          const element = document.querySelector('#df-6139b040-382a-461a-ab32-4b137c83bd47');\n",
              "          const dataTable =\n",
              "            await google.colab.kernel.invokeFunction('convertToInteractive',\n",
              "                                                     [key], {});\n",
              "          if (!dataTable) return;\n",
              "\n",
              "          const docLinkHtml = 'Like what you see? Visit the ' +\n",
              "            '<a target=\"_blank\" href=https://colab.research.google.com/notebooks/data_table.ipynb>data table notebook</a>'\n",
              "            + ' to learn more about interactive tables.';\n",
              "          element.innerHTML = '';\n",
              "          dataTable['output_type'] = 'display_data';\n",
              "          await google.colab.output.renderOutput(dataTable, element);\n",
              "          const docLink = document.createElement('div');\n",
              "          docLink.innerHTML = docLinkHtml;\n",
              "          element.appendChild(docLink);\n",
              "        }\n",
              "      </script>\n",
              "    </div>\n",
              "  </div>\n",
              "  "
            ]
          },
          "metadata": {},
          "execution_count": 32
        }
      ],
      "source": [
        "time_data=time_data.fillna(0).round(1)\n",
        "time_data"
      ]
    },
    {
      "cell_type": "markdown",
      "metadata": {
        "id": "5fWQ9txZOFVi"
      },
      "source": [
        "# Recomendações\n",
        "\n",
        "Suponha que queremos** recomendar um game a um jogador x. **\n",
        "\n",
        "Entre outros usuários, nós procuramos alguém que seja similar ao jogador x em games que x joga muito.\n",
        "\n",
        "Quando encontramos alguém semelhante, podemos ver que outros games que a pessoa gosta e recomenda esses games para\n",
        "usuário x.\n",
        "\n",
        "Considere a matriz 'time_data' apresentada anteriormente. As células com NaN significa que o tempo de jogo inexiste.\n",
        "\n",
        "Queremos, por exemplo, estimar o tempo do usuário x no game Y."
      ]
    },
    {
      "cell_type": "code",
      "source": [],
      "metadata": {
        "id": "WIQJYHtEWdfj"
      },
      "execution_count": null,
      "outputs": []
    },
    {
      "cell_type": "markdown",
      "metadata": {
        "id": "tMchJkwuOFVj"
      },
      "source": [
        "![neighbors.png](data:image/png;base64,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)\n",
        "# Vamos à ideia do Vizinho mais próximo\n",
        "\n"
      ]
    },
    {
      "cell_type": "markdown",
      "metadata": {
        "id": "dUxzyBAJOFVj"
      },
      "source": [
        "Vamos procurar **quais 'Game' um determinado 'Id_user' joga e por quantas horas**"
      ]
    },
    {
      "cell_type": "code",
      "execution_count": null,
      "metadata": {
        "id": "MrvkdwRmOFVj"
      },
      "outputs": [],
      "source": [
        "steam= data_play\n",
        "Id_user=93030550\n",
        "near_user = steam.loc[steam['Id_user']==Id_user]"
      ]
    },
    {
      "cell_type": "markdown",
      "metadata": {
        "id": "Ch7ze7IbOFVk"
      },
      "source": [
        "Vamos usar 'pd.Series', para ter um array unidimensional com rótulos (no caso, games) de eixo.\n",
        "\n",
        "OBS.: Um exemplo de um objeto Series é uma coluna de um DataFrame."
      ]
    },
    {
      "cell_type": "code",
      "execution_count": null,
      "metadata": {
        "id": "u3NYdRF7OFVk",
        "outputId": "af263f3a-6f60-4400-9363-333f0911d6d3",
        "colab": {
          "base_uri": "https://localhost:8080/"
        }
      },
      "outputs": [
        {
          "output_type": "execute_result",
          "data": {
            "text/plain": [
              "Game\n",
              "0RBITALIS                        0.3\n",
              "Democracy 3                      6.3\n",
              "Dota 2                           2.5\n",
              "Empire Total War               202.0\n",
              "From Dust                        6.8\n",
              "Godus                            9.1\n",
              "Hearts of Iron III               5.8\n",
              "Just Cause 2                     9.2\n",
              "Terraria                         4.7\n",
              "Total War SHOGUN 2              26.0\n",
              "Tropico 4                        0.3\n",
              "Tropico 5                       16.6\n",
              "Wargame European Escalation      1.1\n",
              "dtype: float64"
            ]
          },
          "metadata": {},
          "execution_count": 35
        }
      ],
      "source": [
        "near_user_series = pd.Series(near_user['Time'].values, index=near_user['Game'])\n",
        "near_user_series"
      ]
    },
    {
      "cell_type": "markdown",
      "metadata": {
        "id": "-lgR9r33OFVk"
      },
      "source": [
        "Na série **'near_user_series' é possível ver que o usuário não joga **Game='100% Orange Juice'.\n",
        "\n",
        "Estão vamos criar uma cópia para 'similarity' os usuários jogam este game e por quantas horas."
      ]
    },
    {
      "cell_type": "code",
      "execution_count": null,
      "metadata": {
        "id": "2PcjQarAOFVk",
        "outputId": "9506328b-bd7b-4b7c-ede5-d4d37e1e99f2",
        "colab": {
          "base_uri": "https://localhost:8080/",
          "height": 331
        }
      },
      "outputs": [
        {
          "output_type": "execute_result",
          "data": {
            "text/plain": [
              "          Id_user               Game Behavior  Time\n",
              "133898  167815968  100% Orange Juice     play   1.4\n",
              "55898   197328486  100% Orange Juice     play  35.0\n",
              "158934  172518437  100% Orange Juice     play   1.9\n",
              "98314    88525821  100% Orange Juice     play   0.9\n",
              "122341  152078939  100% Orange Juice     play  31.0\n",
              "80667   125017535  100% Orange Juice     play   0.7\n",
              "126608  115996656  100% Orange Juice     play   2.5\n",
              "20886    93644606  100% Orange Juice     play   3.1\n",
              "16646    48028873  100% Orange Juice     play   1.8"
            ],
            "text/html": [
              "\n",
              "  <div id=\"df-6e066d65-9a0b-4065-a4a6-d9a286dfdf0f\">\n",
              "    <div class=\"colab-df-container\">\n",
              "      <div>\n",
              "<style scoped>\n",
              "    .dataframe tbody tr th:only-of-type {\n",
              "        vertical-align: middle;\n",
              "    }\n",
              "\n",
              "    .dataframe tbody tr th {\n",
              "        vertical-align: top;\n",
              "    }\n",
              "\n",
              "    .dataframe thead th {\n",
              "        text-align: right;\n",
              "    }\n",
              "</style>\n",
              "<table border=\"1\" class=\"dataframe\">\n",
              "  <thead>\n",
              "    <tr style=\"text-align: right;\">\n",
              "      <th></th>\n",
              "      <th>Id_user</th>\n",
              "      <th>Game</th>\n",
              "      <th>Behavior</th>\n",
              "      <th>Time</th>\n",
              "    </tr>\n",
              "  </thead>\n",
              "  <tbody>\n",
              "    <tr>\n",
              "      <th>133898</th>\n",
              "      <td>167815968</td>\n",
              "      <td>100% Orange Juice</td>\n",
              "      <td>play</td>\n",
              "      <td>1.4</td>\n",
              "    </tr>\n",
              "    <tr>\n",
              "      <th>55898</th>\n",
              "      <td>197328486</td>\n",
              "      <td>100% Orange Juice</td>\n",
              "      <td>play</td>\n",
              "      <td>35.0</td>\n",
              "    </tr>\n",
              "    <tr>\n",
              "      <th>158934</th>\n",
              "      <td>172518437</td>\n",
              "      <td>100% Orange Juice</td>\n",
              "      <td>play</td>\n",
              "      <td>1.9</td>\n",
              "    </tr>\n",
              "    <tr>\n",
              "      <th>98314</th>\n",
              "      <td>88525821</td>\n",
              "      <td>100% Orange Juice</td>\n",
              "      <td>play</td>\n",
              "      <td>0.9</td>\n",
              "    </tr>\n",
              "    <tr>\n",
              "      <th>122341</th>\n",
              "      <td>152078939</td>\n",
              "      <td>100% Orange Juice</td>\n",
              "      <td>play</td>\n",
              "      <td>31.0</td>\n",
              "    </tr>\n",
              "    <tr>\n",
              "      <th>80667</th>\n",
              "      <td>125017535</td>\n",
              "      <td>100% Orange Juice</td>\n",
              "      <td>play</td>\n",
              "      <td>0.7</td>\n",
              "    </tr>\n",
              "    <tr>\n",
              "      <th>126608</th>\n",
              "      <td>115996656</td>\n",
              "      <td>100% Orange Juice</td>\n",
              "      <td>play</td>\n",
              "      <td>2.5</td>\n",
              "    </tr>\n",
              "    <tr>\n",
              "      <th>20886</th>\n",
              "      <td>93644606</td>\n",
              "      <td>100% Orange Juice</td>\n",
              "      <td>play</td>\n",
              "      <td>3.1</td>\n",
              "    </tr>\n",
              "    <tr>\n",
              "      <th>16646</th>\n",
              "      <td>48028873</td>\n",
              "      <td>100% Orange Juice</td>\n",
              "      <td>play</td>\n",
              "      <td>1.8</td>\n",
              "    </tr>\n",
              "  </tbody>\n",
              "</table>\n",
              "</div>\n",
              "      <button class=\"colab-df-convert\" onclick=\"convertToInteractive('df-6e066d65-9a0b-4065-a4a6-d9a286dfdf0f')\"\n",
              "              title=\"Convert this dataframe to an interactive table.\"\n",
              "              style=\"display:none;\">\n",
              "        \n",
              "  <svg xmlns=\"http://www.w3.org/2000/svg\" height=\"24px\"viewBox=\"0 0 24 24\"\n",
              "       width=\"24px\">\n",
              "    <path d=\"M0 0h24v24H0V0z\" fill=\"none\"/>\n",
              "    <path d=\"M18.56 5.44l.94 2.06.94-2.06 2.06-.94-2.06-.94-.94-2.06-.94 2.06-2.06.94zm-11 1L8.5 8.5l.94-2.06 2.06-.94-2.06-.94L8.5 2.5l-.94 2.06-2.06.94zm10 10l.94 2.06.94-2.06 2.06-.94-2.06-.94-.94-2.06-.94 2.06-2.06.94z\"/><path d=\"M17.41 7.96l-1.37-1.37c-.4-.4-.92-.59-1.43-.59-.52 0-1.04.2-1.43.59L10.3 9.45l-7.72 7.72c-.78.78-.78 2.05 0 2.83L4 21.41c.39.39.9.59 1.41.59.51 0 1.02-.2 1.41-.59l7.78-7.78 2.81-2.81c.8-.78.8-2.07 0-2.86zM5.41 20L4 18.59l7.72-7.72 1.47 1.35L5.41 20z\"/>\n",
              "  </svg>\n",
              "      </button>\n",
              "      \n",
              "  <style>\n",
              "    .colab-df-container {\n",
              "      display:flex;\n",
              "      flex-wrap:wrap;\n",
              "      gap: 12px;\n",
              "    }\n",
              "\n",
              "    .colab-df-convert {\n",
              "      background-color: #E8F0FE;\n",
              "      border: none;\n",
              "      border-radius: 50%;\n",
              "      cursor: pointer;\n",
              "      display: none;\n",
              "      fill: #1967D2;\n",
              "      height: 32px;\n",
              "      padding: 0 0 0 0;\n",
              "      width: 32px;\n",
              "    }\n",
              "\n",
              "    .colab-df-convert:hover {\n",
              "      background-color: #E2EBFA;\n",
              "      box-shadow: 0px 1px 2px rgba(60, 64, 67, 0.3), 0px 1px 3px 1px rgba(60, 64, 67, 0.15);\n",
              "      fill: #174EA6;\n",
              "    }\n",
              "\n",
              "    [theme=dark] .colab-df-convert {\n",
              "      background-color: #3B4455;\n",
              "      fill: #D2E3FC;\n",
              "    }\n",
              "\n",
              "    [theme=dark] .colab-df-convert:hover {\n",
              "      background-color: #434B5C;\n",
              "      box-shadow: 0px 1px 3px 1px rgba(0, 0, 0, 0.15);\n",
              "      filter: drop-shadow(0px 1px 2px rgba(0, 0, 0, 0.3));\n",
              "      fill: #FFFFFF;\n",
              "    }\n",
              "  </style>\n",
              "\n",
              "      <script>\n",
              "        const buttonEl =\n",
              "          document.querySelector('#df-6e066d65-9a0b-4065-a4a6-d9a286dfdf0f button.colab-df-convert');\n",
              "        buttonEl.style.display =\n",
              "          google.colab.kernel.accessAllowed ? 'block' : 'none';\n",
              "\n",
              "        async function convertToInteractive(key) {\n",
              "          const element = document.querySelector('#df-6e066d65-9a0b-4065-a4a6-d9a286dfdf0f');\n",
              "          const dataTable =\n",
              "            await google.colab.kernel.invokeFunction('convertToInteractive',\n",
              "                                                     [key], {});\n",
              "          if (!dataTable) return;\n",
              "\n",
              "          const docLinkHtml = 'Like what you see? Visit the ' +\n",
              "            '<a target=\"_blank\" href=https://colab.research.google.com/notebooks/data_table.ipynb>data table notebook</a>'\n",
              "            + ' to learn more about interactive tables.';\n",
              "          element.innerHTML = '';\n",
              "          dataTable['output_type'] = 'display_data';\n",
              "          await google.colab.output.renderOutput(dataTable, element);\n",
              "          const docLink = document.createElement('div');\n",
              "          docLink.innerHTML = docLinkHtml;\n",
              "          element.appendChild(docLink);\n",
              "        }\n",
              "      </script>\n",
              "    </div>\n",
              "  </div>\n",
              "  "
            ]
          },
          "metadata": {},
          "execution_count": 36
        }
      ],
      "source": [
        "Game='100% Orange Juice'\n",
        "similarity = steam[steam['Game'] == Game].copy()\n",
        "similarity"
      ]
    },
    {
      "cell_type": "markdown",
      "metadata": {
        "id": "ETF-2RWmOFVl"
      },
      "source": [
        "Vamos criar dois array, inicializados com 0, para calcularmos as similaridades e a média dos tempos deste 9 usuários que jogam \"100% Orange Juice\"."
      ]
    },
    {
      "cell_type": "code",
      "execution_count": null,
      "metadata": {
        "id": "73D5n9PQOFVl",
        "outputId": "b71d111e-b9f2-4005-eeda-de9dbcbba023",
        "colab": {
          "base_uri": "https://localhost:8080/"
        }
      },
      "outputs": [
        {
          "output_type": "execute_result",
          "data": {
            "text/plain": [
              "array([0., 0., 0., 0., 0., 0., 0., 0., 0.])"
            ]
          },
          "metadata": {},
          "execution_count": 37
        }
      ],
      "source": [
        "similarities = np.zeros(len(similarity))\n",
        "similarities"
      ]
    },
    {
      "cell_type": "code",
      "execution_count": null,
      "metadata": {
        "id": "LAwJM6udOFVl",
        "outputId": "f42a15f5-448f-4eeb-8ffc-653b7f2bba53",
        "colab": {
          "base_uri": "https://localhost:8080/"
        }
      },
      "outputs": [
        {
          "output_type": "execute_result",
          "data": {
            "text/plain": [
              "array([0., 0., 0., 0., 0., 0., 0., 0., 0.])"
            ]
          },
          "metadata": {},
          "execution_count": 38
        }
      ],
      "source": [
        "avg_near = np.zeros(len(similarity))\n",
        "avg_near"
      ]
    },
    {
      "cell_type": "markdown",
      "metadata": {
        "id": "UpEuz9YHOFVl"
      },
      "source": [
        "# Descrição do processo de calculo das similaridades\n",
        "\n",
        "similarities [i]: armazena a similaridade do usuário X  com o usuário Y (que joga '100% Orange Juice'). A similaridade é baseada no tempo de jogo, usando a fórmula do cosseno.\n",
        "\n",
        "avg_near [i]: armazena a média dos tempos de cada usuário Y (que joga '100% Orange Juice').\n"
      ]
    },
    {
      "cell_type": "code",
      "execution_count": null,
      "metadata": {
        "id": "7wABmIkhOFVl"
      },
      "outputs": [],
      "source": [
        "from statistics import *\n",
        "from scipy.spatial.distance import cosine\n",
        "\n",
        "for i,user in enumerate(similarity.Id_user): #Percorrer cada um dos 'Id_user' que joga '100% Orange Juice'\n",
        "    #print('user:', user)\n",
        "    near_u = steam.loc[steam['Id_user']==user] #games que eles jogam, com os respectivos tempos\n",
        "    #print (near_u)\n",
        "    near_u_series = pd.Series(near_u['Time'].values, index=near_u['Game']) #todos os games e tempos, juntos\n",
        "    #print (near_u_series)\n",
        "\n",
        "    df = pd.DataFrame({'one': near_user_series - mean(near_user_series), #horas do usuário X no game - sua média de horas jogadas.\n",
        "                       'two': near_u_series - mean(near_u_series)}) #horas do usuário Y no game - sua média de horas jogadas (Y joga '100% Orange Juice')\n",
        "\n",
        "    # DataFrame que armazena em duas colunas: 'one' e 'two'\n",
        "\n",
        "    #print(df.one.fillna(0), df.two.fillna(0))\n",
        "    similarities[i] = 1-cosine(df.one.fillna(0), df.two.fillna(0))\n",
        "    #print (similarities[i])\n",
        "    avg_near[i] = mean(near_u_series)\n",
        "    #print(avg_near[i])"
      ]
    },
    {
      "cell_type": "raw",
      "metadata": {
        "id": "TyR2XNYqOFVm"
      },
      "source": []
    },
    {
      "cell_type": "markdown",
      "metadata": {
        "id": "A9oeP0jjOFVm"
      },
      "source": [
        "# Vizinho mais próximo: usuário\n",
        "\n"
      ]
    },
    {
      "cell_type": "code",
      "execution_count": null,
      "metadata": {
        "id": "VuEETZ5jOFVm"
      },
      "outputs": [],
      "source": [
        "def user_nearest_neighbors(steam, Id_user, Game, k):\n",
        "    near_user = steam.loc[steam['Id_user']==Id_user]\n",
        "    near_user_series = pd.Series(near_user['Time'].values, index=near_user['Game'])\n",
        "    similarity = steam[steam['Game'] == Game].copy()\n",
        "    similarities = np.zeros(len(similarity))\n",
        "    avg_near = np.zeros(len(similarity))\n",
        "    for i,user in enumerate(similarity.Id_user):\n",
        "        near_u = steam.loc[steam['Id_user']==user]\n",
        "\n",
        "        near_u_series = pd.Series(near_u['Time'].values, index=near_u['Game'])\n",
        "        df = pd.DataFrame({'one': near_user_series - mean(near_user_series),\n",
        "                           'two': near_u_series - mean(near_u_series)})\n",
        "        similarities[i] = 1-cosine(df.one.fillna(0), df.two.fillna(0))\n",
        "        avg_near[i] = mean(near_u_series)\n",
        "    similarity['similarities'] = similarities\n",
        "    similarity['avg_near'] = avg_near\n",
        "    return similarity.sort_values('similarities',ascending=False)[:k].copy()"
      ]
    },
    {
      "cell_type": "code",
      "execution_count": null,
      "metadata": {
        "scrolled": true,
        "id": "WkUC-O9ZOFVm",
        "outputId": "5b5d2e3e-2cfd-4a3a-a67e-f9cdca684846",
        "colab": {
          "base_uri": "https://localhost:8080/",
          "height": 206
        }
      },
      "outputs": [
        {
          "output_type": "execute_result",
          "data": {
            "text/plain": [
              "          Id_user               Game Behavior  Time  similarities   avg_near\n",
              "133898  167815968  100% Orange Juice     play   1.4      1.000000  47.663333\n",
              "55898   197328486  100% Orange Juice     play  35.0      0.008185  29.125000\n",
              "126608  115996656  100% Orange Juice     play   2.5      0.003519  36.981818\n",
              "98314    88525821  100% Orange Juice     play   0.9      0.003142  24.250000\n",
              "16646    48028873  100% Orange Juice     play   1.8      0.002713  11.039130"
            ],
            "text/html": [
              "\n",
              "  <div id=\"df-163d00c7-1264-46a1-8777-d263aff1d528\">\n",
              "    <div class=\"colab-df-container\">\n",
              "      <div>\n",
              "<style scoped>\n",
              "    .dataframe tbody tr th:only-of-type {\n",
              "        vertical-align: middle;\n",
              "    }\n",
              "\n",
              "    .dataframe tbody tr th {\n",
              "        vertical-align: top;\n",
              "    }\n",
              "\n",
              "    .dataframe thead th {\n",
              "        text-align: right;\n",
              "    }\n",
              "</style>\n",
              "<table border=\"1\" class=\"dataframe\">\n",
              "  <thead>\n",
              "    <tr style=\"text-align: right;\">\n",
              "      <th></th>\n",
              "      <th>Id_user</th>\n",
              "      <th>Game</th>\n",
              "      <th>Behavior</th>\n",
              "      <th>Time</th>\n",
              "      <th>similarities</th>\n",
              "      <th>avg_near</th>\n",
              "    </tr>\n",
              "  </thead>\n",
              "  <tbody>\n",
              "    <tr>\n",
              "      <th>133898</th>\n",
              "      <td>167815968</td>\n",
              "      <td>100% Orange Juice</td>\n",
              "      <td>play</td>\n",
              "      <td>1.4</td>\n",
              "      <td>1.000000</td>\n",
              "      <td>47.663333</td>\n",
              "    </tr>\n",
              "    <tr>\n",
              "      <th>55898</th>\n",
              "      <td>197328486</td>\n",
              "      <td>100% Orange Juice</td>\n",
              "      <td>play</td>\n",
              "      <td>35.0</td>\n",
              "      <td>0.008185</td>\n",
              "      <td>29.125000</td>\n",
              "    </tr>\n",
              "    <tr>\n",
              "      <th>126608</th>\n",
              "      <td>115996656</td>\n",
              "      <td>100% Orange Juice</td>\n",
              "      <td>play</td>\n",
              "      <td>2.5</td>\n",
              "      <td>0.003519</td>\n",
              "      <td>36.981818</td>\n",
              "    </tr>\n",
              "    <tr>\n",
              "      <th>98314</th>\n",
              "      <td>88525821</td>\n",
              "      <td>100% Orange Juice</td>\n",
              "      <td>play</td>\n",
              "      <td>0.9</td>\n",
              "      <td>0.003142</td>\n",
              "      <td>24.250000</td>\n",
              "    </tr>\n",
              "    <tr>\n",
              "      <th>16646</th>\n",
              "      <td>48028873</td>\n",
              "      <td>100% Orange Juice</td>\n",
              "      <td>play</td>\n",
              "      <td>1.8</td>\n",
              "      <td>0.002713</td>\n",
              "      <td>11.039130</td>\n",
              "    </tr>\n",
              "  </tbody>\n",
              "</table>\n",
              "</div>\n",
              "      <button class=\"colab-df-convert\" onclick=\"convertToInteractive('df-163d00c7-1264-46a1-8777-d263aff1d528')\"\n",
              "              title=\"Convert this dataframe to an interactive table.\"\n",
              "              style=\"display:none;\">\n",
              "        \n",
              "  <svg xmlns=\"http://www.w3.org/2000/svg\" height=\"24px\"viewBox=\"0 0 24 24\"\n",
              "       width=\"24px\">\n",
              "    <path d=\"M0 0h24v24H0V0z\" fill=\"none\"/>\n",
              "    <path d=\"M18.56 5.44l.94 2.06.94-2.06 2.06-.94-2.06-.94-.94-2.06-.94 2.06-2.06.94zm-11 1L8.5 8.5l.94-2.06 2.06-.94-2.06-.94L8.5 2.5l-.94 2.06-2.06.94zm10 10l.94 2.06.94-2.06 2.06-.94-2.06-.94-.94-2.06-.94 2.06-2.06.94z\"/><path d=\"M17.41 7.96l-1.37-1.37c-.4-.4-.92-.59-1.43-.59-.52 0-1.04.2-1.43.59L10.3 9.45l-7.72 7.72c-.78.78-.78 2.05 0 2.83L4 21.41c.39.39.9.59 1.41.59.51 0 1.02-.2 1.41-.59l7.78-7.78 2.81-2.81c.8-.78.8-2.07 0-2.86zM5.41 20L4 18.59l7.72-7.72 1.47 1.35L5.41 20z\"/>\n",
              "  </svg>\n",
              "      </button>\n",
              "      \n",
              "  <style>\n",
              "    .colab-df-container {\n",
              "      display:flex;\n",
              "      flex-wrap:wrap;\n",
              "      gap: 12px;\n",
              "    }\n",
              "\n",
              "    .colab-df-convert {\n",
              "      background-color: #E8F0FE;\n",
              "      border: none;\n",
              "      border-radius: 50%;\n",
              "      cursor: pointer;\n",
              "      display: none;\n",
              "      fill: #1967D2;\n",
              "      height: 32px;\n",
              "      padding: 0 0 0 0;\n",
              "      width: 32px;\n",
              "    }\n",
              "\n",
              "    .colab-df-convert:hover {\n",
              "      background-color: #E2EBFA;\n",
              "      box-shadow: 0px 1px 2px rgba(60, 64, 67, 0.3), 0px 1px 3px 1px rgba(60, 64, 67, 0.15);\n",
              "      fill: #174EA6;\n",
              "    }\n",
              "\n",
              "    [theme=dark] .colab-df-convert {\n",
              "      background-color: #3B4455;\n",
              "      fill: #D2E3FC;\n",
              "    }\n",
              "\n",
              "    [theme=dark] .colab-df-convert:hover {\n",
              "      background-color: #434B5C;\n",
              "      box-shadow: 0px 1px 3px 1px rgba(0, 0, 0, 0.15);\n",
              "      filter: drop-shadow(0px 1px 2px rgba(0, 0, 0, 0.3));\n",
              "      fill: #FFFFFF;\n",
              "    }\n",
              "  </style>\n",
              "\n",
              "      <script>\n",
              "        const buttonEl =\n",
              "          document.querySelector('#df-163d00c7-1264-46a1-8777-d263aff1d528 button.colab-df-convert');\n",
              "        buttonEl.style.display =\n",
              "          google.colab.kernel.accessAllowed ? 'block' : 'none';\n",
              "\n",
              "        async function convertToInteractive(key) {\n",
              "          const element = document.querySelector('#df-163d00c7-1264-46a1-8777-d263aff1d528');\n",
              "          const dataTable =\n",
              "            await google.colab.kernel.invokeFunction('convertToInteractive',\n",
              "                                                     [key], {});\n",
              "          if (!dataTable) return;\n",
              "\n",
              "          const docLinkHtml = 'Like what you see? Visit the ' +\n",
              "            '<a target=\"_blank\" href=https://colab.research.google.com/notebooks/data_table.ipynb>data table notebook</a>'\n",
              "            + ' to learn more about interactive tables.';\n",
              "          element.innerHTML = '';\n",
              "          dataTable['output_type'] = 'display_data';\n",
              "          await google.colab.output.renderOutput(dataTable, element);\n",
              "          const docLink = document.createElement('div');\n",
              "          docLink.innerHTML = docLinkHtml;\n",
              "          element.appendChild(docLink);\n",
              "        }\n",
              "      </script>\n",
              "    </div>\n",
              "  </div>\n",
              "  "
            ]
          },
          "metadata": {},
          "execution_count": 41
        }
      ],
      "source": [
        "user_nearest_neighbors(data_play, Id_user=167815968, Game='100% Orange Juice', k=5)"
      ]
    },
    {
      "cell_type": "markdown",
      "metadata": {
        "id": "gmPiiSNsOFVm"
      },
      "source": [
        "# User-User recommendation\n",
        "\n",
        "$$ p_{u,i} = \\overline{r}_u + \\frac{\\sum_{u'\\in N} s(u,u')(r_{u',i}-\\overline{r}_{u'})}{\\sum_{u'\\in N}|s(u,u')|} $$\n"
      ]
    },
    {
      "cell_type": "markdown",
      "metadata": {
        "id": "5TEWsb_iOFVm"
      },
      "source": [
        "Cálculo da média de horas jogadas por um determinado usuário."
      ]
    },
    {
      "cell_type": "code",
      "execution_count": null,
      "metadata": {
        "id": "FE-aXMvdOFVn",
        "outputId": "3a528cfb-b091-4202-f91f-7cede712da29",
        "colab": {
          "base_uri": "https://localhost:8080/"
        }
      },
      "outputs": [
        {
          "output_type": "execute_result",
          "data": {
            "text/plain": [
              "5.550000000000001"
            ]
          },
          "metadata": {},
          "execution_count": 42
        }
      ],
      "source": [
        "Id_user = 181010210\n",
        "x=data_play[data_play['Id_user']==Id_user]['Time']\n",
        "s_mean = x.mean()\n",
        "s_mean"
      ]
    },
    {
      "cell_type": "markdown",
      "metadata": {
        "id": "1KFs5WgoOFVn"
      },
      "source": [
        "Para este usuário X ('Id_user'), vamos buscar os usuários semelhantes a ele, considerando um determinado jogo ('Game').\n",
        "\n",
        "Estes parâmetros são passados para 'user_nearest_neighbors', que retorna os K usuários vizinhos e o tempo jogado em tal Game, além do cálculo da similaridade e a média de horas jogadas.\n",
        "\n",
        "SIMILARIDADE: por representar o cosseno entre vetores, o momento em que os vetores de tempo estão mais próximos, demonstrando máxima similaridade entre si, está quando formam entre si um ângulo de 0º, isto é, quando seu cosseno tem valor 1. Na mesma lógica, apresentam maior \"rejeição\" entre si quando formam um ângulo de 180º, resultando em um\n",
        "cosseno de −1. Logo, a cosseno similaridade gera valores no intervalo [−1,1] , tal que -1 representa a máxima incompatibilidade entre os usuários, o valor 0 representa completa indiferença entre os usuários e o valor 1 representa\n",
        "a máxima similaridade entre os usuários (idênticos)."
      ]
    },
    {
      "cell_type": "code",
      "execution_count": null,
      "metadata": {
        "id": "FN09_lKoOFVn",
        "outputId": "912b3d56-08e5-461e-be05-79e39d12815c",
        "colab": {
          "base_uri": "https://localhost:8080/",
          "height": 206
        }
      },
      "outputs": [
        {
          "output_type": "execute_result",
          "data": {
            "text/plain": [
              "          Id_user               Game Behavior  Time  similarities    avg_near\n",
              "80667   125017535  100% Orange Juice     play   0.7      0.297335  110.364286\n",
              "98314    88525821  100% Orange Juice     play   0.9      0.290850   24.250000\n",
              "126608  115996656  100% Orange Juice     play   2.5      0.275364   36.981818\n",
              "122341  152078939  100% Orange Juice     play  31.0      0.121560   16.282051\n",
              "158934  172518437  100% Orange Juice     play   1.9      0.020088    6.639241"
            ],
            "text/html": [
              "\n",
              "  <div id=\"df-4dd31801-6ea5-4b17-b697-338c26300da8\">\n",
              "    <div class=\"colab-df-container\">\n",
              "      <div>\n",
              "<style scoped>\n",
              "    .dataframe tbody tr th:only-of-type {\n",
              "        vertical-align: middle;\n",
              "    }\n",
              "\n",
              "    .dataframe tbody tr th {\n",
              "        vertical-align: top;\n",
              "    }\n",
              "\n",
              "    .dataframe thead th {\n",
              "        text-align: right;\n",
              "    }\n",
              "</style>\n",
              "<table border=\"1\" class=\"dataframe\">\n",
              "  <thead>\n",
              "    <tr style=\"text-align: right;\">\n",
              "      <th></th>\n",
              "      <th>Id_user</th>\n",
              "      <th>Game</th>\n",
              "      <th>Behavior</th>\n",
              "      <th>Time</th>\n",
              "      <th>similarities</th>\n",
              "      <th>avg_near</th>\n",
              "    </tr>\n",
              "  </thead>\n",
              "  <tbody>\n",
              "    <tr>\n",
              "      <th>80667</th>\n",
              "      <td>125017535</td>\n",
              "      <td>100% Orange Juice</td>\n",
              "      <td>play</td>\n",
              "      <td>0.7</td>\n",
              "      <td>0.297335</td>\n",
              "      <td>110.364286</td>\n",
              "    </tr>\n",
              "    <tr>\n",
              "      <th>98314</th>\n",
              "      <td>88525821</td>\n",
              "      <td>100% Orange Juice</td>\n",
              "      <td>play</td>\n",
              "      <td>0.9</td>\n",
              "      <td>0.290850</td>\n",
              "      <td>24.250000</td>\n",
              "    </tr>\n",
              "    <tr>\n",
              "      <th>126608</th>\n",
              "      <td>115996656</td>\n",
              "      <td>100% Orange Juice</td>\n",
              "      <td>play</td>\n",
              "      <td>2.5</td>\n",
              "      <td>0.275364</td>\n",
              "      <td>36.981818</td>\n",
              "    </tr>\n",
              "    <tr>\n",
              "      <th>122341</th>\n",
              "      <td>152078939</td>\n",
              "      <td>100% Orange Juice</td>\n",
              "      <td>play</td>\n",
              "      <td>31.0</td>\n",
              "      <td>0.121560</td>\n",
              "      <td>16.282051</td>\n",
              "    </tr>\n",
              "    <tr>\n",
              "      <th>158934</th>\n",
              "      <td>172518437</td>\n",
              "      <td>100% Orange Juice</td>\n",
              "      <td>play</td>\n",
              "      <td>1.9</td>\n",
              "      <td>0.020088</td>\n",
              "      <td>6.639241</td>\n",
              "    </tr>\n",
              "  </tbody>\n",
              "</table>\n",
              "</div>\n",
              "      <button class=\"colab-df-convert\" onclick=\"convertToInteractive('df-4dd31801-6ea5-4b17-b697-338c26300da8')\"\n",
              "              title=\"Convert this dataframe to an interactive table.\"\n",
              "              style=\"display:none;\">\n",
              "        \n",
              "  <svg xmlns=\"http://www.w3.org/2000/svg\" height=\"24px\"viewBox=\"0 0 24 24\"\n",
              "       width=\"24px\">\n",
              "    <path d=\"M0 0h24v24H0V0z\" fill=\"none\"/>\n",
              "    <path d=\"M18.56 5.44l.94 2.06.94-2.06 2.06-.94-2.06-.94-.94-2.06-.94 2.06-2.06.94zm-11 1L8.5 8.5l.94-2.06 2.06-.94-2.06-.94L8.5 2.5l-.94 2.06-2.06.94zm10 10l.94 2.06.94-2.06 2.06-.94-2.06-.94-.94-2.06-.94 2.06-2.06.94z\"/><path d=\"M17.41 7.96l-1.37-1.37c-.4-.4-.92-.59-1.43-.59-.52 0-1.04.2-1.43.59L10.3 9.45l-7.72 7.72c-.78.78-.78 2.05 0 2.83L4 21.41c.39.39.9.59 1.41.59.51 0 1.02-.2 1.41-.59l7.78-7.78 2.81-2.81c.8-.78.8-2.07 0-2.86zM5.41 20L4 18.59l7.72-7.72 1.47 1.35L5.41 20z\"/>\n",
              "  </svg>\n",
              "      </button>\n",
              "      \n",
              "  <style>\n",
              "    .colab-df-container {\n",
              "      display:flex;\n",
              "      flex-wrap:wrap;\n",
              "      gap: 12px;\n",
              "    }\n",
              "\n",
              "    .colab-df-convert {\n",
              "      background-color: #E8F0FE;\n",
              "      border: none;\n",
              "      border-radius: 50%;\n",
              "      cursor: pointer;\n",
              "      display: none;\n",
              "      fill: #1967D2;\n",
              "      height: 32px;\n",
              "      padding: 0 0 0 0;\n",
              "      width: 32px;\n",
              "    }\n",
              "\n",
              "    .colab-df-convert:hover {\n",
              "      background-color: #E2EBFA;\n",
              "      box-shadow: 0px 1px 2px rgba(60, 64, 67, 0.3), 0px 1px 3px 1px rgba(60, 64, 67, 0.15);\n",
              "      fill: #174EA6;\n",
              "    }\n",
              "\n",
              "    [theme=dark] .colab-df-convert {\n",
              "      background-color: #3B4455;\n",
              "      fill: #D2E3FC;\n",
              "    }\n",
              "\n",
              "    [theme=dark] .colab-df-convert:hover {\n",
              "      background-color: #434B5C;\n",
              "      box-shadow: 0px 1px 3px 1px rgba(0, 0, 0, 0.15);\n",
              "      filter: drop-shadow(0px 1px 2px rgba(0, 0, 0, 0.3));\n",
              "      fill: #FFFFFF;\n",
              "    }\n",
              "  </style>\n",
              "\n",
              "      <script>\n",
              "        const buttonEl =\n",
              "          document.querySelector('#df-4dd31801-6ea5-4b17-b697-338c26300da8 button.colab-df-convert');\n",
              "        buttonEl.style.display =\n",
              "          google.colab.kernel.accessAllowed ? 'block' : 'none';\n",
              "\n",
              "        async function convertToInteractive(key) {\n",
              "          const element = document.querySelector('#df-4dd31801-6ea5-4b17-b697-338c26300da8');\n",
              "          const dataTable =\n",
              "            await google.colab.kernel.invokeFunction('convertToInteractive',\n",
              "                                                     [key], {});\n",
              "          if (!dataTable) return;\n",
              "\n",
              "          const docLinkHtml = 'Like what you see? Visit the ' +\n",
              "            '<a target=\"_blank\" href=https://colab.research.google.com/notebooks/data_table.ipynb>data table notebook</a>'\n",
              "            + ' to learn more about interactive tables.';\n",
              "          element.innerHTML = '';\n",
              "          dataTable['output_type'] = 'display_data';\n",
              "          await google.colab.output.renderOutput(dataTable, element);\n",
              "          const docLink = document.createElement('div');\n",
              "          docLink.innerHTML = docLinkHtml;\n",
              "          element.appendChild(docLink);\n",
              "        }\n",
              "      </script>\n",
              "    </div>\n",
              "  </div>\n",
              "  "
            ]
          },
          "metadata": {},
          "execution_count": 43
        }
      ],
      "source": [
        "Game='100% Orange Juice'\n",
        "neighbors = user_nearest_neighbors(data_play, Id_user, Game,k=5)\n",
        "neighbors"
      ]
    },
    {
      "cell_type": "markdown",
      "metadata": {
        "id": "TrHcpLJfOFVn"
      },
      "source": [
        "# Predição:\n",
        "\n",
        "Na recomendação baseada em usuários a predição feita para um determinado game a um usuário X é estipulada é baseada na similaridade dos tempos desse usuário com os de todos os usuários que já tenham jogado tal game.\n",
        "\n",
        "A predição é baseada na média de tempo jogado do usuário X e nos valores obtidos na tabela anterior.\n",
        "\n",
        "O resultado obtido é o número de horas que o usuário X jogaria o Game.\n",
        "\n",
        "![predictor.png](data:image/png;base64,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)![predictor_ex.png](data:image/png;base64,iVBORw0KGgoAAAANSUhEUgAAAZYAAAD+CAIAAACWSrRCAAAAAXNSR0IArs4c6QAAAARnQU1BAACxjwv8YQUAAAAJcEhZcwAADsMAAA7DAcdvqGQAAKyySURBVHhe7J0FfBRH28Dn/OLu7g5BEtzd3ertW6NGS6GltKUKdaHUFXfiBoG4u7u767ntN7O3kYsQp6Tf/psfnZndmx195hmnYBgGSEhISKYnVOL/JCQkJNMQUoSRkJBMY0gRRkJCMo0hRRgJCck0hhRhJCQk0xhShJGQkExjSBFGQkIyjSFFGAkJyTRmiKWtgrLIg6duvvPDGXtlwgVSFnH5k6sVZ349ropbm4qSvIPDsysbAEa1cZrh4DJz1QJ3Fi4Py6Nvfu+TQKGAfv5KOVzdr355Vxu0fXTkZCeNJpXKkDMmo6voLFm9bftSV/y1Ybl55p0s9uKPn9tE2BGi00ePMBc9fXD7LLk1IsgvIi6plSdhqenNdHVy91jsZqkrf/TriQ8KhFJM/lEciYjvsOiJ1/bNK4q+/rNPEpTk8mSQSWQmjrP37d1rpc3EXxxIYqjvnei4xm6RpoHVspXr13jaEw8AqMmN97sXWVjeKGWozJmzePvu9Vo04lF5gtep60UnPz+mP8jXqiSfT67mffLZcUMW4TIEvOoPPvmWabv63f/1TwFQkx787fm7MjrMRGjDpFKajZv7lk3bbQ36cq6pKNXnbnhuUa2UoTRj1oLtu7boEx8S/PnFFzmtHCCT/xqjMFXmLF736KZFA5q13NCzp/3ynjz87iIrDWi98/cXtzIb2AwalUpjMGgSsVgqwyRCvt3aZ1/f4v7PVydqVBe+/9zsT058JtL1eP/wo/1izPnp81PFfL33Tryh2pL5yedneQy6TNZbTDA+n/700eMLLNFXegn+/dvg4npqv2Iqk4o0TJZ+emT31R8+yhG7fPLmbgoA3ZUJx77yff69EzMNleSvSbsqPv7oqzagRKUAOoNJo8hEIgmGyfhUlaPvfmJLLTrxwS8cxQAI+GDfq++udNT2/u2riJImom7Af6lM13krH9u9Bk9WzOe3z2NbzD5/9zGYvcKmrOMf/67usvKDgzvRQznS7m8+PK61/MVnVrkQLvxGLy+/uLQ8AaDbOs7asH2Hgx4RTgWE1R+9/U0HiynrK6uYkI/teP4NXvzZ24W8Jw69v9CSyNyG9MAP/gx2XfHIq7sXyl3gy2e/OZ7eYfjJJ4fUCRdE2KXvr6c0vvzOp276PSUSh18ec+ibm88c+3K+KcqlyKtnbqVU9VQFGG2G2/zlB3atV8ULROSV764Ua/164ilkGUj7qdc/bGax+gUbiASCpXuOHFhmSdinDDrx/37AkqmiqkJXLMh0JltFRVnu1lEY9uEZ/xlLVu6ZvRBI+FmpST4XkiTK722dZYTeZDAZLJ3VG5ewJJKe0oEJRWw84alsFkvPdaGrqbpEKqNQaaKOyhCvP/mUVw8sscHfHBqWkrIya0DtpyqpqDBYDLnl6pnPk5pYK1duUqNTu9qqE2IjknNrPn7vFU0UPyqLzTIzd/ZwNJJIpPL3ZVKJlok5NMDQMlX1V66cz0JVmUKnY7mJMd9+c/r9D4/qE373Irxw5qvkOumyZeuXq9Hyk2ODrv9eULvr1R0L4LMEv3+uhGeZOHls37kIiLrjo8NPnio++tarBri8oDNZqipKtAGyAYfGYKqqKA/5qJfKvCwJTZVXXVTH22Tcr12h0elMTYNlS+azabAiUmiYKCUu6qefm95+53VDNnohK/TqP8GJerbu23bOo0h4ybGRUIa89uYhS3VYlKksFsvYxn6eq6lULKVQqFJBa0SY9xmu9NDepbj3cgQp+Q06mszMlNxFVqiq2Hss32UJhQ9d1FUfn1TktGiBoSpdLBZpWprCjGYrKSsx6YBusNjZ1r+0qZkLTFTk/gBefVlTu8hh4RJdGuBTaCyWmsviJSbqTCgB8eeYWEy10MbD3Q8Gi6ljYL9kgRNFTBQnTCZlqplBAywVKnQWlF8QKp0ByyeUq7gNQWVrr9m8XUhhMOjUsszkaoHaovkuFLFIBBh6yrBEwgCo2i1YbKGlJJURFQ8WWFt9FFwmi6Vt4rjcw0EqlgAKlSLtjgkL/aaV+/4L22Grj76r1PNdGl1dQ0tQnxWctXDDDEPcDbpS4StsBlG5sPaSDz7/iaLnuGH7LpqwIzIq9rdvC3Y89+YSawVhjYDJwlZ2nbvEzkAFVhC5m0QsszMxsHrm6awTp+/4+y549QD+6a4bQXGaJq5P98kv+KGC0haqEqMjvbBjmYMm4Qqjw1bRVKGHRiW47V5EOOHcjYhX09Ji9iQarAoqOpbrl7lLRWJYHjBBe1hk6CflzV+89Th8ymQpqSoPzJ0eYLDZ9jOXuOD1Wu4klUhMrbXk5illCBEGKFCFkmeQAtBVjr/vbbuVB17c6Sm3LluxtqGh2dBQT26FKSkSKa1cvHhINUYqEZk4zV/qLtePIEu0QfeFmOj7izA8PIODRISIX5mYWCE++PEJ+57asmXr1laeMi6/EDKpWNvEdeliZ8LeHwwTAdWVy5b2hnbpYteT730ZkVa9dx6qJ72UJQQk1WKH3v3AVg1ZlyxaeunHT6NCr0W4z1iu3xiUmOe4/MDBbUSarFjoeurUj1d9og/tWyJ3GR4UicFx64ckOjZLVVNXwGtJLqjbNtuYcIa/wjAxXXX5yqW9Dfoyd6uPvvwtJqtqt6c54FYHxKZZzNv++r5l8qcrlrp/e+r0jVt3jz69DlplMrG6idOyRe7ypxBHHeo3fin1m5ca9QjKzsqskgaBobF2dUV2p2yhBhVYus2TN6zilpyYiIKZC1c4avYKDjHKFAoSNTM8XIPTQ1KLa03cTeTPaksKOjDVTbMd5FaxhDpj/gpX3aFKYD8wTMpSM125aDFh7wNWFYVyOiANKUz1xSvWEObqnJo2o5WL+iqwRCCTSIDznKVzTYfQhjCZhKlpuazfRz2tNN//7W5eyxZnKIAhCh+jMJnUGN9rs5wOGfY2e311SHr9ylXMxPPD1w7Ik2n5HLv3v/jd9+Jl9xMH8aKkABKjMxctteuvRckx3bVq5u+h2QEZy7a4G+fe9S/ukO158TF5r0hOcnSclK2pqyZMzsxe5qBQ8KDC3JIdU7VlkXmvst9dnFTUwWT3k0qYTMY2WLawL5VWupu//uWVxFrxPJOB7fkAoMAyc5y3dFavEHhw3Lf1HxpBU6PYQM+AsOH0k19yMCFhGAIoxQgTjpWFFejq4hO28dDW3AKAmkGP/EJQVXXk6m8PUO0iTIPBZIqh1bVUZnM6ughbD3nZhcZOnnL5JWff/1794L23ZuqzOxsbhEKV1SsJ+YVQMl8+07y+oWL4r44WWWtZcWO7+8Y9i0w1oRo10EMYeCg3elHTVlamdXNQcnLbm3lc9ooV8+VPEHSDlXNtm1srOT36/oBk0TOzVhbyuaI+HwvT0gWapnt3bGK3lEXn1BOuOKhfBlUnqNYMhY6RlY4aVpKRT9iBKCmzTE3f1MmsNwXhb+9TTPqAahdhGi8S2F2USXv6BH1A5ZEwDQJKMcKEo2JiqSUVd3MHlVOYBDS6roY6kLRcunKHcOyPuL26rnvBsuV9xVHLYf+ebSsW2HO6e7JBAUwyTKhc1+xy0qbGBQdyBI1eYelmriuW2PSXYKL0nCLdGUv2zXeqzYiu6V8qEBQ6hXcvKoewwX7DvQgJi9Al++hRSAkMbAwosu5uDmG9LwPq9QNjHCKMrW+onBp2NSqrtKN9uLhRBzcvvdDoChI9N7eAqTfkwMBo0dTRYbLa/vzzZlVTm2AYmQE7woRpMBSqgsIorCnu5ukZDWxPBHyJmrJC20hX0jA2NtZSoYmFIhnGUlJUOzV1tYUC0cRFWG56YjumO8ve2HW2I7eiuKxD0UsqTbVfcubFh9e2UhytUY8GH6VisOUjlD1o6GiJhWIJKqio9FKpCkpQZUEeX1VNS6XHR2lbQn61qbmzkYm9qYFKfmom4T4a1M3tTfQaG4pa8bqEdTfVNLca27r3KxhoKIAw3hcKVWEEZ/KgsJWHDcCAj7YW57Ux2Lpa/UWGHEwko6/fuUOThjUXxwZnNxDOPWASHo9PU2YrjHS6zFm6ac0qI7Uhax/sqA4XKqX921eLOyu//vJXDl3/kUfWEs443IqU/DbqHFdXM/cZdH5HZm4d8QCCYVQlNptCLUmK6qmx7dEZFWqqyvJh1D4oCkGSVOfXy6g6WoNVwiGA3VXC9GAZQY0fko1bVmb8dTvwxtkQCkUqEavrW6/ZusvTWpt4DOWXSuuRt9/qafVk3G7mez+cMsfrBZRfDSXpSWJN2Gem0mit5elB8ZXbD6LO9rhRsZo3yzgspSz9lzNZ8HNiGdNt9vzdu9b2piidqVQQc/7wXZE8RFKxwHTm1reeWo0sFAoT8OISktgAH06SCWKjQrtVHVfN0Mff7UXK5UgYjGGG3DEMU1FWVUxLKpUqgy0/FBbjaCb64MaklBpZzzaEntu56ahGxSUW2K/rmf2g0lR4tceOvd0znARjo7T5mdd6R8QxNluVodBgUKk0GCp5WwvlV3djcWKqGI2FUam8ptLgiGT3dc/o9PyisTC9skW6dZ8T9Hiem9UfUTlVnLXmiurt8FDmzLKPupqUXda83EGvtjSrnqu8Ynbv7AdFSUn8zxfviIjRSUzAw3YePLrGRUG7h1AoNBG3Pi41RT4WBpUpGlvHY7bjhKUahc2WXfvh/fNiIgBCvnTdU69vm4NGSClUurizNjEtRSqSUChUUWf9nbAoC/dtNkPVZZlUzNC2OLDB8wfvpFh/74VuBzV6x1wgsGONprbkGSTOSk7qklCpFADjbec210hdIXcgLBY14K9PbhFtHyYSiJfseWX/ElvcCrQcl691yb5X1Lpw+4EBfbv4+BSmir6bHRSytm4WrOTYpE3u2+WPMKmYbTZnCb3QP6P2bnLNdg/TirjwGiHzka1Lb930k7+DgIVA1JKYliqFajiFKuM2BYbcNffYNctg5MSGHdKo61/duSDX/TCxUDhj3bPPb5yBW6eW8YgwHceVx15U9wkIy6trZdDpXS0VV3/5kvPsWysd5FIME4mVVm1aw5LijT3KBqpmTyLQGMzytHvZsVDnpCipKAOq+tNHPphroclpKEsvqafRFRMLk4koqsvnzxio7g6Esv+Vt4wCfaKS0jqEGJ0mzE0LLyip++Dtp+SqF+wu6Zq5zXE0hCGCRQmWOTV9okzArGJhnb43rsInVDpTmUXXs57/6TNbJqIV9mPIQcUxwK8pqmvnzduAZgyAivkcM4Pw7CT+OlcieBgmZqjBrqISlJYwL2lYYVpidOjtWQ5P6fSohEN/H3el0hhtFWkXc+Og7GYpKdFoSqv3v7x+bt+gZE5qLs3QysMGDcq6eMzXufd7bGaF+SJr+dMRMXOYZaAcU1hcC0VYZmqhsoGpo1mvDMAkEtqMhUuN1ZhSpAhgEhFmazBYx0FyltdRevViNl6WUN4p67q7IxE2sZRFHR+K87xl5tpsvFDAai6zNiGGwKEKxm8punghAz5gQPWawZqz5vG9q/oGDQcgEgBLj63z0gqSqusueSW+tNNz6MDJBLd9r5R205kMBo2hvM/EbbAIk0oxuzmLbfSVe0IlNbPUIZ4hxPXt3TSKrKm+GSYw4Yboys6rNpi5C6+BlEWzZqSHZBZ2bnfA2zIoQEViypKNS4NSL6ZGR233eCQsMkndeP48F70rV+XpioCxpvAqLl0ohE6YTKZpaOGx4amdK4aNdX+kEon5jEXOpupipLnAXrhED+8KPACGEGHyqeT+DQkENSX95p/1bOY+d2guNAi62xprSy5f9Q4KvrPSYT/+EBOKlFYtXTLkcL5IwFt44NjWmShXfH45FVPFZamjctNclHL+SiSLrfgjTNJNs1yGi7BBZQIFsF+I6Ms27YZ/0NTa1pgWGnAnLTc0q3nLDNQfRMP5pm7Llww1nC+TdlOMvv7mJZQQLbnvfX9RCJVu+SMFqLB55AzX24epw+VzpKBXUkNgIYCKGGEZL0kxsQK2Dr27LDGpjEJjSDXUsBKo3PNmy8fboYinq61ctaw3wMuXzv3hk8+9w3OehZoalJ8CIUcM2/O+XJZhaCJYnpgSscBywYEXNqGmMtnvr6tx5RSlfmpGV2VyeaO+oVsObJbFUgYQqmirVWanSxdZj1IDoqiZ2pvqpRVniiR2ZU0tJo6L1fvlolhMmblg5YjD+VKpUMt0yefPryfsffRm/fjAYMI4eywbcjhfJhFp2K767MmV0FwR63XaL1XKuF8vCcOV7V2P7Cn4+s+qzLuJ7mZKzJ5EgtUJA1R5B42qdvTTH5FBUHH8/T9RnRoEGs53X7xsiOF8RGH4rawmoameVmGcb5K7s6cpMTxSlxxZLVWew+YnpyRJMapMQmdRxBnZxQ6L7eQvyCRioOHibq6W0Vzu4+eV30lbv3MVENb2T0QkxbVm/fDxLsI+FtBwvtOCZQ/JcD5Mbqy/cMARiQRSTY3B2chW07Zw9DywZha/ua3fAOLww/kYJhETD7fv3sLABD63AqHZauneP3756cfvvlP4+/7MuW/eRKKKAsQDx3QlXKlUVWfQtDRUErUN1ux7yoLN6GhpJ5yQpBp+VAqTCeQGXZfVribNBbEx5YPH+ChsZRqHpzjGLxW2trR0C2R0NH0uECjKt862diUlNnOIUjpqZK3ple10aWew97ULV66ev3ghNKmEzhQnxKYTL0AGDOcD9ZlWep0NTdBEo9EpFJFQ1NfMQrrb2tlsFhPJDZjBWO8QrMfajUYqlJjbgTy5HVbdwsxOEbWxLO3ChYuXrl45d82nvkPUXlec30Sk1iigzJ1lz2tqjI2Pru+gz51DzEX2MNrh/Pvl3cQYfjgfdliJZLVctM5Jl54ZFdSokM5DoWZ1YM1siVR4++b1BiFD3lCg1SNMcbviiLigpYlPp6koDTkuMexwPuBXXwtNVdV3fePQ69YqQu/LV3vraFJuIZsmS4kIOHfpysXLl64ExQE6JTcxvrfOyHuyG9ctloqEaemZTG2bFQ5qADVvCkxk5uQhGs5nmFqoU4X37mUTdpw7sRmmVkQPIiEqekBuNjU2UzXU+unElCFVsIHouS22120rTMrtUJSXg7CwMGvITqnul0SdhfFl3RRba7QSTdJSFlc4YBi1rV0kVNXqE3BU2v1a+97PL1+/Rp0li7oXQdj74ehsW5OfWtVvSurqr9+8/9Gp5BqOpo2DhjIvPKqfZJHUR2ZUGZn0V1ioPeuEBkNRHLAiaC7Mrm/hrH7y2OlvvpXL9NNffbHWTrc4P6NvTJ9CZSr8lp9f08ZURpqFqomVroY4IipF/gCnLTylRFffUmWwYGUbrfaw49QXx+Qi8QflRkpqAVXH5tTnX57BP33m22++Pv6chqw1IbUYf2FUmDnOMlbh3LsXzzQwd+7rRcqh0BmjKiajhTJmD+mKM0vDoLJ+xVxhR314QhHhMDzWize76TDFQg5XgBFKFlPPykwjOTq6v2y4ezuSrmxkoT9kgaAMmO/qJeTmzXZMZfsetDZt3/bVvMa8SxGF6IGwJjuvwWzhzu++/kZeTs5889WrG+d0NRdn1CqIFTWbxU6a0vYuvufKdajmj1DtBqE42D+A4YI91QyViFSjp7fN+/bWn6fbVy1yMoHqTnT4veIOjQ/eXgEf1iV7/30j4mpo1JIF80311GGsWsvTAqNKNj13TP5rGFEmQ5iQmsaGeimRRphYzJq/eNbg8rVp15boU38FBEa4PIo8Hw631TsdU774+uNP169epavG7GgoDLmbaLv0wGy0/FTyzx+/ZTRLIyxdFno6K1GpFAkvNvpeG9tuzSxibBjKr46GouQ0HuwQyUMEG3YNQ3tX60F6r6bDutkW1+MS0hrXzjZQCK/jss1O8V98/9nna1Yv11el5SRGZpa32S7eutIW1cxHNy367ur571vKFzhbYKLO8Nu3W2im72zDx7AQVCaFnxyfpEojFsPjaUKfu3gu7GwyKYLkuCQ1ev9HjAWL5yTHpojUzWdZKdR8K2dbWkZsamnrKgcdWGkZEm5ifLIyDYNJTadjeYmRue2Mgytmo1ep2ge2rvjq7I2vO6oXzbSlirtj7t2pFeoe3oXPYwzCffWGsJSi+PCwVS77sebC3Kpmq8XrFEqlqr6hjmZ5QSp3g9soJ59gX9LWUDuxqsXUZqaaotxk0LHCjESBJkvSt7KU4jDTXV91fHKNQqdK89LiOtQYvZMbEgmwdZ1lpDGkhxQ6HZTmJING5X6rMTFr19nGg943n7vGLSo1K/rehiX2Q6j9CrAeeXT7pz9ckdF6U466c8/OzK9+f//L9nVLPZVp0pzE8NRy7r6XnlUjXlCATqNUFaSldKmK+0Ils54xX7s9OSyz1tJz+ywj5LOOy+oltklxoTcXL3wXJMW20lU2uDrJ35dj4ujAFscmZ+TMMZndL+Gpj7x4ZHWXwMgEtf1jg0qlidqSM9KlQmJaDBZUqUxl4QI3KNigyl9fmpki05TPdkNgFTO0mmljNMT45uQytGJgt+zAe/pWASHhfyXdxWjK7rM9P3xjp3xzgrHHjg/ULKNTM7PiQsI4Ylh1TG3c9h88ssSZkBcSkVAgaLx18UK/DgzaYOS6eJY2kHV3d/GF/dRXDcdVzrpXIv1TVi2YK19RPjRqrxw7fs/HP+quV1OXUFPPYtXuFzYuko9t0Z87eiIxMjyjoOjW1cvwo3RlLTcXj/f2belJPBmfJyjPjS7N6guRRMR3XPwUFGHQ0NnN7d9CLly7PiD225tXvGe+vk9x0EftpWPHQ7y8ogKvt/Ml+mYOq3c+vXEhsYPEav6293WMrwXcvXAhnKqkNWP28oM7N/SurYV9Z0FXve+Nqz1CCiLjclVM585lS0SCrga/mwqP+AJNXWNWXFGVlvUqbcUssrR3U6LfCQsOXemwXyoRC9pqvW5clv8Uk8k0TO2fefE5Z12ih2I0c+37hwyv+d2+fCEGsNRd3Rcc27lZn0hmGY/D4fL7tdJ0vXULHL67Hn8nZ7lhZUxVm2yFowXxiEBpjrNRrFd6dO769S6GsOPQ1dkt6renBPnJ7e7G+vc0qe4zzANSa7bN7NuJBYHdND6/IyrEq//+Hj6f/j9j+wEiTMDldvMF8KVBiiPGh98SE49kMCk47WGBt/p7KOBTH3vDHoowIQwWl9/fE1jB+LyuuLt+MX0rodAGowOH7I01tPnwfYVYsDeu8jzxc+Ct29nPrHMT8DjdHOQbRCYVdXV14+KG0FAY+q67ljr85JvM6+nh0/WcPzr+xg3vYP8bF3kyurX9rOff2DLDdChhKJPyeZyUqICkvlTFRALKtidUSu9d51J19+7sW227c//OpA9+/Oun37UFFTKZtq2ZYvXRtLc3oCTfC+7YNFssgNEnosNS0+pbmScVd3Z19eagkM/t4gw1DowjEgi4zZXnzxX2pi+ag5FZzl3gxgZSPp9XmRCSGdtXGOD7y/YaPwARNsQeSRISEpLpwv06tyQkJCQPOaQIIyEhmcaQIoyEhGQaQ4owEhKSaQwpwkhISKYxfTOSra2tTc3N1PsfvkdCQkLyECAWS1yd0bKqPhGWnJYSG5/AVFzrTUJCQvIQwuXyjr7+BjSQ68JISEimMWS3kYSEZBpDijASEpJpDCnCSEhIpjGkCCMhIZnGkCKMhIRkGkOKMBISkmkMKcJISEimMaQIIyEhmcaQIoyEhGQaQ4owEhKSaQwpwkhISKYxpAgjISGZxpAijISEZBpDijASEpJpDCnCSEhIpjGkCCOZHvBaq2NiEhu6hYSdhATnAYmw7obyoup2wkIgSE3N67v897+A+K+Tp8sUrgYfM3UlOXWdCrVUzG3JLawkLCORFvT39aTRvtyfkpy8Nn6/W9YfMjg1aV//eqW8oUksG3Sr9yiQCdrzyxqhoaSoCF3/LRPlZ6UmJifDv4SU9OZO4tptCLcm+ctfAwjL5NFQmheXmAQ/l5Salp6ehn86KSElgzfZ5412FoZ9diWcsIwSfktSHiozhZmZfLkLTKi8jLiE5OZe+0PMAxJhTflx4elVhIWg+9r1O31l578ARYbudkd1rDnv3qc/3xqHgM6OCsqp5xIWHEFLSUhYyv2KenvxR5/92CpCRgzru49/DAjrb4WGY3Q6YZ0kuDVpn371l0JkxktmbNq8Hc88vnuLmQaTcBoL5cnhOU0CIKgKishlw/wRd98O9C+oqKmqrq4qz/v1u0+94svkb8KH40rBEehuaSivqKiqrinJTrh+O6aurraisrKyqk48+d8acwkoT76XUc0D0sp//NOVkAN286fP/RNyG+rLfj71UWIVB3/r4eUBiTAqncmk0wgLAYXNZo6nSR2GrKig0vZ/WY+gUKm4BAN6TivfeXHHfRK3KOlerqKokkNnsug0hVShUOms+19ooGX33lsv6eBVmwKRh2AstFQUGdvP15mMWxO6anLuphDiQMV01juHn1aRWyZGe4dYQ2U8wgtHllLcONvVoiYzXc/JVe7EUjfYvWfHnp079+559L3XnyyK9GmSN6d4Ck46dvNWPrpv756dO/avmats4rpj2/Z9u/fs27lRY7LrH8z9sUYgq7Rh2WKnlsxs+/nzoLUq9mYOe84bzzy6c8e+91/d5nXuhvy1h5YJJWEH9yHSolqrijjUSdYjxkg/GU2h0KA4G57uhrJ2yaTdtEKb2L1TFVVdcz3RZTAThyZqK2vsFc2UCQasFxadzmKPUxiKWovKmhjWquBeQrGDjRnhKpMJe3r8FE1TLVUZT0BYe6krKazv6HWVFObnciZc3gUisUz6MHXYJU1FbZoOKiA6pdBzjhN0MJ2348T/1sgfUvVN2F1duH7/8EL78MMPCePYuRhX/nYuf5WFmjp9BMHfUZVXQzGfaa1N2BGUyMiMJcs95PWe31R06dzZ8zd8whMzJCwdW1Nd6Bhz86cMoaWDESq71ck+P94uXzrLDr3NLX/vJ79lC9x76kf7Z+98mNcly4294+WfNGfNElUq6n9dPn/+/HWviIR0AUPT3kyfeLeXjqLPr0Raqwj/+ef3K96BmWVNRpb22spICDbm3PNP7ZDUxH32/e8suwVW2uyG/KS/z/99xTsgvaTJxMZeS4mQldz6wouXLly85hWXUWbiaF6fkW8+z0OLQekqj//TL9fT3RZ/S5YcEXj+3LmbIRFNAoa7vf5Pn34cV8MpSw3z9o2zX7hQm9Un+8qzEpXsFpqp97kwJW3Jhe0esxxgEou6632uXPjn8vXIxFwVYxtTbbxWc2q+/ttrxix3JhXUF6e3Kdu4mGggd1Gb71X48rV7MalClo69mR4AvL9O/6Jk666HRxOm+h9nflO3m+Xm6qSnguRpVU7Mb7/9cfN2ZCdQd7E2VszU7j/+ua6pzrr4+3e307uWzXNqLss6f/bPS7cCMsqaLOxdNFjU8Evf/xKSI2jM8/MLlBjOtFeq/+mf0BkervBjIefOdqhqJPpd/P3izYyyZisHZ3UWkXucusJLF8+ev+aTUlitZ2CUn5mkrG+hwuj5OK/+q1Of5nUKcuND4nM5S+Y5wQcZ0QF//nPeOyi0oLrVwNxeSxkll7C14OyVBA1W49df/1BFM51lReQ4TUl74aI5VApw85hnIu+HSvmp6fme8+bKU6Ei9W5Bu87aefbQLO6uSyriLJ6LzHFeV5vUbW308USW8a5dvmQ8Y7EWC9may9PP//PPJS//9KJqXVM7PTXkrait4sI/MJH8iuq4ds6OeKAGIu6ojqsUL3e3QRaMd+GPv1UNNM9//5VfHm+VhwOnqfzqhb/+ueqdkF2mb+2op8oUtmR/8UvokoUz5Mkha8/79Ne7yxa4QXN1bsyff/1z3T8kp6zZxN5REy9FwtbypHrKEjdL/HVpVOCtv86f978T3Sigu9pb4CkuufjLTyqmhpd/+Ppaauu6RZ7z57vDxLF3n2eojJ7DnkRvvif7XGy1nL/QwZiwP5xgE+BCdKn5n/m2fxe8ndRKOA1DdYL/0WPH3jp+/Og778j/3jr+zuFP/xTjT3k1qcfeO5lQXA/Nwu76f775+LfgTGgWVSZ8fu42/grm/fePn3z2fZMMmSvibv7ml4Y793H7wunEWj4aDIKe1Ge9d+JkTH4NNIs4jRdOn/zJLxl/qx+dJSfef/fna8HN3SL4q/KMyPdOfFbejX7eVRZ//PgJ74QC3DOsIefud/94NXGl6FFNzlff/NwgQO7C+ux33/8kOhd9hd9Zd+3vM28d+6qShx51lcX+8HcgMmHYvYtnvvzbqxF9RRwbcs03ugA6xnr9EVY4RKJF3/z5zWPvHD1OpNJRlGLHvutJhOTbPrF51cjUXf3tF98VtQmRmVP9+Y9/cVDosNTAP68lViKTuO3vn36MLahFZhk36MIvXnGl0Fgad/N33xTkCBOgPP67nkAiOstPff5tRacUk/GCr/0TlttAuBOILpz5/NTPVxo4MCIYJu308bpV1gITHGvIi/nizAU83lh97r1e/4Ut+T+cuYQnFRZ9/Zd3PzuTXoWinBp68dOfbklwd0FTzocfnIrNQ+HktVZe++fHNz/+urITf9aHJOD3X2NL2+SWO1d++uZPn2YeyrWStLvvffhFcRsqR9Luqi9OvPuHX7QQT4r7IWr/6Yv38LR958233v749J91KB4Ibk3y57/4y813z/12L69ZboZp+PtP31V0I2Nbcdz3v16u60Yf7W4o/um7M6Vd6I2LP38ZmIEiUpAU/JdXNHp1ENyymA//IXIThuPcmY9P/XKthS/BC5rkrv+N9Mp2aOI25H956vtGlEayyz9+mVqHpzmGJfr8dTOxChqqUkO+/9u3A3duqUz/8utfWnEvOgvunbwcjkwYFnL+J6+oLLk58+7N7y6Fyc1Xf/nkox8uNvHE+C+GJdX/j68u3iMsDzET0vNhr5tNp6ozKb65TTZni34pHnboViISOC058MXJk59/+in6O3nqi09fVxWL5APe4bdDlj/66jxbQ2hmqho+dfhQY1RwMwAMcxdpeRGaFRFU1LBd9i40iEtD80rp6cUe82egX/aDAiNDg80qakKi7t723PXCIkcTaGao6D/22mvdyeG1AxRiTErVc3hx73pdVaiAUCxnLn16rU1QSBL+RKJhMWv7PAf5sFJEaJqdo1VDSXZqenp5J81Wmx+ehqYmEqPDPXY+t9gZfYWtbrT36acMlaiw+qDf4ImD/scpi29Wfu3pHfroK/SF6/ZuXewAnakUDFCHaKZFAvGGp9788uQpeUJ9efLkuy/soEuIOcq5a7fNs1LLzcrIrOw0Uqe3c4koDR7+qMtNamcaa8ja09LT07NKjWysC9PioC/WHkt5pSmteFcmIyHTdYEn/jqOqo65vlZnZwegKK3f+9QKZwPCnQATidibdu0wwPU1QFXftmOnHmhPT09rFjFYNKE8LHQYsZ7AwIToDZhELJ21aqu7GVLDZy/foCKtbcPjFH8n2mPX0wudUDuvpG2+94kDJmq0QePRNNjS4pkLJB2lWTX0F/+3TVcJ5ZrNrFXPrbf1u4tyDWYbQ81435bFUBsdAZmUomx49IOTX5789OvPTz29cebl06ehHCSejkRUTKqpvW1reS4sD2UtImtDelRyHgyMnaW5hNMFA+/gsf6ZHYuJt+8HJgHMzbv26LDlw5+0VZt3O2lKs9JTS5uFWpqgE42kU1YvmREenYyeA05yCXelJ+wLSyPi0x1crCvzM2AY6jgMK3VBbFod/k4P3cXxVcBOnwELQGpGJs3AWlKeUIvnu1hG2bh7v57S/bpOkoa0G4UqRx5dSdgfYiYkwuRIZRhskJZZaGw1VyacBoHB/yioxlLlwMSj0KEElT9tqBc72qjJzTjqZixhBxJdqnMseCnV0trMNEvXGfZzZudnpsGMzOcbztQbov7381DoYKMjN+OomimJO/iKM4RSqYGhef9c1DcyFnPaoAE2fSrKveHhNnNk7bVleYVFxSUlebnZEg1LS03UcWis51uZw95ZL6rmmmzYshE2HF5rs6qWId75UAC9pfimHNSq4HVVnk7QQKehCow/lAZc+OHj02fT8osgrXwprU/lH0hba7NQ0l2QX1BUUlJYVFBYx3FysMJgAtD15lnS4vJgS9CZ1cr0dEAddgKq2qNPP6rKqw0I8PEKvNsxsEZjMgZThdmT7PzGHz//+Jer/gUlZQWl5RIZ0f1AWTBUvGQymrZGT/GgM5WV8LkvIKltk1kZ98spqqaBhtqANJQDMwX+y+tooqoqlDMdY2NxWwcyYRiDLpevowJNwFKo8M/Udu7e5WahCTnEgx5ksn6DjBTYRMrwJk3UwuN2NVUT5SEvt5tpYK2HOpueG/YttGBG3w254e2TW9eN/2wEKFS6CpoilcO79MOpr/68ml1cDrMNNgny0VS9GfMY5SldMMPyE0QWc7WQG7erS9RaW5pfWAzDkJubh+lamWjIu8UE/JZGPh0ryc+DBaC4uCi7oMxqxgw6nqcUQFVRGqL69Ke5ukrbwoqwPNxMSIRB4dXKF2urKwfttf97hYEJa9gahRhYLvsEiqODVnhsCWGBcIvzZNpmeCH39JhdXpyXmNXq6aINVOwNO8vzspONHGcNDrcM1hIaUYAdHLSj4vLlZgS/PFekZj5g+odOry5Kb+63iiszLV3LDB+k6KkwOCpWBjRLz8379uzZj/+t8PSY44QURjsHvfj4LPlLCH5FdiMXqiGEFUfZzJpbU1Dbb6hYKEE+Q/+p9KGrW79PI3rlsqA2I59j8NHbhx7ft3fPjh0WKjSF9xQxMbNgswx27dwlD/O+7WsXzJ3NxhPAc9mSqvTUmtxUNZs56v0DK+E2dWLWDm6bN29faUe/4hVHuPcCg9ITmLyEO4xZu46+/PyBPbt379zEohLLA9ALeFs1GFnfbD9uQP/Q7c0YcSn9copTXdbYfh/RrG5oJevKq+23ci43NVvHxgIa5J72fmMkKPR+xaGlpVOJzSYsPejrMSoaUJMGwdoqapuFuLLEtNbUMHJbsXc3UR7WLZrn6QoDgDU3tuqaWi9dvX7PjmURly+NcjFCb26358UUa8x77/DLj0Kvd+7SpsOOqvyJ5iIXjbichpT00lXL5FqzuoGOiv2Cbb1lcpnn7Jm2CqO9SqbWmiKwbftO+Qv7d+/ycJ9nIG84RpFMRm5LNsz5fyDCWEzGp6ssw7aZzdAYQajLpBIJWjPVH0wslshTcuH2x7piz/1yIyQjKzs+KvjEqXNbHn9UXqC0XDybY66Vs6z08ZAunKPz96Voj4VoOHMA2lpKYYG+Kak5UFx4bD4gTrv209XAjMzshOjbH536e9Weff3VPBzYFsmu/PxzcFRSVnb6jb9OB1dr7VuFxnGhNBRL+mTbhn27Y/757HJgeGZOVsCV33/zi5cvAp25aps42/eXqwFpWVlxkYFfnLkqlhGFA+v1gar36DqHM599FhSVlJ2V+ueZr7yjC6GzppZK3O2A5NScLvibfkgl4n5VHdHrFVvPBLQVe4cnZGWl3bh0Lq+lmy8gFoNJJBL5d2E6S6HygBZaLHZVKv30p/NJaZlJ8aGfnfyppIXo5lO1HWwYNWdD8pYscJG7yOG3Vv/14xe3QmOzs9KuBcfrWw4YxEVf6Q2akbl1bVJodGpGWnLsub/Ot/GkYjxNlNW1GjMjYlLSazvEsMKLYcDw92Uo/3t+LA8wbvTYsF2Q7vXTJf80mPURgd/94SNh9KklvUjFYuLnbMOdK51+PvVlaEJKVkbatXM/hlQpH1iFIgJFf2+JGhGJoCs1OQv1stNSrp//ybeAsn0Jmo+DKdib9a6Ll1aGXg6KTU1LDP/+zwCgDFVs5L5i29YCn9N/+9zNyskMvnXuxyuhXBR3/r2bf56+4JeZmx1yw6tTzVQVvTsQrJ//eJKKe1NF3dgKK44LTUzPyEi+fPb3ai7G75k0nbNsSdadC7kcwxk9nY+tu7aG/PzBtTsxWVmZvpd/+SMgRa40YxiqacjEMN6z2uSdT7+NRB4m/PT5qfjyZvwV0P+jw5Ef5f/DmWsP+VyknAnNSLqaasyVr0caCamQj6noWxiqE3aErLNT7ORkjUQTVWne0qXsrprsojIuUN/z2JPO+CwkDksF6zKdsdBEC8k0HW3NJh5j8Rw7BaUZx8TeVVCbX9godHW1ZVDYHouXqPDqswpLOZjq9gNPzDTr/2kcfnNEseCtFw40lWXll9bqOy1+ZvdKuV6ESYRCqqqNOdGsUViaixfM7W4oyS+u0rBb8NT2ZcRkGlXJc/EiJrcht6BURNff9+RedYHA0NZahU6RSYUCoGJjgYaTNI3t58+0rCnMK65pd1++eQ3euOlZOVLbyvJquhydHNn95L+A261uZK2n2peqmFQkkLGsLY0oNNV5c+wrc7JKm7rnLt+8wEFTyNA20mDDN7oEMjsrCzoFiARcprapqRbsaVFsXD2s1CTZ+XkdQuXtjz7qZNhXp3RY3Vn1SpsXORJ2HIaq7qL5MxqLcgqrWtyWbFrjjlSbfmDcbr6plZUqPtSkpG3uaqGanZ3Txmdv3LPTiCJRNzRVYVCY6kYmaqL0nHJdSzsDFQpHSLW2NoPxE3A5akbm+mryLjXG4QrMLSzRHBpdBaYhm1eXVVAiU7d6cu+60vxsa5e5mop9bz6Xq2VmoYN3E7WM7Ra5m5fm5ZbVtpi7Lnps+wpC+8ekXAGwtrUYoTlFYJzO9obG5tbW1sb2LmvXxft3rFTBfyaTinhSJXsrpGVT2doeMywKstKbhMo79+3SZcn0jC1REJhq8xd5ShvLsoqr1M1mPrZnnSr6LcPVc5GaoDYtt5Rt4vL4zuWKy/sIMKmQC1Sc8IIB4XK4JpZ2aJgUfU7H080iPzO9rlWyfNtOVy0GBSlbeElnaVE5zVYeS421CD2KpqyzbNGs1vKCwso6A/vFT2xdJK8RMrGQT1V3QLPPQNvM0cPOoCAns7qJv3j7geUuaNAWwuN0GVo6qN+34qprqDJ0TXvD+TADe/ijbLf+c3QUfnQ57YOXDhDW/0/EXv2ta8aODc6DFpr862DtZ85cOfDSS7qD2ygSkqGYUEdymoPJ+1z/7+CURTfQFjs9FPKrPDnw9Fm/TqLHIgnzvgkMZpDyi2T0/D/WwrrKfg7MO3hg87BDx/9BJNe+/yKhSbbnfy8tVJix/feQCZMig8Pjs1q5QjpTxc5t/oGdKweOq5OQDM//YxH2/xKxSARoDMaQ4zT/IphUJJZSaYwB+0NJSEaEFGEkJCTTmP/PY2EkJCTTHlKEkZCQTGNIEUZCQjKNIUUYCQnJNIYUYSQkJNMYUoSRkJBMY0gRRkJCMo0hRRgJCck0hhRhJCQk0xhShJGQkExjSBFGQkIyjSFFGAkJyTSGFGEkJCTTGFKEkZCQTGNIEUZCQjKNIUUYCQnJNOa/eeRhaytoagJsNsjPB9bWwFHhph4SEpL/Dv81EfbHH+Dll4FYDDQ0gEAAhPidqe7u4PZtoP/w3ddDQkIyQf47HcmwMEChgLNnwb17gMcDbW2AwwFpaUio7d4NDAzAZ58Rb5KQkPxn+I9oYb/+Cg4eBH5+YMsWwmUAsGupq4uk28qVhAsJCcl/gP+CCIOCafVqJKS0tQmXIblxA+zdCx726Obng5QUUFSEdMiSElBRAXJzwYcfghMniBceKhoB0AJgVBe6k5BMCf+FjiSUX7dvDyG/kpLA9eugpYWw7tkDnn8eGBkR1imnDIBQAPwJ22h5/HHw+edoJuL774GhIVi3Dri5AT6feDomkgBoIowKTFyKvwGAHWz+ADAEII1wmxyew4vkm4RtkvEG4AgA2wBYAICYcBsn+wEwAeAaYSP5F5n2IgwKL1tbsHYtYe3F1RVs3QrefRcsgOW1h99+A3Q6+OsvwjpRGgBoI4wKrMKr91IAngfgIwCkhPNAhrxLnMUCn3wClJSIKEENE7oMNRNRVwdycgjzEDwGwDwAdhM2RFsbqKwEr70GjsB6PAF+gf12AN4GAH69C4D5hDOBfALlvnR2Di9FobdnAfhhkIj55Rc0x3xfoJwPDCTMA8kFQAOAQwBUAeACwCsAMHB3GA6o8N6XL74AUVGEuY/1AHgC8A1hQ/B4QCJBWfL334QLyYMBdiSnNa6u2KVLhLk/R4+if6OiME1N3N5Dbi7GYBDmCfEZLP74XwrhQPADDBOG1RK2gfz1F2Hw9MTOnSPM/ZkxA3vtNVjBMSMj9M6ZM9iyZdjp08TTfnz4IXo+NN0Ypoxhr2LYcsIBkZyMvIV/qamEy/CUl6MvD818DPuKMPYREYECbG8/ZFAHYGyMpQxItP7oYtjbhBHx448YlYo5OGCdnYTLMNTXD8zrPgww7D3C2Mf772P6+tjGjYR1GObOxb75hjD3kYZn/feEDXH+PGZtjamoDPU2yRQyvUWYSISq5HBUV6Ond+4Q1l6gY3o6YR4/UExADmHYMdzQCxRh1oRxCFgs7NYtJLxgIMRiwrE/Tk7oEfzbvRubPRs7eRJbvBhV40FAETMfSpPhkMFvYZgvYSOA8tHGhjDfl5AQzMQEGWAKD+QaXmoGxBry1FMo2GVlhHV4tLSwoiLCPBAOhm3BMMue5IVUVCBvobi5LzIZ9sMPmLY2FhqKvfMOVldHuBPA9KNj2B4YH8IBcerUsLnQw6xZRG5AEapAGy7H1TAsjnBA6Opizs6EmeRBMb1FWFzcsA2vXLpdvkxY++PhMYKuANv7xETCfD/K8fQbrNPswt2HbIxhDYcNtZISVllJuAwAVgOoF8Cgq6pia9ci1QkKsp9+Ip7idHdju3Zh8+YhKXPjBvb881gbrFH9gfLrfxi2mLARQEVJXh1feQXjQFExLFALNDDAKBSk/bz5JuGoQBQeQShremlsRAF+7jmMRsOyswnHQXR0YDo6KAju7ugvMJBwH4gGFKKEEQkaKBcMDbENG+4jbqDP8C3os60tNmfOUCLyCh5mqDv38u676AdPPolJpYTLIKqqkEDcsWOQh3JRuBbD3sENkA8+QDmrp4fdvk24kDwQpvdYWFUVMDEhzAPgcNC/Bw7gFkU8PdGk3wCsrICyMtDSQn92dsQU5wg8iY8lXiFsfdwEIA+AjwH4k3DoQ00NDZqw2fcL95w5yCAWg6ws8NZbgMkEUoXhNCUlNMBnaAhqa8GpUyAujnDvYykAfwEQhk8pnCfc0NvvvQcKCtAKuuJiwnEojhxBswg6OiAmBnz0EeHYRzMATwFgjn+ll5ISMH8++P13NHRUX084DkJDA/kJY798OXj0UeDkRLj38R4+xQlxw/+FWFsDHx+QlwecndFg0wDk2Yz7DNPBwADFDGYuzMGBwNQwA6D/mps9e0BEBEhNBZcuES6DMDMjxiEHevgJAMoAwIgeJRzA0qUgMhIFVSBA1qYmNC1z5w4ICQHBweDuXbRGsaMDf5VkUiFE2fTkl1+wJUsI82Bg5IbUdb74AluxgjD30tqKWnKonQgEhMtogUk4YJQG6kRnMMwNw14iHPqAYfr0UzRQZ2FBuPSnqwu9cPYs+hf+yUO5Zg3SRAYREIBeGZqtGAaVU3c8bB8QbgOBulJBAZaRgcXEYAcPInM/goJQp2xY+MT/RwDqMLm5qNf8+++ECw5U7sLCCPNAGnDdVkjYhqC3ayf/MzIi3HFFEDrAJBwPly5hzz6LvfQS+jt0CA3qhYfLn1y/jtTWIeAS/x+a9nakPhsbY6am6A9mN1S9l/cfmySZHKb3urBffwUXL6KGfUigjgZbUQqFsPby9dcgKAjpIv3p7ATJyUhJgs1neTlQVwdPQV3jPlwA4F0AYLOqCkAdAMH4VJp8lr0In656GYCTuLU/338PXn8dGeDHPDxwp37Ab8sVCfj3999oJRsEapKWloP3FnC5aLpy61bCOpAuXBGDT20IBwWg/5s2AQYDpY62NlBRQZsYTE2JpwA0NiIHqLSNB6hrODiguEAPYYJ2daEU37+feApAaCjSqIZTQ0cAegtjDjVZXD6j9cr9lsnU1QFjY8I8Nvz9kUbGYiEz9JZGQ1O3k7slDaqQUJuWf4Jk8pjeIuzcOSQT0tMJ6yh5/3009+3tTVjlQJGyZQvqo8F+G5UKZs0Cly8Tj4bmLgCn8H7EenwJhRBfYDHxRWdQpjzxBBKoMFZ8PgoN7AAeOzadtkfBEpWYiFoPKFxgUpKQTCXTW4RB/WvbtqEHrWD1LyoCM2cS1v48+ihqvE+fJqwPF1CRePddsH49GluBLTbUOEpLwaJFSGMiISEZxPQWYbCPoqGBWv3B+PqC7duHfgR7CQEBYMMGwkpCQjJ9mfZ7JGHHKyWFmMTrj0QCqqvRPOMAkpLQdJ7iFB8JCcl0ZdoPVVy5AtasIcz9odOHkF81NWDePDTBTUJC8t9g2ouw/fvRmh0dnRH3uoHvvkNDzCdPghUrCJeHFw4HREcTZhISkuH5L0wYJSaiBZVOTmhxZUQE4dhLcjJ44w3U34T6Wl4eOH6ccH+oEYvRcH5FBWElISEZhv/InPezzwKRCA1y7duHVlaZmKBepKUl0NNDSyUKCtAy6aSkoZaDP5xoaQF7+4FL10imBTU1aNkaJCsLFcrhkMlIRXtSmPbD+YNpaUH9MKEQzTxqaCApNi2BwtjCAnz5JWElmS4sX472Z73zDip8ISEKhz31h89HO9r+c7XvwfMfXHmoq4v0LwcHdI7YdJVfEFgB/qtb6qRSVMNHcbLYA+XPP9F4xMR57jm0/wACVenubtypH4cOEZsulJTQ6v/mZtyVZPz8B0XYfwQmc5yHtU6EvDw0ZDgi5eVDDDoOyQ8/oGmUAXC54MwZdATjlNLVBd5+mzCPBihuwsMJc3s7YRgHq1ahreMQ2JAWFOBO/Zg/HyQkEGYVFdTrJJkYpAh7WBGJJnlF/nBr4Xg8tG1TfgjEjz+iY3BHZOlStD9zNGRkoP0GA4DxUlVFMyxTir8/6oZDaTtKnJzQxQVyNm++z/EVI6Cjg4YwIHPnojAMYM2avs23LBbaWVJVhfSyO3eIgTNSqI0RUoQ9rMBeJOwST4ScHCSS5BUjKwu4uOCug4AVKTub2KWFYcDcHHcdCuhDejqaLYWvjXJmF8pN2GMaAJ2OfID+jAjUQ4c8nns0BASgf8vKcMvwwLh/+y2S4Gw2MQwPgbKvvh6dUy4/pHzvXjRudZ9tqlCv7AUKaBMTtCcsMBAtQdTURLe3qKkBG3zDfW4u2LgRfw/XwmCyr1wJXnwRDZ9dvYocoeCDalp8PGhowF8iGQFShD2syE+tGDcXL6J7Q159FdUZyIwZqE4OuSEeqgxQpZJ/C9a03utSBuPlhfzkcJBYGY0AgggEqA7LgdVVrtrIT8iQd9YG62gvvYSeQv0FfgVWcli9x0dMDJLOmZnIDHt2A9TGEydQ4kDdB6bMm28ikSEUotErCEwlKIBgR/6dd1C/LzYWaUlQmEKpHR3dN0AJpRsMJwwh/HdAIKEIg2om1Omgh1AOGhqiRIPCFDYPrq59ehYU7lBLnTUL9alh9/OJJ5Dj00+jGYCFC+9z7BqJAhjJw4mDA3btGmEeknfeQafWDon8yNrQUMIqJy8PnYh2f379FVuwgDD3Jz6+72RYoRAdgCU/l6u1FZ0hC2lsRP8OZv9+dHC2iwuWn48tXYpC5e+PpaUhg54epqyMPfEEei08HNu6FfvqK6y2Fj2Cf4GB6IfQAB/B6MyZg/n5oZNRS0pwf0eisBD9Vn5AbkgI5uiIrKdPY5s2YXfvokPBoPXWLXTaHDSsW4fev3kTpbm3N3KpqEAHf2tqYq+/jg7w1dZGZ3/DX0EP790jPgEjDtMfpkxKysBTytLTUXwhf/+NZWYiA0wo+AlohSQloX8hPj7YxYvo4Db4xVmz0CG8cn9OnUIHjZGMDlKEPay4uaEjpaHQkR+LDKsxh4PkSEMDkhewWsJyD/9efBF/exDyk+x7haBYTJydnJraJ6SgvKiuRgYo3TZsQIbISHQjBgTWzKtXkQFW5ldeQV6dPYs1NyMXGCRdXVTVYYWENe3ECSSbHnsMPRrMnj3ot2w2duQIEWBYV6EPLBY6oDkhgXCEf1CitbcTIkxdHcmFDz/E6HTszz/RGdvyd6CByUS/He7Y7l4eeQRdmyI/a7ugAEku+VnXUO7r6KCn8gPLv/sOvaChgc6rhp+mUtEZijNmYF9+iZ5C6TlKiTlBmpqQZOw93HrLFuzCBcJMMhKkCHtYgbV0zRokLGB91tJC7T/UBaB8MTTErKyQ7JDXalXVYQ8qhdXP2hqdEA+BEgF6BYGaCPwVg4GufpL7AKUhVASgtgLJzUWiBMpKGg09OnoU6T7QAMVZVhYSKBBYu6ALVFighF2/HgUJWoercrt2oadQ26qrQ9IQ6hefforcoWiTiyHobXIykjItLcgKgVYoFuV3HEFv4aeh2IUqj/yFzk5U1Ye4lUQRmGI5OcgAfRsSqNZBAQqBcrmsDOPxkJl7/5NYHwhQX4MpJpEQVpKRIEXYww2sVDU1xB+sbLACy6tZeTkq6Nu34y8NBazk+/YhYQd1CsidO8RJ0lBrg9Lq2WfRJR9RUehIaChEoHAxM0PqHtTyoI4D1Sto3bEDiUv4/tq1yJ3PR6cnl5YiT2bP7rsDClZ+qNHI+02DOXMG3ck0imvfJhmoq94H2IWEqQdl90PIyZPYzJmEmWQUkCJsegIFmXwUaThgY25piWScXORB0SO/WdPLi9A+BtCrysHeHEQm6/t3MJ98ghUXE+b6ekxNbeRRtoeKFSuQCBt4U9vDAUxMKGFJRs1/cIMRyQMlNhatoprIWtAHT20tWgZhb09YHx7Cw9EaC7JKjgVyUQXJxIC1ztWVME8XTEweRvkFWbQI3bxCMhZIEUYyMaqq0HZOkkmByZzka5P+H0B2JEkmBo+HlmhO9W4hEpJhIEUYCQnJNIbsSJKQkExjSBFGQkIyjSFFGAkJyTSGFGEkJCTTGFKEkZCQTGNIEUZCQjKNIUUYCQnJNIYUYSQkJNMYUoSRkJBMY0gRRkJCMo0hRRgJCck0hhRhJCQk0xhShJGQkExjSBFGQkIyjSFFGAkJyTRmBBHG6X/TOkkP3IcpWSQSCWGaVKY6jujmhik+q04qlRKmB4J4lDecTzZTmlN8gYAwPRx0dnYSph5GOPLwsy+/nDljxhRVkmkKnU7PLyx0cnBQSBYKhUalSmVSdDXjeKHSGXSKTCQeQ8Wj0mgNDQ0qKiqqqqqYTEa4ykFBosmPU5Xh4K4IKo1Bp2IiiYzFpIvQnYyEey/DxZFCoVKp0EdMJkWXG1HpdABNsjHHGfrShl+VpKOt3T9gEPQF+Tfknxm75xDoSVdXl0AgMDAwkBGCDIUd+kgUeGSjQO/xR4OgUJhMpkQkgm8TLvcF+sXj8WDtMjE2HiA38Y8iCPtIUGCOUmGzNNoyMHROQfDcBxSYP+gqZcJxTFAoMGuqqqttrK2l0POBKQZDSu1J2wcEjAaM76b16wm7HDx5hyUwOJgwkfRjyGTp6MavU50A/Pq8hEL8xuyxkJef39rWRlgU4XS01tXV1dTWCxRvUxM1F8fmNmCYLCI8kXAaxJBxlAk5tTU1dY3EtbUdDVVd472ztbqmpmLoS7klTY0NtXV1tfWNYsJlPDQ1Nxf23o+NI+Zz+ycDh8MnTEMRHx4pIIyjorurKyMzk7D0R8QfWwqJO4uqh87N4RiukrY01sGsIizjJSI6mjBhsi7FqHA7h7mDeSrxCwwkTD2M0JGUPFgpO10YnCySprwzP/5R3jWh5Opub6pr7oI6U0x4TJd4tC0n7L9ATYqw9Afr+OfC9UaOUMjtDPW9lVsPuxvS+MiYTgngd7XUNrUDwKuurhuunzA4jpnRd0Liszl8UXtDyaWr3i1iUJQWX9zAIR6PERjmIYNdn333eliWWCTs7mqNCfELSSwkHowR5Ltizy7c60p6LV9uxjhVZ8+ji8oH0FmdG5NXCxOqtrqGM4yKNiRC9LUhOpKZEd7xZWNIIn5DQXB8LmEZHUNVUmHQjRsV7Vx+W811//BxF0qo2fUpd1jXuV/P9Xklqv390l3CPAEyYu7U8gjz+CCH8yeH6MSCpx5dk5aQTdjHBdTUYbcDZsriFYvVGRO/UIOipKbjYmdpbeewZo5panoRALQFyxZr0KFCjjoF8r4A8e5IVKTcrqBbbVg2397WynnGvEf3bNJhAAqNzmAwiDcmCQqFrmdiaWFh6WDvtHz9Vr3OnKjCZuLZxGCwWMye0FLoDDabNTiJNcxcFjubwFYEducm5UoTOoNFp43BIwaDyYTd84nBr0qvUbaf42Br6zJ775YVNMJ5YlA0ljsrJdUQYro6PdVp+Qq5eSK4L15rokyYxwcpwiYDTnkNMDI1c2K25DcLkYOsvSI0Ni0lIeKmr19hXTf+EijPSvD28wuLz0qJDkku74AujWXZfn7+foF3ylt7WyJU3ANv+XShxk+SlRjt6+/rHxrdzJOIu5ujwkJ8/YOSCqrxN0eCQsHE3JKK2pqq0rsZzauWzoRud3x82qVg7LVTlFrYvtTTjrBBaEzoBZS4zRW5obcDvIKjuHgD3VaVHxQcHBB0u7gRqR7NJZmxaVnRd0NuBd6FUUBvjAJM1tfYz14wpyg5BRpqizIDgwMDgsPqupHuVpETn5SRHXon0OdOdPfohtGpQNZQU15TXVVRVV1eUSPGUCJw6kuDQ4L9g0Jya9Btvh3lKUFJ5TB6+C8QpdlJ/r4+/nejWngYELX4hcTJ3asyIpMrUCaOAvSh1sq8gKAAX/9AIvswfmh4ZF567O2UYmhrq8z18fMNCI0pqm1lsZlNubFp1fJBen5gwF0J1n0vLDY7OeqWl29GVSvufj+UjO0ZFYmJBeXcXjVXJkiLuecbGBgam4Erl8KgoNDCrIRb3v65NS3FaVG3fLxCE2Ejdz9cF8/PionBjVhkZvtyJ01oqivJCPD18Q4JrWlHCj2nOj0sNf/ebf9K2J3AuLFht2GZD7kXJ++fVKdFJuaVhN329wkM4+A6cLTX5Ro8kA2l2YGBvrcCQ/IqWuAvs+LCfQIDg8OTRsxbUoRNAllJ2XMWekLDinkWcaml0ECR8rPzSt3mL9+9bVn8nbsw++oy76a2qe/YunXlAqeGsqIOEZA25SZUYVu3btm6aXVG+G0o55BihMPn8Wl0kBPm16RsvW3LtnXznakyGY2l7Og2Z8mC2TVpEaUdo6u1mAx2p4QSmbYqu7oa3bEKfUbj42OVYEDYLZYNViYoUm6bRG3Nus2LzLC7SagqKqnrz/Xw9JxhEX/7LiyZEm5DdgVnyer1W+YY3b6XLP/VmKAwlalCDkxAdV0TT4/5s+w0QoKjoDu/qaqkg7Zm7aalltTbsXnyl0cE9rlhjw/vY0qgKgpdmKras+cif9ND78AsoEhFfBH8GnoE49tcEFssNtiybfuWlW5hAXcAU1eTX1WCmiRpZlGLnSWqwyNCpdJAZ4lPbPXmjZu3bdlErUqOKW6DDUxlbra606J1c+0k7SVeMdXbtm7bvGaxpLNNLKPo21pkJyHBza8v5Kua0ynC7LR8K4+lu3ZuyL4bPPIEJF376f/tlTQW37z0V2ACLpiodBNbKILm6wiKb2dCrZbVVJpNs5q/a8eW9IBznXoeu7bvpBRHZDT3NR5DoGylw6uAogm050mM3ViwZavPiKqkb962fcf61bF+fqhQ8tvTi5tXrdtioQ6CLl7RdF8Jy/zq2XqXroTAh4L2uoJ6ycp1Wza4MG+G5iMXHkcGhVBrzq2k5k2btu3atEoN+gso+tbOS+bPt2JU+yTUQPt9IEXYxOEkFdQWJ97xDwyKLmgszU2DGUnBMANTa5QXQF2FJoTqR2Fx41xPZ/x9xtxZrmwKpbaivK2xIig4KCDkjkAgauf2KUewmwfVgKI6wTxX2KkBTDUdHVVmQUpMfFZRO0ekTANd/CFGkQaCYRSmioO9lY213YIVC7LjImHxpOE91bGjZqFBbewcWL4lQNnRxgwaVLU1WuphxcBiYyJzS2r4MioN4+GjbAxbW2v4P6aaFsYntNExwW2qYhhZ0wA/KjK8sLpRChgUfjfSI6jKttbm8P+q2rpCDqpWIyIDNHNrBxsbW3tbG5gsTCpSA5LiIrMKKrkSwKIJOWIoWBD46xSYUpXFZc1V+YFBgYF3EqQyThsG5no65WUWg85yobbdaAQY8oxKaSgrNZ05R+4yd5F7dQFs5yhsDWMTNnJpLCs2mTFX/tUZ8+epigWAZWqGNUF1KzO11GO+PRCJNcysVNFzpg5b1jWa9outuWjZ2ief/h8/926lEHCrc+4lpDW2drOVlLvQugSMrmJsrYZe1NfQNTVWggYjA7Xm1hGG7VZ4mkZntWbEZ3osng2tlUVF3e3VQVA7DrkNaKJGFDCKlZUN/m53GU/LRRv13OladsYSNBYLE9XeyRb+n6VvxO9owx2osLWuyMlxWbQUWmGBMTPSFTblh8Yk1Td3MVXUu9qQdnwfSBE2UcrjI6xX79+2ccOWTRs3bNqx000ptrAd0Kk946BoXQCs+nbWehnpSE+B5BeUQAlkZGaua2y7ccPGzevXL1ux3FwFjcvK1xDA38Cf2BgwUwuR6iQTdPHEgryihiWrFtlYmgu7uaNTo9AqC3mPSNhYRVPRhmYYFvQBDC0uwF8Y7ZD14mWeSXdDmnv6bEXpCcXNPBoFk48lQ48osMpLmys6WCvmz7Qw1uwSCGEYoTuRDtCEPjwyMGgUGjFi1d1U5htZunrlHHFzWRNmvHiWs6muMo+HxLcMk0qkyGcUo9H5DN/sHZzGJBIpChC3sFa8ZvEcSzP9bh4PiRv4eXkW4OsFTG0sjKzdNm3ctGn9miXLV2hTgLKJM72lMCGjxHmWi9yrIWkoTEqrRCK7qZWvocLUt7CozcmUP8pMyjG2s0Kr1nrG4fUtretyM3AjKEhJ6UTCE8ybbxcXnlgPdC2gmEOxJUKOgj1S7ou76lJz5aMNAipDW4cFynJyzOescba3pAm5Mvz36PP4GzAUErwUwP/1iO9h0XGd15IZkivQdcHlt5mtjYaeNSz3sAzPX77alAEkvTkO1MzZ7cXdKDGx7oo6qr4KCrxUIl8z1JNrsATCbLR0csxPjEd2gDV18OryMnRnrnF1tGKJYWhHgBRhE0SS34DNtdEibABYzpzVXFogoSrpaMAsQ2hpa2EyYDp7rSOj7pav793oZDGDRZFJGEYzZhmKgvwDfAMDqzvREBqNpQqLOzRoamvKJGDmmq1qLbm+/n5+9xI7hIz16z3DbnrdDovTsrRRpY9UiiEUhhZL6B8Q6OvvH1XYtXPHWlg+1DS16DDXmcqaKlBHpGppaYzCIwRD23rv2rmF6VG+vv6+gQENUk07PWWWijobDwmVoaSlzgY0/aXO6je8fKLSqu0sTOEDupKqmhIuj2BN0sIb/ZFgq2p1liYHBAX6BAZllLSv273XiA0Yek6zDLg3vP0TS9qtLE1g4WeraigzkXym0Nla6qMaEFbV0JKHFkFl6KDwqKyZZ37jlnd4fIGVpRVMGZaKsp4WzAJMS0cL1g1D5yVmsurAAD/voLAugbxmMuY5KkUWA2edvvGywehb2LXnR3j5+tBslzhoAqq246bZOn6BAb5+ARwd12WOugAD2joa8pcZOg5b5up6+fn6Bd7tZmsb4CVHxXQGryTWyGUueoNC7009DS1csbkvNKYyrynX28fPJyTSdfVGqL65rVzfluTrG3SPr2FsoIrKmLYOUWjVezxkq2upskYUCOquukDfAalgELbJHE99bnCg362A4DZ8jBKWYU28DEO2PrK7Jj7Yx98vKK5y34FN0IWlqqWCBlFh+rN0tVA01bR06FBK6btvdlWGVeGWb0BVc5fV8q3S7AAf/zttSgbGsFzdH2JxxTD4BgQQJpJ+jCNZYNveS9Zdn+xGLmGZMJlZWfUNDYRl8pjqrC8tKysqLiYsU0BNbW12bi5hGTWNTVhDPca97wq/xvzoe9n1hKWHlpaW5JQUwjI5SHyue99v6VoPU5dTYrH4bng4YXk4GPO6MJLJorU29WZ4VGVTbUVZar5M20l/YjPJJJMNjwc++wwY6ANDI2BuBlRVgYEBWL4cREYSLyAwSWN1cWRG0xwXQ8JlahByOrISwynGziNpICQjdSTptPtpy/9vGVWywC5/NwAtAFQBUAB0OXM2KDny4jvFZSZ7nZfQSgBIByAWgDgAYCW5CcDPAHwBwKcAvAvA5wB8CcAFABoIz+4DAy0lIlR3gjb8rx4A+JUsAOIBCAUgGIBo/HPQGgLALwAcBeBFAF4F4BLxu/5MddbDMA8M9jiA/e9h1uYi30e3Zk0qBe++CwwNgK8vuHoVlJWB/HwQEw0WLULya+0a8M03xJuwQyeRMTbs2Tm4+81isSZxiRwdSFRMZm5dZE/Y78uwOZWMZzrMa/gvLGmJAOQAkA9AEQDlAFQCUIv/NeN/HXiZUYSOQ1jGBMyULtxPLgBoZppwngpG2CP5zfffOzk69g6CTjpUKlWGySayr3DSoFCo+KYwwjo8MFNhJ8jG2nq4ZBGyRdviNjNPMoESANA/+Bb8gxJNXsJheYMNB8xXGGtolpcQ2KibAaAJgBb+lINXTlja6sCdG/f4Eh5FNqjS4FBpNNiFUVJSUlZWhp1VEVO0IWe9ypvKQD4QJ8a/CwUF/DT0AAZGPhyvAYAbAK4AmOOF7AfQuqI1/GAUk0NUwsFxFLHEa2NWq3+rBlbiv4W+deJltB03tALAxyMF/YdfgX8wFtqg442Ou+bhTPh5xXSF+d7ZhbanaGpo9E9zEUW8UnO59j0t9D6sXb2RhgbYHsC/Rry+8fBPwASE//IA5wdOiOUdpqhPIFKoVC6Xy+NzdXS0pcNshKRQMLaSiEVbuWqlHpRTz70UY2DQKJVS5PsiMRkFmlNTMXt75acfW//SS8LVG326u1g0Gl2+c7N/maVSKQKBgMcVGOjrT8recnynJAzAyNsbB+eUmCLx0JtjnmAGruEtFixRMAHk+QIzCBY5ecGDSQr/5Gb4LyyH8B1zcOO3WywOC7nABMKwuvp6czOz3smE+yChSGaazLBJswbv44UK+gBTAnoO/+CnYcmCVnlph9+FeQWtG0De8wUF3EI6D740MtBLZSWlNatWEXacEURYUEjIxgGbKicVkUDAZD8syrJAKGGzRtXmjJws+/EcgpoOzC01PMPGAZRi6nhrhq/OGI78ggIDAwNtrZ4phb9xVS4XDwA+Dz8yEQA8iouMfgwRxxQAdgBgDMB8vIxCz2HUYIdYFw8ntMI/GNNeiVGDa3mf4f8Ooqa2FlZRC3O0MEKBPbhOugUAp36tN6wA2vi35F+BcYUyGhYc6OgDgB8Ag/a6tLa2F1VnubjZD7dlWpUlC/Az2LWNdfmqYO++Fq5MrEplFVcxirJ1m5vBsjUdpiZcMYbRKVhdpY6tpcrdCNnCZVU84RAlBErklpZWQSvN1VW+buaBMkRObQfgDt6uoDkbwm0gMG1hAeuVbtAKyypsSmF56zfvEhkTs2zxYsIyIktwIbUNgK34p6FogZ7LBQz0HzZyUDuDYhT+wW/BR94A/AZAKgDE9MDI+AcFbdm4kbDgjCDC/AIDt25CUwmTgTTg0iWJpi5FIlY1slvp6QxjcennX9a/dFCHeGFs1BQkJhU2MaiStm6xtqayUKKyccsKZejp+BDX/nwx46WnRxXZkZNlKQBH8IzsgddeExYeUd1NmTln/kJX+cIZgrqCuMDYQhqsKzKpRNnoyb0b2fJYlOFZC/WO+4qwrOxsfX19QwMDwu4PwGEAiPUbfXQ3ld4OjW2R0GZ7LvV0Qou5+oB9jWdxidOPoeP4D96w/0HY5KQleKdWd8KaIpOINU3n7lkyi3gAuQHAOQACCFt/ysrLoQizs0WrhBQwBeBXADYTNjlcaWXo7egmIcVt1qIFlpaEqxzo/y1ciilSX99YUpvr5GLXs3hAAQpVxqQpmWobnb0o3Lazso1DV2bT3zxo/vdfQM9Apqouqyqj55a0aOp3ScQUNXVJRIjB5g3qzV2NGJUrQ2sxFYBaWEtrm6CVOmsW2gLxgBkip2D5GVStOdUZF0LTWAwahkklmMq+J/cNsa4N/hBKmZ7yBjU7KMJWLV9O2EcEtiuweCimQWtjQWhkTCemsXDpUjejnlLay+8AvINL29ExWIQNJ6KnAmlpvXj7po3btm2zB6VXo0qgE4vNHncITB3n7dy2Zcsa906gs2Xj5t1bJyC/IBQam0V0oyYB2OWBikkP4uaCzz//Lqm4Wdhe53Xhj1txaAV/L4LuluKS8k4un8/jdXP5vUoM6jHBruh95dcQQLUGrdBQQNRS+P33v2bXtvLbaq+d/ck3uZJ4IAd+qEeHGwEHAAZtA20vri7Nq+O1CnnNXG47bGH7AQNTTxhHC2yroW7VD15jzmfHTqfnNHMram/98ptPUgXxQA7szMp7zWOBzcaunteeOQvbvbO2rZsBMLSitb0DC7rXWl9fUVxYY2MLYsK1GQy0VIrTTV+3vm3WLHD2d322Ul/+PKQMrXQCKa+9qKi0vZPP5/I5nUOtt5IXm7GWt/5AxUqxDrYXRn5w8peyOiGnqviv784kVKD1rQpAeTfwBLCx8SBFGAWdhISjqqbWKy9glCWddUW18u1mssICJNoQYk5VVVVTB3G0AJAJqquqWroH104Jpa/rgnF5QhG3ra4ZpYqgux360MpBlaqpvLC5RzgU5xXI61lHS31lTf3gXr6E1wl/2MaFGQKBfgpE3I46dLTDqIHFqF9eSpk6W7ftOfr2G6+/fECNKW1R9ErI5wmB2tb9T7700qtHntnVJ4hhdo+jBzrUVGd1WTFFz+Glw2+88dIBbZa0qkyx0wj7DrAzOBpg+R6YAzB9RMpaFo8/89yh115/aus8wnncQPVBsVRS2Hpbdu9/+y0Y+H3qQNTYqljkx1OEMTaN4nULrFmDcVHhgSlO4fIk52+UeizqbObBjgmjrQ2oqMN+pDwzKEIg2bWHHxQElKlUbLCGMx2AkksGaCt2PHHw+ZfffO0ZxWYCZ5iJkbGhmDYUTetH9j5y/PWX39y/ApPyG1sG7aPIAaDf1ttx8CBFGJUpbvYJDgkM8rsW37JungXhCqtqXW5MlrwbIwkLQ4t0ZR0V3iGJPImkPCM8tqAFyjO/myE8mTQr+l4VvgF6GCTXf/slubBBIJIAcWtCZokMYLkxd6s4QIPeficG30nHLY3Kb4GSITPydlZlC5R3/v63uTDdewRHd3V2YGy2SCzKigrJqkX7LXz++i0+v4YvVNQv7g8UvP1UA7aG3tyF89NvXfjmh0tUHdc9W/D1ij3IAN3EkOVz9qd3T5z40ye6r3mE8R7H0gv4XShAFQNr47n5vTeeNaCD1MiYdpHqvAWKK8uhWuNEGEcAaoUDC7qMylZTpbb/+t1nxz76LCQZ9n77AfW7ftroqIAZoagNK2kYzJvnGet98eszV6hmcx5ZN6CjojB2MyooQCRlFuWxZs9vF4t7qwClq5suEQNVZdarL5twuWD5mhaxiHjK51Gf+F9HcgKlqU2Vhu9MengZZmRcglGMDHQjrv/83on3f7wcPEQtGqQejJlBWpimgdnCxZ43f/vpi8v3zFyWb5trRDzoBXZIJjZ++CBFmEzE0Nu+Yf2mjVtf3Dvr4oU7hDOMNZXGYMgTnspiIcUjIjTS0t1NV03dcaZbelQodBeIBTyudO7K9ebq9xtxx9g682Y7W5voAIammTrIzS9qbatOzqthmc1nthTAqp2fkjNnyXwgqEisBc7Wplp6JrYqnWGZTQBpiCj5w6LSnF0dNTS0Zrhbx4dGI0e2jsdcVxuzQd34+wBF38ARPmzG4tXb1y+hcCrDotEG115clu5869Brbx4++syGmdmRIWl1Pcp2NQBoi+QYYeMt4RC9CfHdG79fjqnc/8KrnubEunCCQgA8COMIwFwaWH9pmx5/4fArrxx7+93l5uzQ24HN/aUnFGFDNPf3RbEO9CCdvWjNltWLaR3FtxMUx/lgk6cwtDgyVArgcDGBEGjrihSnoKUaKvQ9m02vXgWltc00pkDWMxEMDRraIkNDkJqK0SdvvAGBSRvrqquqa7qJ1f+TxCB1x3TO+mNvvHb4jSNvHVhSmBoRkTdoDcXQKT9GBvUboBqxbPPWrcvnNpenRxcOGvSC7fQoewDD8CBFGKRn7kDVmt+IRjRgoskVIBmhsQu6BKhMSaUSXndXe3tbYwt/zdrlsJ7sfXSfgaos4taFpKpBmdMPGku+fwFk37leJDXatG7NxoWuMjGqVR6Wypn1bYXNtJn6dCAWSySijo721pYmptmseTZaMAT479CB65zOzva21pZuxpq1sGbLqEzGmNtdqKr008IK43w+PPV9mYBpaqDHkApLStBYGCbmtXfxAdZ96c8ff75yp5vPra5vo9CZTHpPpsCqOuqZmj7kEn6ACBO13/jjxzu57Xsfe9LNkNXFVWxwCwAg9iCPxKB04DUX//jtVz5R2TxOY0MXn8lg0vtrAaMfZRue3Aifj7/6sZrPMjHUo8r4xfmKil76qAPfD6kYLQdjMij9Y6SsLPvxW530NFDT0sJQ6hSL+mKC+pY0CpMJOJy+A0UmCRmnq7O9s1MgVpCmE8J08BCkOOD8T9/8493JF5bWNNFoVFjOiCeTCCy5ikp6jPcfH375h0DD0FhPUyboyiutIh70MvoewDA8SBEG62xXVVNLQ2N9SkSA3dI10EkoFMK6pmbvJqnIrG5uzUuMaRGjtmjp8gWNVc0aenp0flNNOyxuLd6+YTQNA2N9tYEzqJhUIJQPWkEw6KH8uZaurqCrtbWl8W5MmghvSy0XLEq+8BvTwRNZ1Ozc9UC3lKmnpVZWUgqFFPRHiHcVly5wqWvu1tXTFbXVNOP79qGfo9yi3AeMRL+C7jB7vpma+OIPJw+f/I1D1161egl09P7ju6MnvquXqi10d2jKjzh27N3AtBr3Fetn6KNjAxBZAIx6OrsPeTOoGOCC+KCIvDqqpPvaH9+8fvTIT9diiQdyYDQHKfhDA0WfYgVW1rNys9GLDzp39L0vCjtpa9Zt0Oovwmon2sZCnObONWIKzp35+NiXf3CZRmvXzCceQLrxNWJj1MJg2jCYgEYDPD7Wf1+zVEq1dwJ19SA6gg2INrUHCnyKQZVNWbm3HZ4kKAwbR9eZri56auMY+BwGK1yFV4Axx9OdV5Fy/Nhbl6OKHOasWmo71h7+KBg0zuCxeImapOGr9468+6OXuoHN+mX9ZqvllAPgThjHx4NcVAHqK0pauSJMJtUysTXVRhW1qa5O29gYNgdSbktuaZ2epQ2dx9Mz1IOPMH5bTkktW13fzgL14MTdzfkV9ar6ltYGikkv4VW3CMwM5d0VrL6uydDYQF766iuLGnlU2KvsElJ08c2izdVVaqbmxJIF+EJVSWOH2NLeTpNNB5iorpFjjPsj6Ggsrm5U0TW3NtKEfjbUN+kbGfQX9iMnC+yoQU1LofZi9dVVPAnF0MxcBW//uO2NzVyqhakeDI6wu62uuYOtoWek029cB368CAB9wjYcAxdVwFpth6/LVyUcIPzO5vo2rnw6RSaTslR0jPV6khE2g1BQVg4cQxk6jgkAvIIvEFOks7muhSPWMTTWlG/q7mUD/vcaYevPsIsqoNYWBsDAoo5OghZKKQYm5ir9vwAVMujBUOrLfRdVYFpqtBkO5sfe5e96rJbH7dVHMCVlrLWRbWgs6OYCrN/iCSpVBhUXRzPTiCRYGDhSiULb/9AtqngagEX4QhlFZIKO8rp2tpqmid5QujEsA5YwDQgbZMyLKpwBOA7AY4StB1FVeY0EMM2tTIdQ/GDph41QT6s9Iv/uogpgZGnr6uLs5uYml18QfVx+QWgqujNmzDBSV5HLLwhFSRu+KZdfEIaa3gy3GQPlF4Su3CO/IBSjHvkFMbKwd3eyZbKU5PILomfWJ78gRua27jOckPyCUJhy+QVhaxq4wW8h+QWhGCrKr1EB9bmB2UUxMrOwsSLkF0RFy8ASl18Qlpq2lbW1gvxqwEe1x9ELg4oSDK5iiJU09KytLC3MzeGflaVVn/yCtOKlVlF+DUse3sIPQkPP2MbKYqD8guTguw5GD5Q2UB4NMdhEMzGzsLZUlF8Q2AUeyxBlDxS+RPzRKc6nHympUlkUSo8IhJmB0UL8dQ69aAKkbAqFqM0YwJRVMK8r+kamwNGaJ5X0K0MPJx74Wr9BUNmaNtZWQ8svyMTOsEcswHfLDQQKL2vrIeWXnFHLryEZoW6OeH7Q/09GThb4nBCb4+UyXvmHqMwDoeIQFggUYVAejX4qc4gFjoih4xg6WD+6L3zYbhDGAaBAD97cB+MxphKXCoBCk9wHniroZrwhEYvpW3e1Q+H07nv62qoYhYpBRxUVcOuqzksvsv74jaWiTKP2/JjBwGiA9carzI8/kaKFrb0PBkF8+8EyRE4twZf7jpVBEy+0sd4gcBSAP3FVvQr/a8bHKGCBlLdMA/4mqT8+Qkfy8rVr61avFg55Qc6/BwXdzae4S+0BwmIyQ8PC1qxcOWSyYHRMuUZJa6MWGk+FCk4HPh4EVXSYozDbILBIwL4h1B2g0g6VIRb+x8SlFXwEIwVlXzsqT41nG6XbZfdvG+l0ekFBgZa2tr6uLtq5x8DY5WwdT220Tw1624jP+HThogQ2grD1lRdIGBIYBhgA2OWEbeAW0JTSLDEQgx79Ysg4ynRlhnYG2PdY/fYGI2DI6JWvAnzsD/5Bb6EH8tYWxgga1EGzd4t4rgigAxD7gHWjuroaBtjKwqLvAh4KxlBj6JnriW9LGt0aqVIq8q33DyYtk6Evl4gwUPLexxYg2Sdp2NVI5SuID+h/U1NzVWOJpbXpcHskmSxZXRVr1WK3Q4clX39TV1LVSKGC5GiTg8+ZvX288sAzdVwOOl2MxZYZ6us++5hNchKISsro6Bb1LBbrA9bzjq4ucSfd1cVJPGUbiodkiJzC2wVjAyNUAnXxEtiN544YLwzQCg2deBrKExaaYQ7CX8FC8ikanKpRrqFKaVAySiWS1IyMRfPnD7gLalg0AXYa03hHQ1U+mQVLICwjvQV7YLLhH20GXVh3d303ZYjHA4GlPSUtbeO6dYQdZwQR9tc//yxauHCqrymGIkku7GFgRtxoDV8WcLopbBUWbcwDq6P5EJ3BBDKxFKMx6EAkGqI4MhiMhKSk+Z6eQyaLjI5pNWuYrzdH8gK2PzArocGkR9mRZySUKbAkwfIE6yH8gy4wL3uDA82wF/kdyN9TIG4V3z9raXR6eXm5uoaGtqYmjBGU6+r6alYplujwCVh04Kdh3xSGQV7BYXjkK4XhJ+B3YSNZhwdjHSh8tlgoElB6KueQcZSoSp1/cJSdluUy8lwNXNhQ1sIwy//g7+CfPLXgd+GP4BehVRuUXC3lsXkUqUIsoP7V0NAAQ2tiZCTtEWEwU5RMlOwetRUwBPkOhfRCGqpmMMCwJecCjAeU+cq2utYo5PJWHfrPB8IYYR6zgC6FUeoD5nNrWxufx7ewsJTih7sOCYslYbMtFy1U09aSvf1O3sIFNC0tupqabUNjFp/HhDoijQ4iwqWvvGzt4qocEyPOzYMd1yH6Q1QKunm3sbnRztZWMhoRhq6VRRObeI71FeIeZ4LelLkPg3MK5iFFmeL2kQvwxZVx6Ie8OYECBQp92GpCx16BD78GXeC/MBQwCWHePQPStDMYUjoSYVJpfmEhugx7lBKAAqRKMlNrY135MDAUnbCcQ/kIM3G4VKGCBqvGxspGGHPCZXjgO9U1NevXriXsOCOIsIDg4M0bNhCWKQOTCNu7OLBNZrI1NPAjJe9Pks855aVPug7Se0dGKmrv7JbIZAyWuiZ+zcBgKjPjgM1CC2pNZKFk2SzF7Xg9jJwsTbh0uN9Ui6QTcKhASQ2VLDyPYWbLBRyssVDoGONvjYLcvDwDAwNdnSF2mvJAlwhQNfsP7OOIAZcLJFDJwVCBZ6gP1e0cNo4+eOygRIbCEf5p4BqlJujmd2BUlrqaEpJfMDrwD0qZ4Sc6q6AWJpVaDdjwCGnD93hDOeWM1zqYIDD48EOqQEDl8A1lao7qdNjFHmkKtbGpqb293dHBgbDfl0OHwA8/gNWrgYMj0NIE9vbAzAxUVoK4OPDnH+C998FHHxFvDkdnZ2dZefks99HOron5XKGMoqKiuCkOk3B4QlSZUbWkqiiPajBi2JyCnQAovxSmg7Au0IkBlsaox58ioqKWL5Wfav9Q8O9u8x6WuFs/V2rNczdW7qgpblV13Dx/hGOSkvwuKi3c76Y7RHt4f1ID/8qju3hYaHTUlTWxrLYuGmJdcFrwFWzW7jm0/LOJ4qc2D73iaILJImor/ev8tbyKRqaqzqyFax7duEChHI+RgTOScmTd/levRKcV8Cgsa/tZjz++R6/fREZqwB9nw4soGNQYxGomHh+//eRgcT6WOPLu+lwNScjVMl/0zks7R25McYadkRyG2oq7350LFtK0X33jbfveOZHhqa2ra+/ocHUe7dLv1lYglgBBN/9elNDHh1JQpDZvDvXQ68BjdIt+W1tbyysq5s4Z1RK1zrKEk7/c4FGUnn7tvTmmfXKqIT3gkwsRDArsBUgwmsHH37w7mhUpo80pXuPf/5zPLKoGKlpusxY/vWeNguI6FLB8jG1Gcur5l2ckh4NKZ9q7znFydFqwemt5XOQoFHGocqMK2d7aKsKvsxglVCrTxnmWo6PT/JWbGtPj0L6iQaDrYaHnFDQSTDhNNj4Xzhd0qL585K0VDlrJYcGZDYpraSaDqqy4hKLWTU+8/ML2Rc1FiUHxClcE0ugMZX3LV4+898Hx468+sWlC65Gk3efPfBuaXq+hpq7M6j/fO6nwaq9ciDHWNlUBSnTYt54CoBZraCBMvPNVQ9fPHnM+uxHVdPHSaOXX2JB1XLgapG9uoaqixFC82I5Co7NVtB45+PZHx48fO/T0MBMt4+TOzfPJVaKn33hnx1zz3OSwyAKo9v8XeDhEGJXS2lDd3tZWkHLPYdka2MK2FKWkF5eF+gc0CqHyy4mPuOfj6xMan0X0yCkUthKtIMovLLMSX5sozUyI8Pb1uZeUC/susPGIi4orzk319vZJKFA4QQZ+qK2xpr29rTg90sxzuQpefipzkrz9fIPCE+WXuQ6gtSLXz983KDKZKx6DrLwvknmbH3vr5f85mpqY6avLaGxV+aqOyQQzd1938sTRBU4WyiwGU0XPxUah39XV0Snoag6/ExSTXqqmozshkUBTW752y+svP2uoTsXvBJoKsICr16h2K3YstBOKpVT8gp+pIOferWyu1f/2bOFzmF0dk54pBJE3L7fpeT6+zl0oklAUm8nuzi6RgJMYGXI7JpOuqTO5IXBdtuPIoZfdLY1sjLQlMpq66gSnzB8WHgoRBlWqrrbm+ob6bowl6WiBLqLOuqScljVbNhuwgM+5q7ozlmzftn2+oeCibxx8ymAykgJu1GrM3rVyNosKku740qwX7Ni2faEexzuqGAB6bnyCzGjGjh3bm5NDq3h99YpCpXDaW+rrGzqldKwT7RGrSQsrkZnu2Lpt4wIjXz90x2pffUZVhXszJHvLlm2rZ5iireOTA93Cxs5ETyU31vdyWOGKbbttNSe9tuCRoMou//79+eAEZSMbexOF9XQW7ite/t/Tqxe7N+fc++zMWfxexvFj7jDTSF9FLL9cawooiPGOrJRsXbdQxOVTKVh39/12mI2bzvKkS3fzV2/ZoCzmYlQKn9tNPJhUajPv+Kc3b9uyWsrhwGLP7VY4dUPT3O2F55/fvHIhozX7y69PV3EI90nB2MLWxlizKuPejz6JHqu2z+3XgZ3WPBQiTCqVWTi6Ozu7eHgs1upMS2sFNArFxtkRPZPV1VMt7LRRX0fNylO5sxRWNxoV62hvae+QF2WssKS2MiPSPzAwoqipuwltrGAZmNnjN0uZ6rFbu/qWBUglMlP7Gc7OznPnLjIQ5SU3SErLyttqsgICA4Oi8ru7m6CUwnuoOBj8lMqmlXbe168GJ1cqKyMPJwksxu/chTsFuw6+tXPhqM5HHytdTdVpORVPvXzko2PPSeqSzvskEg8gmJStqqquZ2pt67Z0ji2vobqqZcI92ZHmkSeAMDYxRyZq/+nksT/u5GgyBL/9/AN+Q+MkkxWfxJOJ/f/+/MQv/iqazKCLv0WWjOV4pVGBxcalyjDB2a/f/fpmgpYy9fLv3+S09jWxDCVVJTUdKyu7DUtnY7yO/NJRXJ0wFjLDbv50K3btY4ee2KBwVsrUgnWHeHnd8vGt7JySQvJQiDBMJuvVqBs7gY4arBFoqBnZqYYawpoWeQeyo5SrZATfE/DFG544qF4T5p1QDmWOqamh+9K1WzZt2rBy2dZNKwEQ9155CoVjn0iCH8Lghwh7Y4dUU5Vuamxi5bp486ZNG9eu3LVlE1SHiNto8TkhaKNrOezcu3+uZpNfnOLu4glw99JPPglFmrralWl3//7nYlEL7C1PMmXpEX/+9cdP/1w6e96nU0jV1UfTt2nhfhcD42Sijstnf//29PeXr17yii7QNLOy0pt4g4wWqaAlAoR1EmFu3PvEi88+9/qhN7bNs+4QMvbsf8xk4BTrJDBj9Y6Xn3vulZcPPbdzMadDsGTzXg+LyR2MglBWbHvk4HPoYLVHVrq0cyUb9zztrEPJjPK74BcJ0zDk+t/fn/7+wrVrv3tHs9R1XOwn856kxOCz50NSVTR1O0rj/zl3Ib1C8di1qYOitn7nzl3bt1loTIm0eShEmKqmVlaEr39ggH9gkOXyXRZQ5WKwlRjysFH37V+TfDvQz9/XO75q57bV0ImhpCwUYGsffYVaFpFZw1mxdUNZbKhvgL/PnYRuHh+mmaoqcUwEU0mV0W+hjbKGRkFMENS5/AKDDOZtsVMFNgtX02uSfQICfP3u1HYhxZ2ppIKuqqcyVZVhOGRlmdHeAf6JLarrPNDF+pOBsK0bMzAwYMq4FRWVtXUNvCnogrmve/y1RzaIO2HnXLZq2+N7l9jB71bXVNc1NIpYOm+8cXiRrVZ5Za2xy6KXnzkwodNuCShq6prqqhPbKjI0FCMzSzsbawszU0tjPVV1tEVmNBcBjxUNfRN7WxsrCzM7K1M1FXUzSytlxuR/Rs/YAsbF0tzMxsxQVU3dytqWCiTVFRX1DY08QNn38tFdC+2qKiqVjJ2fe/5F00lNzpZOnoGxoRpDXFZWUVtX33Oz7/QHKhv3gbwKd0geqmQhr8IdkvFdhTtupuAq3NFCXoVLQkJCMl0ZQYSRV+EOyUOVLENchTsZTI+rcIcH+T55d9OOCAt97cF9rj9Tl1N0HMLysDLC6vypvgp3KkGrX+8fu/EBM/X+V+E+SAZchUu4TpipjiN1mKtwJwsKfhWuUCjU0dGRTcbdtPcHfk4gEHR3d0/WVbijZwpzaoxX4T4AYGUefBXuCGNhgcHBhImkHw9VsuTl57e2tRGWyWOq41hdU1NRWUlYpoCm5ubCoiLCMvV0d3VlZGYSlgfLlOZURHQ0YXo4GPNYWN9BKA+WjvL0Kze9/QMDvPxvZxSUjScQ0uZzN/puGBkfObFBN/0C/AL8b/qF9b846d9KliERi8Wi0Z2GJO2quXH10tkbgR2jeH1McRS2Vty4dtHnTvLoFSoY5pGCzQ/1u3H2wrXCBoUlnvUFcecuXbl87erFK5eu+oYNt6QN+T72E1Y49UVXL533js4l7KNGiL425s/JwTh11y9fvHjDt3VcHkxdaYSa3RSp4ZPIQzqcz2mqYJov2LJp884t6/SoLX+e8x370ilJW8dEV0BWVrQu27p56+Ytu7euvO/FSdMCmc/Vq8k5+TmFpYJJLfOl6WGff/9bcnZ+cflkLsXMDPW6HZ+el1vQxlWQdNy22szc/Kra+lpIffPkRUWWFx/0+Zm/0/MKiqvRFpEHBeZz5WJyXmFufhF+9Q3J2HhIRRiFSgMyokkysffcN1fZO5q4IrezraW5vW+LiYTPaW5u5gj7Mp/b1d7U2om2zOLDnEKBCMhEzc0teGsihi9zRcTLmETQAj3jEOKxqrRUXoYEHQ31+BW8VExcX9vS3jkle00eMKVxPsmtyktmWcFo9V/uO2H4KcnpFjMXmeooKRx2NTH49Zk3I8qWLJvHwAfOCFccAU8I2FpPvPDG20feevPFfcQKwIkj5SQlZNvPW2qiRpu6Hf6DqUj0TWhgLptlj7a/EW4kY+AhFWED0HRwqS1CF9lG3vbPKa2pLsvyu5OMHgibwuMzWtpaE0JDavFzJ7IjA+8l5dTVVcWGxwrx2AVd/T0gMqW+thL2B++FxtQ0VvtculaHBJQwLjqhprmtMDk8vRrJxJigYPk2gLbStMQidOGdlaujsKm2ICP6gm/UtG4gBU25F4NyHnn+pRlGKhIMsIc+Km18KO17/s2ndq9mgrGcGXJ/pB3nL/q4bnpi2zxrkVjKUJy4lMioWizJX99//NZ7H10NHXQTybihqT/1xttPbFtCk07ibWgjIGrO/ycgY//BQ+76ShIZYE1mvvx/YXqIMCAS0JXURNVJdUzrOW72Tq6eKq3ZuW1SwNJ3MlYtr6rp7qxMLGgC4sqYWuWtq5e4u7ktWrFQBZ25B1g09sxFC2e4zzHHWlVcFs1ynb3aXT06tQI+cXQwbqmq6uhuS05Gd9MymSz52Sc0OoOBX+bo6L7QY9bMBcs2OlBK4yd1Q4ZEyGtphhrg1GwbG4jo5nVfgbJKYbTfnYw6VdB90zuUN7njJ5hoEg8CTwnyLuygCGvTLvnHK6kxooP9q/qN3rmv2f/+20fff/fEUyvsYkKDshtQczRpiPrp81OOxOvGLRFDtSTePzirmk0T+l0P6bkGeUqA3Q7YHWlpbZ+qwbOhkbbBvk9LiwA2nlPAwyvCKP3OVMmOTXTz8BALePyultLS0sKCAj23eeaatLx7V9O7NTauWb1p0QwgEcNOI0Opp2NBVWLh/SWMymTiPlHoSvJTbTAqnUal88pj/VLbVq9bs37DEjqGtC+ZTCr/pkjIl+GHPYh7FAsmk02b1DNeRNz28vKy8prGqTqfRgGxjK6iwQKlJUXNXUI6kNTW1U+ypjGpsRBLKDqayvWVpVUN7TQ6paWhnoOCK+ULpUDSdfPsL3/7x0hkkuZODp0OO8XTt/slxRhKGiqU0sKi5m4BDUjra2rHOSMwOmTC7lJY6ipqRA+i1PUirkJlvbx7VHNOY+YhFWGYVNLV2cbhdLU3N8Te9S6gOK+0U1Wx89AQd2gaWdla6FVXNalQgbKqGpCK+NyOO1HJAqiIqzqYS4oT8qs43R3Jd4Or+SjNxCKh/P4HiUgowU0yiVgkkbCVVWkUGZfPTQmL5qILeYGro0F6ejGnqykuLV9MoQHAv3Xpckl9e2tNbka7+myLfjekTRhlbRMPT09PN/up2O43CJUnXjx07M03jx05snW2fh1f+bVXntCY3GWYmEwg4AsEk1M1Fux46t2jR94+cuSNA0sbazu3Pv2isx7r2i+nXvvg2xaZupOtcUmc36HDR/xSamYsWOlqMKmHxsCI8Pn9LleeUlgHnntTni87Zhq3cKkvHP7fpO8s7w9NRW++p6fHHDelByr22e6envM8PPQmYy/uEBCLK4bh39oMKOxsykhPTU5JSUjNQrfn9iEpyEqJT8vmiQl7RWFmXFoun9dV18aVu5QVZMQlpnVwOWWV9dBaX1XJlyL3tvrqdgEy8Tsaqps50NBaXRSXkNbB49XVE+uqyvIyEjPzO9qaGzv4yC7lZKQkp2QV4h70MX33SHY0Vmbml0CVfkTGGEdxaXFeUTlK8FEymj2SIk5LVlauvAB0NFTml9XK3bltdTm5eZVNHXLrkIxzj6RUWFKQU1TdQlhHzQT3SHY2VGXnFckL6lj5f75HktzmPR6mrwgbPVMdR3Kb92Tx/1yEjdCRnM4DDVPIQ5UsMDADzi+eFKY6jlQcwjIFIN8fYDbhsfl3hmWmLqfwJHzYJcAIeySv37q1acMGkXDyz+SbvjBZrODbtzesW/cwJAudTs/Jy9PR0THQ15/EzYBTHUcajVZRWSmVyWysradi/x2VRquvr+/s6nJ+IDt8YVVva2urrq2d5e4+2isXJ4mpyykovGDSJaakLFuyRDy67R9TDSzt0bGxG9evJ+w4I4iwX//4Y94wd75OCjCZIFjfaZ9oed9Yp+fRvfbowNBhfwWbEqRxEraJwmAw0tLTZ8+aNdZkQdci4YqBTPEqcpgCvfoCdO6XGiNDp9GqqqvV1NQ0JnW/9FjjiPRAfFP9KNOZRqU2NTfDVDA0MJiKfdFQprS3t/P4fFMTk7H6j1QPlEejjAoC/oTD4bS0tlpbWo5pu09vkZAzpo/KGVNOyasbNIymjME3YaNYVFrq6jSRK8pRyegXwftU05GBPrW2ta1bs4awy8ETbVgCgoII05QhludbD+MY0OS0NPAI49DIxjVKeh/GnywyqHMMERpYzdCxzfCpYmqMhpzc3OaWMQ8/j8hY4zhkvO5DZVVVWXk5YZkCGhob8wsKCMvYkI01LpDOzs70jAzCMhZgnhN5Lx1nMR1TTsG4jamIhUdFEabxAlU5PH6o6BNOE2DMY2EwcQnT1CCtT3nl8ImK3vV8bdk/Xo0hzKMmKzK4oOk+im77r79fn9xojC9Z2opjjr199NXDH+W3K4S2OP7W4SNHX3/zzVdfP3Twwx/Gep8QLPpT0VcafRwrM6O+OPn+K2+8+eFXPyaWNBOuIwHDPBXB7gX5Pnb9TtpR+um7bx9683hoztj2e0IlaDzREdZ/duzNw2/BUvHG86+8cSd3tKnXn1HmlJRT88/P3xx64/XD7396ObjfdTDDgyfhxHRkQdmRN2AEj7x6+PALr7wSVzsFGjfx/38JDKN4Ll4Y4+1DKMFUuhJ7zAuW6Ewm434Hs1HZbFavKvuvIW07f/2OpomphqrygAtQ6XQGQ9ng8RcPvXX48OEntyv/y3kyRnh1XgF32BYLjrzyhLqkOcAncErXl08xkltXbsi0DbVVVZiMB3KqJZXKZCnNWrnr3aNH3nr95TmTf+FIH2H+XvltzOdff3OFnWZShG9K/VSNDikCax97wYYnjh85fOT1Q866k5+q/7oIk2Fs0/3LDc8HZhBOcgQd0REhXt7+KYXEXbapyUm1ZdleYUnQ3FqdF+DvHxAaLT8Ah0qlcVrKw4L8/O8l31/IN5Zk+vj7BoZGNeHX3ko7KhNzy9ITwm8F3G7oInK0vjjDx88nJCpNPjraVVfk5+97Oy4TX/06fu5duyAwXLh7mbNILKEoLvTv7urgC7uzUhMzC2sMTc0fSNWZPJSN33j305cObLSxMFFiMIwtbSZt3/UDpyjKK71d75k9q8RCsXzMaKrBBJxOjrC+PD82KU3I1tNRnapzXzEA1hx47dOjL7haW+qqsVU0TM31HsgZs5yOLrGoujgzNjGDqmmqOQWbQP/9Fl8q4tNN59twktObZIAO6y8MkvSfs94O89fv3LFFtSHZN6kSvladHlEGzHeu9IRmMaa2av2mVe7aXj6o10mjCour+Ss3bvXQbvJLVri+uxdYHuszQ++Vge1btm1aNSPwypUO+ENxZ1hEguP8Fbs2zvTzvg1fa8iOzOzU2r51+/o5mrfQtbvcq/7pW7dsW2Kr2cEb/4xPVWpgYA5v3771DIkI1g2hQOGQK20zt2eefGThDIeG/KhPPvuJuHFuWlESdfnNj07X8JUWzHcnnKYbnJr0s8FZG/bu1mdIZBS0qYN4MJVgdPUNex7dsXqhLq37r9OfB2fWEw8mG7k8Zoor33nrmH96tdPchfoP5PAojKmzd/8Tm5fP08SaTn/2SXTZ5F9j/LB0Wpbv2x9/65qMAnuEdNCWQ7Gap4/vG3Fctr4tJxOZWIZu1hrIAHjJaclxcfGFte2cLnSuk0RCnzPHGRr0TUwbyivwd/qDpsrg/9Iya1evmYkcqJqrXDTyKtD2YAu7GeimK6q+CtYNX8orKO5qzA8IDAyOLWpvrRIClbWLza9fuRye26qjNv4WJDosmQK6f/jwzTPeKRqa0h9OflvJ7Ru/0IThNrd1dJm5dcUc0FmVUwWl6xQg4dy7E3DTy6+keVK7elJBaUGh2YpHvjl1cpkp9cK5c21TMcCFCaLDgmDgc2umJnEASI+K5cqkvr9/8tb3XqpaLL9/zkzBVbgDwWiqFuYmDvaOy7dst1CWpWaO+ajF0dNaW1bcbfDZl58fP7A4MeRyeOGDuEdSpqRtYWjk4OCwZtcWdYY0NT2beDB5/NsiDPUk5bOsak9ttPz5fAhapaltzq8uwh0BrzqXaWgODWjmBn9RXJ1Vz7BdtWyRu7OZEN+GjWGYWIK6eTKptN8iT3FCfCr6P8aV0JE4tDRRzS0kjrLLregyNVACMkwilVc4NMkMhYqRgZH97OWbN23asHb9E/t2sYBE02zO3gOPzFSuvhk7/qtwl+3Y/9Rjj734wkub5tt0d4Edj+w2V6FWZkZf94uSAd7FX05//vW3N319LgcnYhpmzqZTMyBCV121dvPunVtt9Sazq8drKvrrz1+++e53b9+baTVtKirqrKlo3insJSs3wsC7TFHiAOCybNP/nnjs2WdfeGLLAl6XcMG67bPN5E3mFJIfeeuTr77+7fKtS/+crREwZrpMydXuOKKgK/98/8PpG37+V8My6Sy2htqk7i0dhpTA8599/fU/t3zP/36ZR2HMcEGqxuTyL4swjEpj9YybKlss8DCiydD0itb+VVbe/r6+fn63c3i7NqK+CYPJpOAijGE210ZSdMsvIDK9xkgTqVA0BvQCf0bp8w2+qMvm3PLyu3Y9bs02tJDEZdV2dnXirQB/P18frdmrzZWABFCY+KE6MCBMJhN24JyWrhUWRHkHBvh4+ebXt0I5mB4T7BUQkNCotGauFf7meDC1dXRzdnaws7E106NS2Q6ujlCxL8zOyszNb5Eov3jkzeVOutkZmUDH/uDBp/Sn1aFRykYzjhx63kKJm5aRr249+7kn90/TsTBtE6sZLi5O9nautqY0CsPcxl6NNeW1w3XNY6/uW9tRmVfSKFm35/Etc1BrPTUwHz90ZKunRXZ6WoNYdd/jz802fhDlbN72g8/vWVKXk17Wzdi+/9mVjlrEg0lEvrZiOMg9kkNC7pGcOOQeycmC3CNJQkJCMl0ZQYQ9VHe+Pjw8VMnCIK/CHQrkO3kV7sSg4xCWh5X/4lW4FGIKcoqAmTql18SOCfIq3CGhkFfhThzyKtz/MORVuBOHvAp3siCvwr0fU3fL5iSBxQT5+AQE+vj6xeXiK8JkzbcC4/FHE0Ik4Aolw2oHE0yW5rK0G7e8vHx9b3l7XQ+OmuBpzeLRXYUr4TXfC/S75hNYXDuqpVWjj2Ne3N0b3j4wOje9bt6OQxepjAZ0Ve2oj3CRCdsjQwKu+wbkV6GbpUYD8v0BnnszzqtwJV0h3jdv+fp6+fhcu+ld2DCeJXujzCleff7Vm17esNT5eF/3DhnNxYJQs5sc5Y5be/PGjeu3Qoe7t3giTPfhfElWYeuWzZu2b9tq2JV9K74SUGUt7ZNw7WNrbXkzZ6oqQHdzVWJyanZubk5OdkZB2dRc7KKArKvq2y++uZ2UkZ+V/PPpL29nT+Yq8PqS3KS09Jzc3KzsrMKKRsJ18hC1l5z68GRgfGpeZsofP30bklVHPPgPgPFzUpPTs3Jy8nIzsrKbuqZwS4C4qyEhOTkzJxf+l5ldIJj6UtfL5T/+TMzMTErNm4oaNd1FGIVOJy7QMDbWbW9phzGio1FVjMPh4c4EfC50UGgDBDxur4t8FEnI5/KERJujrm2orc5qry1r4eG6mKCjsn7S1mqLRAIxVfeV48c/eP+DU2889QD2dZdkJTYA3ZePnfjw6NM6bElBTinxYDLgCyUaRq4njh//+IOPX3tkOeE6eQgltDnL1x376IMPjz2jCQTFFf8hESYWCUTYnPVPnDj+7mcfn1hir024TwFCvhCjMh89dPyDd98/eeJ1vQexBxRREnU1uUNnkbuV/CC2SWe6izAqU9ziHRji7+/jl8ndt8kdtWvNZdHJGelJ4ZeD5D1KYbDvzbiUrPS0mGs+kXKdOzEsMCY5MyMtNuBeGrQ2ZYX+eiUwOz8/MvBGTAnqquTHhuQ0CLW06Leu+0Gr9w1fTHnSbjASiaRqbM6377975N0Pb4Th26emGPvFe7796IiFEijOyOoUMGbOcSQeTAJSsYwmais4dvzYsZPfxuWP7Yya0aCmZ7Vh3ZqisIA//vamGM98dP1c4sH0RyYRU1nsjOC/jrz99he/X2uZio5WD7Crq8yin//qvTfefv9cwJiPtBofkubcPwMzXzz6iq0aJpFRpmJDwHQXYTIRQ3fHpvVbtmzfu3W1GoyNVCpV0lviMWvJyk2qTbmNMlCdEEK1WbFq2cIli1cvMumOKO6S1SaXU61WL1u4ePEqrc68vA5Ap1P1LVzmzp67YfvKvAR0QTSdwaQBGVA2f2qN5Tff/2SxYrelxqTNLrutOPDpifdPfnLyqdUO0f43MxunsuT2Iynk0k8+SesefXG5vS7hNAnQtj33+sfvvf/5qc8X6Mm8vL2mZI8kAEbmNi6OtpTu6sS8oXfyTwoiAZ/D4fAf0CVsgKpuffyTjz868eHXJ14SlSZdvo0OYpkizDw2ffbh+5989Olbe+clh/tHFD2APZLSC39foWiaVCbejS/pUGZxrk/GOPUAprsIg8gUxg8wTEWZ2OJClYqFMsDhCLQ0VeUumlrqXA6fLxB0t1SnpCTFJSQyLJwNlNEOSbYyvt9CBuhUhUECoRTTUlUecLbEhJB2el/750JAAjRy+SIajfJA5kwEwZd+vhFb+djBN1fPNMMmb9EJv7X83G+/3Muogp8QSGRUgMlv7ZxECmKDvvnpd0zPaeH82UqAk5aURTyYAupKC1LSUgtqRjtpMEGKEkLP/HqulgcEHA5GpWFTuHZBcs/r/K/XQ6Gpmyeg06gPZPGHUCCEmldXbGxCXYeQQRNlZhRO+gqa6S7CMKFQcUIPk0EXuVEsEolFwGnRoqww/6ZuIb+7ziuicqGbgYrNbE2Mb+44e/5sh/bWTnUmkKLLcfEcxWQiESpG0AVd7c2tuBZV/8yzT9dHexVMlpZP07DSVc2OvvXK629cjSqw8lg+x3jKtxUWRnsHpJTTKfwrP3968JWDn/8TTjyYMEo6hjrK4oCLp19543hyLW/RstV6k71e1drJDmuv+e7jw6+++02TWHXxMnTg0hRh6TJr+dJls2wMCfsUY2Ztzm0q/uK9N45+eVakarZ19dRFjW5pblCeeueV11//OSDV2M5jmdMUjrv1oHzwxCcfvHP8o/ffW+ek1tCm8tm7T02+xJGvrRiOh36PpLQgt0jhRG4pt7CUuDC1qjC/S35jrrQ7OSYqMjGd13dsuCQ7JTYsLrlTgJx4rTVVLfhNulJeUWkN/H9rTVmbQFZXnNsiQM4YtzmzsBo3ISaeLJ1NVWmpqYWVzYR9Aoxmj2RnY0VqekZGVhb8S89IL6hoIh4Mz5jiWFcGlZfMunbiNuLRMMY9koL83KzUjOxW7mgPmJ82eySl/Nys9PSsQvzu5fEw+pwSddalpKbllRMVZEQmcY9kY0V+YkpuzwXW42fwujBym/d4eKiShdzmPSTkNu+J81/Y5v2gJl6nGQ9VsqB7tabglOSpjuMUBbuXqfV9EHhs/p1yMXVfpf5bURoLI+yR9PL13b5li5C8CrcfLBYLtnvbNm9+GJKFwWBALUxXV9fI0HASB2inOo7ynX1Smcze1nbyN/cBdNVuTV1dZ0eHq4vLVPg/ACqN1trSUlld7TFnznjW6E+AqcspKL5g0sUmJKxesWL0+yimFFjab4eGbtqwgbDjjCDCfvzll9mzZo2vEBASXP4BCpVJp4rE9/MHFrthKiGFyaSLReJhA9rTVtw/LhOBSqXh14ci/xl0OuyhuLm4jPl+UIUU6YdiWzemWMBEq62rU1VRUVdXH7xfenQfHOKL44ij3M9RBp5Kpba2tsL01NPVvc8276HDP4rkgv53dHYK+HwjI6MHMPUGQ8Tj8dra29GO6NF9btxRG8CYc6rnEyN6Dl+EWVNWUeFgZzdWCdAbj0FfUYjhaCLYH/hjPp+/dvVqwi4H+nIfJnYVrkwi7R0/745LKyWMw9DSPOxe5cSEdMI0DFLpJNyyeR9E3a2cfkORAQ/TNu/cvLyW1lbCMnlMdRyrqqvLKyoIyxTQ2NRUUFhIWKaecV+FO3GmNKciJnwV7uQy5rGwcV+Fmxnu73cvIj7q3l+X/dA1G+LW1Gx09nxe4t3yjiEluuDqVX/COBBRRnrusOJa0HjjuldUQmKw99XbaVWE48RIDQ9r5CtEPDvKN7a4b63QeBp2Wdetv0+/dujVv+8VEC49FMfdPPTG4dcOH37l0KvPfzDmq3BhCzlU50UcHXj5naOHX3nr+C+Xgwb4meL/2yuHj7x2+I2XXnvl7S/ODdkDGVMck+9cO3L0jU9+uDX638Aw37/PJWkr+uTdoy+9diy6X8pDCiMvv/zGm4cOH3750KuHP/xxuCtxkO/j6j2MD/xro/2csCHrnbcOv3T0eEoNqhy9NKT7H3z98KE3D7/8+msvvXmSuOhhJMaUUxHXzrz8+utHT98k7PcFxmgcixb5jfmnv/zoxVdfe++z76MVd2sIyqJePHT49TcPv/LGof+9+FbN2KvRYKZmXRivJLRKaeuqFYuXr/7fI1vR+fZoMyP6lvO81VaaQy5zp8BePWGUI6zxi5LXdvjbYQ91i/HzdVi7c/nChRt27F83Cx09nn4vpGmcgpdgzoqVBkoKKcNgshi08aeVqLX0i49OJVZ2ampqKjEHRp/OZLFUDPY//cJrL710cN9GxS+Pk4rk4JvhufO3Prp/5cyK9HveUcR1KnIYTLaKnvmTz7782sGDj+9YPqGT+qTdl3/97HJYtoq6pqrKpIRdjvjGlVsSTQMddVWmYu7TGSxlLcP9Tx2EgX963wZlwnkaIbhwwUtF31hDVZWpWKhodJaymva2R1849NLBF57apU44TxptheEBqS3mJrqqylN394fo9x9+qcVMXnvtBWNax61zF/pvLabSmMpKSmv3Pv/6SwdfeeFxnck4q3Hyilx/lA2VW4tKWjiEtR+ZYf7l+IEi3PbKIB/ve/HZtaWZGRWdKPvo1LrSbC8vr6yaLiDrCPC/m5se430vCT6iUKgUIAyPIa7L7azIyqgkUsbM0jg1IpbQIyigMi8+JiM72Ns7owIdKdNRnefr5xt0L7azp73nd1Tf8ffzDrlX14mPUMq6ElLzKgrSvL29o7PK8VdA7O2gZvxhe2Wut69PRGqJEFPow48Vpo75wqUb3nh2N1M2xMk6nM52npBXXlJU1cR1dLadjH1MmKXH1m8/+2DbkjnONqYMuoqFsQ7xBKervVPI6y4tLqzvAs72FhMqBDS1uR5LXn7pRTNNmlQ2tqGN+5AfcTO7y/DJ7UvEQvGAKbfOtk6RgFteWljdInRwsnnYDxUdRGrg5VKGwxMbPQSigRfudnV0iIX86rKisrpuO1fHSV4jLGv9/ULI0n3POGlThj9HasLIRAs2PfLq808527lYGykDGqN/BnV1dojEotqKooLKFhs3N1y5mShTI8KA6ksv7c2N8Dn9069hWdWEG053W4sQA1hjxtmgwo3bd6xaYJdw93ZJE1Sn6eKG0hZV+507d+aF3Giham7etMTQevaOVZ6woYc9XgBYgsqMWlxWxSdmGBgQV6FYeG5eaY2d++PXX857tYmAhfMCd0uTldt2uFtqNuXc883ib9u6beNS+6t/X4SSU9aSey4ge9WWrTvWL4m9eaG8GyaAMPLuXaGO044dOyyFhZfvonvuOlpaJFTQXhjll8XdsW378pk6WbmV/a53GweMJauWGSgByVCVXN3Q4cC+7c7megWJge9/8mv7JGjXqGLQGNIfTr338Z9+mvaei+wVRJie7ewDOzZZG6ml3rl04syVCW47sJ+z2NZc6/5zNWOiuyr13O38XU8/ZqZCRYmhmGZa5s57d253MNPKj/F5/8s/O6euNk4BrUXRV6OqnnzmgDZVgqHJNMJdjrK+9Z7du2fYGFSn33n34+8aJ3OOEfP+/TeJ5fKtcyz4QsmUHBkhh6rquXC+mRY9/d6VkLTWdfsP9D8dgaFhtHPPAQ9H0/bCmGPvflwxGTeaTpEIA4Ctu233Y4defrE1/mYu1LF60oxKpTIYIDU+fdXWtbgDe+Pa+TQAC6qUqm8zwwD1JW0NQEG1BEhhN7y3VqCsXrPMKTa5EoDGJqa1UT9F2GLG4uefe/GFDTb/XAqCVvgzEa7rJKRWbdw4B73B0FvvppFXK85Ly563dh2uvTK3r3VJzYG+YdbOCx30UHtg5rFOWpkDDTQaajtSUivWbMA3fNC11i1xBxMeWBlOSTGxdXZ1nTVrzvz9GxZg7eUZFZNwqo+Y31le3fna8U+//+Q1YXnE775o73ovVk6ubu7ucz2Xblvu1llZjDchE0M2GaMaPSTcixQCyeVv33nrB191bcbFH75Kqu47A87MzsXNzX3O3EV713nwG6tyJyO5esDyEiJuentFZKEL5KcA7F5YrIwm/v2TN0+cj9RRof753Qc5rX2lwtDKycV1xqxZnk9sXyrrbkrPn7Rj3bC2nMj8Vk5F9GuH38xuZYCa6GO/BRLPpoDQKz+fv1vxzPGTG9wMCCccDVMHVycX95mzHz+wkSmFHaDx383ay9SIMBm3ooYoWCa6uvLbCYgGB4M1GZib6xUWEqc+VVfXYRQUDKxn4BBWdTREgBYxEIIP/hb+mm46j1qfURSf7jyv77iVlroaPu4zVUdfi4VUb5lUSmegH5obsAsriKJfWNlpqMswMtYpKyZKZ1FxjZGxLlRYGhoqiV4mr0LARtoKVPqgtDE1UC4uJ2JRVlYpm5AWhoPmT+QLMxC1Bcn+obCbzPn5i08++vybwDshV4ITpapGTiaTcNdeStCVz7/57tytQB+f0G4RVVkZyeiStKjguFzAr//q5Eeffv1z8O0An6h8FQNjc51J0OhR5AYoFePFbemGR3bvfvyxp3atcud1Sxat2+xiolZXkOQfniqTdP745ccff/V90O3gK6GpbG1dm8lIrh4ozvOX796xc/kMC8JhkqHMX7V5/+5dTzzx9NaF9t0C2YqNu+20KeVZMYFRGbDx/fu7jz/87KuAO3f+9ommK6nZ2RgRv5swFFXzRx/dv3f33meffsxURYJpwZ7sPOLZJCO98eOpkJwG+xkurdnh3n63OQCWuIJrvqEiAG789OmJk5/73bn31+VgQGU5u1gTP5oAUyPCpOLMhOAb3gHe/l5c84WOqkgsyZ/AMi4VAf3Zm/XbE6/f8gsJjyys6aCiEQGF0o/BVl3NRoebezkwBqlwPXrvcieNq5ldc437dDBhe8WNazf9Av2veKVs2oEWjLjNtgu9eiW5pM19/R5J7t1b/oE+XjdZM1aYsYCO6xpzaYGXtz/8r5LutMhCBcgwVbo4NirC39/nSlD+9l1IN4RVUSwETqu2gYLw637+wUGhNQJs4rq3vI731HMsPTYqPDqhQaz62ttH5luyo8Iju9mmz734tOFkjLQu2PXcs1vml2UnxOXVuC/f8cgaF1iQ4uKiIuJTuEpG7xx93UGdHxYRRzNwevGZx9UnPqqKxw1B2CeEoY2Tx5zZ7jNcZ9qZCPkSa2c3FaosAWZSXGI70Hj9rTfnGlHDw6OE6lbPPP0MrrhPG8ztXD1mz3Z3c3Wz1OOJpHYus1gUcULkveiE5G5A/9+Rd1baa0SEhbfR9B995qDNpJ1QB3sdGh6eHrPd3We4zVJnSGRK+s5mk3jgUn9aoLqgosSsL0q7Ex4ZFZssAKAgIzYiOqa0Ddvz2ontc02iwu5WC1V2P/XqDIXhjfFClLxhmOqNcpD6JP/IMg5hGQlJXfKt2DLCMimI6/66HEqYR80DSJbRQ+6RHBJyj+TEEZNX4Q4Htzr9xu1kIQbE3IagTK6n1ShPm5H43c5Z5GFF2CYFDHtILpgiISEZByOIsCm6ZVPFbNY2D8PkuJi0ko5nnt03yp5Tekz87B2PGUzufaMM46cPrCPMo4a8CnfioKtqyatwJwPyKtz7DV9M2VW4FCqdhpIek4nFaG8Q4TwYSs+9thQKLCJIZZrUU0GpNAadKhOJxzChJt+iTF6FOxHIq3AniynMKfIq3GmBoLm0uEl+quEYIK/CnTjkVbiTBXkV7v14IMe6E1Tlxnv5+vkHBgUEB/kH+t/wj8QAFuB3Z5STXC3lWT5+vsFh8Z3CUf4C0VZVkDfq21V7GU+yYILUmLs+AXeK6wfeRNtalQNjHXT7dlBwkF944lhvxhWP7ircsTLVWY+uqh1TsKWciDuBviFhxLV4I4F8H8+5N1ha7F0f/+DixrHdRjrOq3DliDvuBAX43w7rHJeuM8qc4jcV+wQEBsNiFhLsHxw+xNaZQUDNbuLKHSZojwwN8Lsd1cIdb/rcl39nOH9IzF0W7Ny2dcsK++JW9pZNW/ZsWUYB4vqGUe11bcy8c6eMvn3rtlUz9fKKa6GLsKu1exSyjAJ7YhNf8DUiWNevX312MSAsITHq529OecUrrOjrbCiNio6Jjo2Jio6KSMyc4OXe/1WifS753ouJik/pmMpLXKtTAi/63ImJSahuVbiHdEq5ffWf4Ki42IQUzlR214Rt1RFRsJjFwn8iohK5D6SYCeszj7zzgX9EQlz07U8++jS3ZfLbxYdIhBGIJdS+O4QoNHyV6oDxBZl04Ead/Pwyl1nO0MDUsV3gagoNJYl3kvut28Zk6NwfuRl27Pv/moIvrE2MDK9oIfY7oKN75CacfpsExklNZlx+rejAax9//smbhprMwuys/ooE0qKoesc//uTzU59/e+x51YcvT/51OkpiAzNaFs51RA3O1KUPt+qsT8LshZ7KNNSyEY5TTFP2ndBCwSJ3e/jJiezDHRGRUIzRWS+c+PjzT09989kxg6n8Vi9tHDB/4ZovT376+cEtQNqdU6Cw3XBSeMirC5UhbA6LiosKD/4Nvz8K6rb3/L1CImJDA7wicvpudV6+dUvU399eDQlvxDdvd9WXZle1VWTHZxQ3yRozTp/1jomNKmsVg+6qK9duRcTE+N+6Hl2AHwNCoSixqdE+F8TGrpa6KkDaGeDlfTc6xt/7VkY1OsclPiQgLDbu+rUbpW3j30po6r7+9OnPPI3pHaUFnV0CGxe3/ukuFAgYoOWDo28ePv6RT0we4UrSi7Dx74u3l+47uNpJXyTBmIwpmoCT3Dh7Uctjx2Pr3QVCCX4n/NTDqfrtRtTW515fYKoqlmLMqVymK+TzaZj4zPEjrx59/8qdZMJ1ijGym7lnz5aYAJ8/fWON7RduX2xJPJg8HnIRhvFFrMVLF65YvXk2sy6rA9TEB7Nc125ctWzdlp3NqXf7tvgqm7x65PAqV7PQa78EpFapG9nMczR1nrfK3U5fJgPKmoZLlqyw1WV63QpdtXvXquXLt+7a25xyrwMANpsdffUMz3HrYjs96E3S7Tu2K7augy/s2JYTfgcAQWFNu4PLnL379thoT3TVfHly8Mc/3nRa98TeRTaEE47r8ke+PnXy26++eXKV7b1bV7ObJ3N3b3+gMguZnBX0imAyGfJ68k6q6E/w9WsNdHVKS97dtApluiQyIqJ7CgZVCiO84mrFhsyu4DuJLBVGdkJUrfwskylEeuvyZT5TT1STFllQz6KKI0LiJ+++0oGYeW7+9rOTX3/59du758bevhlVMrbBvomgpadvbmLQ0VReUjf58XvYRRhdVY1YO0STCgQYh8urLkiOiIy4FxFpZOc6oDnWM7V97PkXypPQjcFiiUQ+E4xhmJKy/CpcGUfK1u75jZ4KFRZR+M6cVZuKgs7L05bD6ypIiwmPCA+LjLNwcZYC9lPP7m8vSf77j39yGia0rT455OIPtxK2Pvf246tmEE5yME6Qz+Wrt1ORUUahUzFezz2Yk4yUmxAbcSc0vKp9wpu6B1FTkHr77t3EntOKJhVhcwePIuyKDA1OL29mU8XpKckdUyDk25o7aBRxauzdyNRiBptWkp1aOeXDYaK2bp5M1BoaFJRb18GAX09ImIyzG4ZEEhVw7S+fSGiSwmpFowgm8Xbn4Un+v/bOPKyJM4/jMzkmhIRwhCQk4RRJuA+xgCiXgCCgK1W7Pk+32z2eul23dqW2u+5ud2utimi7T2u7rt1uW31WWwselCuEK5FbFBEFEUHlEgMKBIgEEpLsDIyKrUquoeAzn7/edyaZmXfed37zvr95v+9P/O2Bw995h4avigvRDPdJLyArwZiX+WfCdNoZy7boVCrUJ6+ZVE+o1J7LQiaVQFRUdGyocHRC+9BtVF+UJW1CvPjtNSUugYh+lQIR5cPT75mHByRE+FhnSZGbOHjr3FU12wUCVBNKnbXH1s2JRz7+XK4DwkKC1BpGTHTMcm+OSkMhagcLxBcCQqMTgjgdd4xfEUHWKP6msMGCoss/+uGWrX9492AWvDHncPpr2/b2aek8S6Cu+PgbaWlHii9x/cNDHM0ojZsBkbY8MnZ1YpyLnVmWaXoMJ+8XkhISwgPNoNr9EZRfbt2R8cGufXv2bEnwvj1KTPvzO05odHZzsmzj5g/37E7fvWffm+vu3pav27w9fJENug8rqK9t37Vv166MPXteCXG5N0Z6Z2eaWVSDT4LEZlKbyr+Hm9k/T9YwnQOifZFhB9YIPFzuttVtS0vb+t4XWogRGR6E7jAfxJ07d6LJJ9Ha1iYUCNDM3AASLWnWXHvr6RyVSmWzET0qmUK1YbKs6MwAD5uK0vL2AW1URDDpgUuS5+6j7rtW19BEcQuN8uPBW2ycBKNt53ruU5159hY0BssGWd3T1lHgQpJLay4oyM7rYpF1eAgkCo1uZWvr8IKn7bXu+y7unp4sbWl5Td84IyJEQACpfGuNpKp2nOkb6++EnGkKQ28LSKLYc528PD19vH38/f39vARclg2Tbe8m9F3MY/I9AkL9BFyec1hU0osxQYa6Wfv6+2k0Gp1u5sca66ofksvhDjLTzoCY0joCmcV1dOZxLR5W/NMZHR2FOxpslsEPqloLWjM5bi58BtUAd5hSqZTL5Twe0vaMgQRx+C5OXB5keKdCz5qyd/aKCfFmsp1CI1a+tHqFPg5FrVbb2dW1yNV4B5aFrVN8XBjbhu3ts2TTqz93tDS1z3QdLqyHB5qZZmp22FOZV3rm+QMu8zYdXOZtLnCZNw7OTwA4BZrBAmyP/kMwL85PwYIoEW7CjOF5a6pPAusyIi9QNIkNGB/+B2BdmmeAXU3BhZpvTf3HVnUWmffHn37q7+f3UGQAEklEAIkOOZ0FQAKZBKoN0UgbDZGEaLynp6cSkFAhOlSbrUeQXfhHZNJkTfWVwNBgks6YqyWQyOBUVEw4TSKRrl2/7ikQmKK9gIuDhGXSauG++qOFXA2HQCD09fdbWlrSabRnVyVIIJLJSBQp9aRaM5tU3ixlfAbwZQ8NDcEFZ9rZ6SPzBuGWBpEJIDCpVuuj84cb+qhCMe0LM0hGDt8lCCIDmsmJWVrUY8CnQ3xhw8N8Hk9juDBr+qTwo6hSTRg6LwXTmoJbVFdPzyJXVyMKhRUguMogmfcPomwqe1vaBmYGnR2tbcQwmulMeq81Ik1+CvW9W/WtD70/qpr6FjT5TI4dyURThtN1SXJF9kgNbrqwdvxep1RaVnPRDLFa9Q6Fq26oriitqhtSovlng7XM28BQuNqmuuris5W9w/rGPO43LhSuZri8rLi6uQfN6s2ISTLv8UppaWl5jcHrDUyBrcx7wYfCfdz6WrAZpzNz0AwA3DqbN0RCPx0ah7L/Rl2zXpoDC02/uKpjOl0lFWcXl0yn1bcbWmT6TKRSa7RaoydcDfZ198kfTdkxUQLdXZ+/I/1gjkh8KvPLHen/HTGgl/AE4NfvrAJj9UDr+zv+fCQ7V5R7eufOnednRNN4GljLvOFrnvWyUSbln2e890VWtliUt3/3u9/X69VgENW1gR2TvrZz77+3N6eopLyhDd2kN1OiciNn3JYc/3eWqFhcVn7PqKla2NUU3LSwbgamY6AvjMjzpsh6HjSMypb7Md4mzZ2hMvmeixzQzDOxFXrLO6bjuU4MEj0SXSkdUxMPmxs7Q8IQdaQ+kOBaGbhRUtNkqNEgk+FRjLncAhMFBeUM1+Uf7dv3mzjf8Xs3r/ZgNp/xAXKFShgcuTsj48A7v7DSDDdiIFXDju5L5fW96lfS9h5If5tP0zVfuIzuMC+qgW+PZVu7B/AY0FwuaXnvaqmoWREeICBirJF8XjHYnZ8UH1gsmTIlg41j3GAKAIz3XM3KE5dXlGXlVyHb77ft/+RIibQ8NzvrbO353AJx/pkTmRKk2XVVnTyUWSiRlOXmnfkmpwLeouqpz5S0wonMo4ck5eWiKuRnFyS5OfnifFF2YdWM2P1EHkdzewAAtLcb71s7L/Xl1V1EOmXNvcpFdiRAN5KTdaqgpPh0VmazDLFtupGuzJOni0qKTnx35g6yASSQKaqhm4dzLkct84WL3X258mRuXmFhQVZhJeJ/0Nw59NlXZRVVBbmnTpdchDcAgCLvxLdnxEUSibT+5oD5dL+U3/094/03UuFUe+dd0Jov5Om57rbxsFz8Nm382dXy0qOnS6luoRtX6mv05wNOS9f+55P0YC5xsP36oEIjCPBCd5gXiPnHf+ze9qu1kFZlWrfYEMZ6Dp8oS3ktbbmTFaKRxHAV2+cWgx9LguMLqjZEI1pb1hAdFwgnLBy9Vwi4ShWguFF7RQ73rCwBGisuOnLNutQ6aeOapITk1E2qhrJBxPUIuXouiYlZuSYlNYLVL7o2AlEoFAh545EmtMIVkauX+090VN2iBq1NTkhevc5KdqF99JF7M9Dd7qZM19LcuSRoMeTieb/rJqDtUdl7UgGgOlfkl7I+KS7+xY3rz4uRaJK5ouqUDS+uilu16aWwwhwpfAbySPu+ozVv/DoVmbCo6i67Dm5Yk5KYmBTBGi1pGQKIJI2l3cqI5Ulr1hNlV+CrbcjP4USmpiasiomJ9mbT4HHo1FWYC8XRg7slXcC2bb+3naulfS0safZMO/Vgd2vPMLpp4XDzguiDQyd94l/eEIaFBgABhDtfauXc2S9Ae+b48TGIA95tqmiVUQjqitI6rPSxzy9G9CxI4a6a5hFls5wunOo9iP73r+s6h4TYlZF+juMTWkCnZdBQTaINE9XKWFBI8OhTpwV5PHS2tAOfO9g/9DBEro5Mn564OywfHehsLCsrEReXqFiudPCRCXMN8L7WUNs0SBAig1c7Fii7WNvoJEAk08MK+eUqSVFxcVHpWVdv5C2tGBqoKJOK4S2SVi9fZ/gMgI1rrOvkkRIk2C2gGB0c6iyTlhUWF19V0JxtIPji6FS0NwQRiXA7HhiZ5Nqj0m6OA4dgPhOmHe0+mJ7RTRQe2PmWC8NcnbtncVmS+9lX37kvDUtOjoE0dyuRqIXmpLOpNic/v7y+Hc2bm/OiY4dOnUt9/W8vr0Lemhhi4AdB05joGxpWjcngfn9j9yAZVFVLyzHVXk/Ku3Ly8vPFZxVzWUydojQvL7egoNtEp+9TMOb58UuMLfgog7sMCdoIo1YTnJzZ8ABSVHkZhEdbOu2EatqvqZuYQB2cajXSOSdDYFFO7lTk2vEs8ZWYcBeNSqWeRAo2OfUDGHZAKEWlWrEyLiE+Uq3U2M9cPcvKw6JVNGThNu2oWObHPSa+EeKNqMrCQ/xVIGtVfHxMIE8DIHYnJMCNwBYkxMcH8y0Aii08UFQoVBHrXuV0l5yp6wTsvD1oBMHSlYnx8RStmmlHA7Ra+FqmDox8uYeT4Ss8RWckyFXdv5NdUqsxm39E/fXBwx0KYEx2afv2tN9ufrOyU58VNE3C1Y3T23p+x1tpb/71434lNWz541Jzk3HxDVubnBwZvBjNm5XeS/lfiy9BkDb3y31btm5592A2ugMLdLqJ8XGVyvwTFJ4E9fU/7f1w796PMjJeXeZ6Twn9ZffbGAV3nIZk47w2JTk5IYo+l043kB6bkrImKckJm7e1URpJkMGwoAQv8ZiWkAmDApskha0ybXLCcqolgw4RKBQal2UN/w6CKA4OSLeLDEEOXN5oV4ulZ8RYW3Vt0+1V6zewSIAOJFrQbNg2lmSIzOJwkBEVSA0KWHReWlLf3h8RFUF9XA1nbWu1yNffxgKxJpZWVgwHp8UcRGRnYecktB0rlFTJxm1iQoTwf+ycPGyVXaVVdUqGxzJPDtw2IQhicliCoLCRjmYaxzkgyLf7ckXNxevCkHAuHS4KCFEsOSwkNDSZDNnas+m2/AA+QSyt6lXQoyP8rRlMayo65DNRPwhR6W6LPYQCoY+Pj7+vr2CRC3zT0H2Go49GkmLDj40JtbdjCbwCXtr0soA9u9J7/mgkQQLJjuPoJRR6eXn5+fr6eAr47Nk/IhmpkQQJFCrDzd2djzRgAzBRI6kjkJgOfGe+I3YaSSMwXSNpdn5ijWRH5UlRyzCaWcjgGknTwTWS5gLXSM4dVDsuhz53n6txcHCee2YxYeadIMP2Cg9yxHwCwRwwl/OGZgUPhftEkKPjoXBNgzQFmpmvzKKRTN+/39/ff54EwpwnwJXa0trqJRRipB80CAKRKJPJpn1h5g2Fi2kZCQTC4NAQ3Pb01EgaCkggjIyMjI+PczicuQiFC4JjDzSSc3C6mWBYUyAIV01Xd7e7m9s80UjCDYZEJicnJqL5KWYxYTg4ODjzmTn1heHg4OCYF9yE4eDgLGBwE4aDg7OAwU0YDg7OAgY3YTg4OAsY3ITh4OAsYHAThoODs4DBTRgODs4CBjdhODg4CxYA+D/PnUXU+tDGzwAAAABJRU5ErkJggg==)\n"
      ]
    },
    {
      "cell_type": "code",
      "execution_count": null,
      "metadata": {
        "id": "4Q_9ElNDOFVn",
        "outputId": "cc807d41-6c60-4d2f-fb84-b78a715b8cb4",
        "colab": {
          "base_uri": "https://localhost:8080/"
        }
      },
      "outputs": [
        {
          "output_type": "execute_result",
          "data": {
            "text/plain": [
              "-41.40548342518103"
            ]
          },
          "metadata": {},
          "execution_count": 44
        }
      ],
      "source": [
        "prediction = s_mean + ((neighbors['Time']-neighbors['avg_near'])*neighbors['similarities']).sum()/neighbors['similarities'].abs().sum()\n",
        "prediction"
      ]
    },
    {
      "cell_type": "markdown",
      "metadata": {
        "id": "uVRe9TrjOFVn"
      },
      "source": [
        "Há muita variação no tempo jogado, por isso vamos normalizar os valores em 'Time' e 'avg_near'.\n",
        "\n",
        "scaler(): Padronizar um conjunto de dados: média e desvio padrão."
      ]
    },
    {
      "cell_type": "code",
      "execution_count": null,
      "metadata": {
        "scrolled": true,
        "id": "d8xI7fvAOFVo",
        "outputId": "740c8057-caa7-4f39-b953-9bf22e797794",
        "colab": {
          "base_uri": "https://localhost:8080/"
        }
      },
      "outputs": [
        {
          "output_type": "execute_result",
          "data": {
            "text/plain": [
              "array([0.05923022, 0.07615314, 0.21153651, 2.62305271, 0.16076775])"
            ]
          },
          "metadata": {},
          "execution_count": 45
        }
      ],
      "source": [
        "from sklearn.preprocessing import scale\n",
        "X = scale( neighbors['Time'], axis=0, with_mean=False, with_std=True, copy=True )\n",
        "X"
      ]
    },
    {
      "cell_type": "code",
      "execution_count": null,
      "metadata": {
        "id": "HGihJ1L6OFVo",
        "outputId": "569b1f3e-e99f-45be-a840-0851b4ee2a2b",
        "colab": {
          "base_uri": "https://localhost:8080/"
        }
      },
      "outputs": [
        {
          "output_type": "execute_result",
          "data": {
            "text/plain": [
              "array([2.97570313, 0.65384196, 0.99712431, 0.4390057 , 0.17901089])"
            ]
          },
          "metadata": {},
          "execution_count": 46
        }
      ],
      "source": [
        "Y = scale( neighbors['avg_near'], axis=0, with_mean=False, with_std=True, copy=True )\n",
        "Y"
      ]
    },
    {
      "cell_type": "code",
      "execution_count": null,
      "metadata": {
        "id": "3i6aTOASOFVo",
        "outputId": "b64f2a1f-d12b-42a2-9380-7d65b3c00542",
        "colab": {
          "base_uri": "https://localhost:8080/"
        }
      },
      "outputs": [
        {
          "output_type": "execute_result",
          "data": {
            "text/plain": [
              "4.568713829141272"
            ]
          },
          "metadata": {},
          "execution_count": 47
        }
      ],
      "source": [
        "prediction_norm = s_mean + ((X-Y)*neighbors['similarities']).sum()/neighbors['similarities'].abs().sum()\n",
        "prediction_norm"
      ]
    }
  ],
  "metadata": {
    "kernelspec": {
      "display_name": "Python 3",
      "language": "python",
      "name": "python3"
    },
    "language_info": {
      "codemirror_mode": {
        "name": "ipython",
        "version": 3
      },
      "file_extension": ".py",
      "mimetype": "text/x-python",
      "name": "python",
      "nbconvert_exporter": "python",
      "pygments_lexer": "ipython3",
      "version": "3.7.6"
    },
    "colab": {
      "provenance": [],
      "include_colab_link": true
    }
  },
  "nbformat": 4,
  "nbformat_minor": 0
}